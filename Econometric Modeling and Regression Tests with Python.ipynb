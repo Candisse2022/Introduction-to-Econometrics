{
 "cells": [
  {
   "cell_type": "markdown",
   "metadata": {
    "id": "2qXtEhM-9Nty"
   },
   "source": [
    "## Econometric Modeling and Regression Tests with Python"
   ]
  },
  {
   "cell_type": "code",
   "execution_count": 1,
   "metadata": {
    "colab": {
     "base_uri": "https://localhost:8080/"
    },
    "id": "VgpeaMcUUDnW",
    "outputId": "4519d717-870a-4a7f-b61c-02167d02112a"
   },
   "outputs": [
    {
     "name": "stderr",
     "output_type": "stream",
     "text": [
      "/usr/local/lib/python3.7/dist-packages/statsmodels/tools/_testing.py:19: FutureWarning: pandas.util.testing is deprecated. Use the functions in the public API at pandas.testing instead.\n",
      "  import pandas.util.testing as tm\n"
     ]
    }
   ],
   "source": [
    "import numpy as np                     \n",
    "import statsmodels.api as sm     \n",
    "import statsmodels.stats.api as sms\n",
    "import statsmodels\n",
    "import scipy as sp\n",
    "import pandas as pd\n",
    "import matplotlib.pyplot as plt\n",
    "from statsmodels.compat.python import lzip "
   ]
  },
  {
   "cell_type": "markdown",
   "metadata": {
    "id": "6R7Uh8ua255n"
   },
   "source": [
    "## Python Basics\n",
    "\n",
    "Python is an object-oriented programming language. It is designed as a general high-level language which can be used for different things. For this tutorial, python will be used for econometric modeling and preliminaries."
   ]
  },
  {
   "cell_type": "markdown",
   "metadata": {
    "id": "nnwXbfzk255o"
   },
   "source": [
    "## Matrix Algebra"
   ]
  },
  {
   "cell_type": "markdown",
   "metadata": {
    "id": "nQd_3h2l255o"
   },
   "source": [
    "As a preliminary to econometrics, it is important to understand how matrix to vector multiplication works. It will help determine the beta coefficients for the regression models."
   ]
  },
  {
   "cell_type": "code",
   "execution_count": 2,
   "metadata": {
    "colab": {
     "base_uri": "https://localhost:8080/"
    },
    "id": "heSnWbe2255p",
    "outputId": "0852f6fd-8a57-480b-e1a7-e28757e901b3"
   },
   "outputs": [
    {
     "name": "stdout",
     "output_type": "stream",
     "text": [
      "[[  2   4   8  16  32]\n",
      " [  4   8  16  32  64]\n",
      " [  6  12  24  48  96]\n",
      " [  8  16  32  64 128]\n",
      " [ 10  20  40  80 160]]\n"
     ]
    }
   ],
   "source": [
    "# Let's make an Array\n",
    "\n",
    "Array_1 = [1,2,3,4,5]\n",
    "Array_2 = [2,4,8,16,32]\n",
    "\n",
    "# Let's make a Matrix from this array\n",
    "Matrix = np.matrix(Array_1).T @ np.matrix(Array_2)\n",
    "print(Matrix)"
   ]
  },
  {
   "cell_type": "code",
   "execution_count": 3,
   "metadata": {
    "colab": {
     "base_uri": "https://localhost:8080/"
    },
    "id": "8eBcfDPv255q",
    "outputId": "40f37877-3680-427e-ca4c-30aea06939b5"
   },
   "outputs": [
    {
     "data": {
      "text/plain": [
       "array([[ 7,  9,  7,  3,  8,  6, 10,  5,  7,  2],\n",
       "       [ 2,  8,  7,  1,  2,  7,  9, 10,  5,  9],\n",
       "       [ 3, 10,  5,  6,  6,  9,  7,  7,  5,  6],\n",
       "       [ 7,  2,  3,  1,  5,  2,  7,  1,  2,  2],\n",
       "       [ 4,  3,  4,  5,  6,  6,  1,  6,  8,  9],\n",
       "       [ 3,  1,  3,  3,  5,  8,  5, 10,  1,  3],\n",
       "       [ 3, 10,  1,  1,  7,  2,  8,  3,  1,  2],\n",
       "       [ 6,  8,  6,  3,  9, 10,  3,  5,  8, 10],\n",
       "       [10,  4,  3,  4, 10,  2,  3,  5,  3, 10],\n",
       "       [ 8,  8,  2,  8,  3,  5,  7,  5,  5, 10]])"
      ]
     },
     "execution_count": 3,
     "metadata": {},
     "output_type": "execute_result"
    }
   ],
   "source": [
    "n = 10\n",
    "Matrices = np.random.randint(1,11, size = (10,10))\n",
    "Matrices"
   ]
  },
  {
   "cell_type": "code",
   "execution_count": 4,
   "metadata": {
    "colab": {
     "base_uri": "https://localhost:8080/"
    },
    "id": "E50euQCN255r",
    "outputId": "6e449426-f5a7-4b6b-d5ca-cc6df64fc5ea"
   },
   "outputs": [
    {
     "data": {
      "text/plain": [
       "array([[2, 9, 7, 7, 3, 5, 6, 4, 3, 5]])"
      ]
     },
     "execution_count": 4,
     "metadata": {},
     "output_type": "execute_result"
    }
   ],
   "source": [
    "Vector = np.random.randint(1,10, size = (1,10))\n",
    "Vector"
   ]
  },
  {
   "cell_type": "code",
   "execution_count": 5,
   "metadata": {
    "colab": {
     "base_uri": "https://localhost:8080/"
    },
    "id": "SWmI9-rO255r",
    "outputId": "c997b423-58f3-48b5-8276-0c2935b87c25"
   },
   "outputs": [
    {
     "data": {
      "text/plain": [
       "array([[241, 332, 209, 164, 277, 293, 331, 302, 209, 315]])"
      ]
     },
     "execution_count": 5,
     "metadata": {},
     "output_type": "execute_result"
    }
   ],
   "source": [
    "Vector @ Matrices"
   ]
  },
  {
   "cell_type": "code",
   "execution_count": 6,
   "metadata": {
    "colab": {
     "base_uri": "https://localhost:8080/"
    },
    "id": "H-lP87TT255s",
    "outputId": "24ea2db6-406f-4b93-c140-b1585f52257d"
   },
   "outputs": [
    {
     "data": {
      "text/plain": [
       "array([[345, 320, 209, 202, 351, 271, 305, 266, 244, 355],\n",
       "       [320, 503, 276, 229, 387, 378, 426, 355, 308, 404],\n",
       "       [209, 276, 207, 137, 251, 268, 257, 255, 218, 270],\n",
       "       [202, 229, 137, 171, 210, 215, 193, 206, 178, 259],\n",
       "       [351, 387, 251, 210, 429, 341, 340, 324, 283, 383],\n",
       "       [271, 378, 268, 215, 341, 403, 333, 372, 295, 385],\n",
       "       [305, 426, 257, 193, 340, 333, 436, 341, 253, 327],\n",
       "       [266, 355, 255, 206, 324, 372, 341, 395, 263, 384],\n",
       "       [244, 308, 218, 178, 283, 295, 253, 263, 267, 330],\n",
       "       [355, 404, 270, 259, 383, 385, 327, 384, 330, 519]])"
      ]
     },
     "execution_count": 6,
     "metadata": {},
     "output_type": "execute_result"
    }
   ],
   "source": [
    "Matrices.T @ Matrices"
   ]
  },
  {
   "cell_type": "code",
   "execution_count": 7,
   "metadata": {
    "colab": {
     "base_uri": "https://localhost:8080/"
    },
    "id": "HC-TIN2G255t",
    "outputId": "92364fcd-8f50-478f-f35c-1d745d5a1b36"
   },
   "outputs": [
    {
     "data": {
      "text/plain": [
       "array([[ 1., -0., -0., -0.,  0.,  0.,  0.,  0.,  0., -0.],\n",
       "       [-0.,  1.,  0.,  0.,  0., -0.,  0., -0., -0.,  0.],\n",
       "       [ 0.,  0.,  1.,  0.,  0., -0., -0., -0., -0., -0.],\n",
       "       [-0.,  0., -0.,  1.,  0., -0.,  0., -0.,  0., -0.],\n",
       "       [-0., -0., -0.,  0.,  1., -0., -0., -0., -0., -0.],\n",
       "       [-0., -0., -0., -0.,  0.,  1.,  0., -0., -0., -0.],\n",
       "       [ 0.,  0.,  0., -0.,  0.,  0.,  1., -0., -0., -0.],\n",
       "       [ 0.,  0., -0., -0.,  0.,  0., -0.,  1.,  0., -0.],\n",
       "       [-0., -0.,  0.,  0.,  0., -0.,  0., -0.,  1.,  0.],\n",
       "       [-0.,  0., -0., -0.,  0., -0., -0.,  0., -0.,  1.]])"
      ]
     },
     "execution_count": 7,
     "metadata": {},
     "output_type": "execute_result"
    }
   ],
   "source": [
    "MTM = Matrices.T @ Matrices\n",
    "MTM_inv = np.linalg.inv(Matrices.T @ Matrices)\n",
    "(MTM @ MTM_inv).round(2)"
   ]
  },
  {
   "cell_type": "code",
   "execution_count": 8,
   "metadata": {
    "colab": {
     "base_uri": "https://localhost:8080/"
    },
    "id": "ibGr_WtX255t",
    "outputId": "eaea51cb-47ee-4cbc-9ff7-7c5aa0460c53"
   },
   "outputs": [
    {
     "data": {
      "text/plain": [
       "array([[ 0.18087013, -0.03122038, -0.22637841, -0.17894904, -0.1905635 ,\n",
       "         0.09074996, -0.06589209,  0.12223726,  0.04613463,  0.15262987],\n",
       "       [ 0.11708569, -0.00046702, -0.05791879, -0.21381772, -0.14105246,\n",
       "        -0.00544163,  0.0118668 ,  0.06929172,  0.04476884,  0.06666379],\n",
       "       [ 0.03848582,  0.07209479,  0.29836712,  0.04485979, -0.10547076,\n",
       "        -0.13418338, -0.22258412, -0.08999159,  0.1682628 , -0.15915039],\n",
       "       [-0.04431757, -0.05346845,  0.2684006 ,  0.07129027,  0.06328613,\n",
       "        -0.0630977 , -0.08042722, -0.15609725,  0.0501052 , -0.03426402],\n",
       "       [-0.09304795, -0.03767707,  0.11229502,  0.12020204,  0.12175316,\n",
       "        -0.02469211,  0.0787444 , -0.05238648,  0.02449426, -0.12892534],\n",
       "       [-0.05972686, -0.04296833, -0.0105728 ,  0.05649642, -0.07417739,\n",
       "         0.07644001, -0.01047474,  0.14874643, -0.09804806,  0.04088549],\n",
       "       [-0.13876334,  0.03131002,  0.06573283,  0.2578075 ,  0.13513531,\n",
       "        -0.0289734 ,  0.08174391, -0.08614007, -0.09930591, -0.03526011],\n",
       "       [ 0.14232592,  0.02487451, -0.17824217, -0.23243156, -0.0220261 ,\n",
       "         0.11706254,  0.02243136, -0.01889725,  0.04258126,  0.05911382],\n",
       "       [ 0.09602594, -0.01733934, -0.22073236, -0.05111674,  0.17936531,\n",
       "         0.01760133,  0.08776638,  0.01666035, -0.12806826,  0.06620844],\n",
       "       [-0.17487154,  0.06080841,  0.07811604,  0.14520932,  0.06305644,\n",
       "        -0.06879476,  0.02137327, -0.00758784,  0.00747389, -0.03593782]])"
      ]
     },
     "execution_count": 8,
     "metadata": {},
     "output_type": "execute_result"
    }
   ],
   "source": [
    "np.linalg.inv(Matrices.T @ Matrices) @ Matrices.T"
   ]
  },
  {
   "cell_type": "code",
   "execution_count": 9,
   "metadata": {
    "colab": {
     "base_uri": "https://localhost:8080/"
    },
    "id": "FSujta5w255u",
    "outputId": "6b031dd3-a6b6-4bfb-f10b-275072595e85"
   },
   "outputs": [
    {
     "data": {
      "text/plain": [
       "array([[-1.87932632],\n",
       "       [-1.30655985],\n",
       "       [ 0.15464932],\n",
       "       [ 0.55439803],\n",
       "       [ 1.03586536],\n",
       "       [ 0.41738506],\n",
       "       [ 2.20126967],\n",
       "       [-1.3646472 ],\n",
       "       [-0.70076619],\n",
       "       [ 1.54662643]])"
      ]
     },
     "execution_count": 9,
     "metadata": {},
     "output_type": "execute_result"
    }
   ],
   "source": [
    "np.linalg.inv(Matrices.T @ Matrices) @ Matrices.T @ Vector.T"
   ]
  },
  {
   "cell_type": "markdown",
   "metadata": {
    "id": "nkxLyuqp255u"
   },
   "source": [
    "This is basically:\n",
    "\n",
    "$$\\hat \\beta = (X^TX)^{-1}X^Ty$$\n",
    "\n",
    "Where $y$ is the output vector (or vector of the outcome variables), and $X$ is the matrix of independent variables."
   ]
  },
  {
   "cell_type": "code",
   "execution_count": 10,
   "metadata": {
    "colab": {
     "base_uri": "https://localhost:8080/"
    },
    "id": "Xz_8wGQn255v",
    "outputId": "8b58d3e8-75ef-4d1e-e295-c68c7c8b97e0"
   },
   "outputs": [
    {
     "data": {
      "text/plain": [
       "array([[-1.87932632],\n",
       "       [-1.30655985],\n",
       "       [ 0.15464932],\n",
       "       [ 0.55439803],\n",
       "       [ 1.03586536],\n",
       "       [ 0.41738506],\n",
       "       [ 2.20126967],\n",
       "       [-1.3646472 ],\n",
       "       [-0.70076619],\n",
       "       [ 1.54662643]])"
      ]
     },
     "execution_count": 10,
     "metadata": {},
     "output_type": "execute_result"
    }
   ],
   "source": [
    "X = Matrices\n",
    "y = Vector.T\n",
    "\n",
    "np.linalg.inv(X.T @ X) @ X.T @ y"
   ]
  },
  {
   "cell_type": "markdown",
   "metadata": {
    "id": "Ei9Pd3z0255v"
   },
   "source": [
    "The output represents the beta coefficients, which will be helpful in regression analysis."
   ]
  },
  {
   "cell_type": "markdown",
   "metadata": {
    "id": "Yx8rpV94iDzh"
   },
   "source": [
    "## Importing Datasets"
   ]
  },
  {
   "cell_type": "code",
   "execution_count": 11,
   "metadata": {
    "colab": {
     "base_uri": "https://localhost:8080/",
     "height": 1000
    },
    "id": "P_f4xvEU9ehz",
    "outputId": "470f7a4d-66f8-43a4-8f52-635f66d004d9"
   },
   "outputs": [
    {
     "data": {
      "text/html": [
       "\n",
       "  <div id=\"df-f0d06fed-51b6-489a-8625-dce10a6eb837\">\n",
       "    <div class=\"colab-df-container\">\n",
       "      <div>\n",
       "<style scoped>\n",
       "    .dataframe tbody tr th:only-of-type {\n",
       "        vertical-align: middle;\n",
       "    }\n",
       "\n",
       "    .dataframe tbody tr th {\n",
       "        vertical-align: top;\n",
       "    }\n",
       "\n",
       "    .dataframe thead th {\n",
       "        text-align: right;\n",
       "    }\n",
       "</style>\n",
       "<table border=\"1\" class=\"dataframe\">\n",
       "  <thead>\n",
       "    <tr style=\"text-align: right;\">\n",
       "      <th></th>\n",
       "      <th>Country</th>\n",
       "      <th>Cellphone</th>\n",
       "      <th>Income</th>\n",
       "      <th>PC</th>\n",
       "    </tr>\n",
       "  </thead>\n",
       "  <tbody>\n",
       "    <tr>\n",
       "      <th>0</th>\n",
       "      <td>Argentina</td>\n",
       "      <td>17.76</td>\n",
       "      <td>11410.0</td>\n",
       "      <td>8.20</td>\n",
       "    </tr>\n",
       "    <tr>\n",
       "      <th>1</th>\n",
       "      <td>Australia</td>\n",
       "      <td>71.95</td>\n",
       "      <td>28780.0</td>\n",
       "      <td>60.18</td>\n",
       "    </tr>\n",
       "    <tr>\n",
       "      <th>2</th>\n",
       "      <td>Belgium</td>\n",
       "      <td>79.28</td>\n",
       "      <td>28920.0</td>\n",
       "      <td>31.81</td>\n",
       "    </tr>\n",
       "    <tr>\n",
       "      <th>3</th>\n",
       "      <td>Brazil</td>\n",
       "      <td>26.36</td>\n",
       "      <td>7510.0</td>\n",
       "      <td>7.48</td>\n",
       "    </tr>\n",
       "    <tr>\n",
       "      <th>4</th>\n",
       "      <td>Bulgaria</td>\n",
       "      <td>46.64</td>\n",
       "      <td>75.4</td>\n",
       "      <td>5.19</td>\n",
       "    </tr>\n",
       "    <tr>\n",
       "      <th>5</th>\n",
       "      <td>Canada</td>\n",
       "      <td>41.90</td>\n",
       "      <td>30040.0</td>\n",
       "      <td>48.70</td>\n",
       "    </tr>\n",
       "    <tr>\n",
       "      <th>6</th>\n",
       "      <td>China</td>\n",
       "      <td>21.48</td>\n",
       "      <td>4980.0</td>\n",
       "      <td>2.76</td>\n",
       "    </tr>\n",
       "    <tr>\n",
       "      <th>7</th>\n",
       "      <td>Colombia</td>\n",
       "      <td>14.13</td>\n",
       "      <td>6410.0</td>\n",
       "      <td>4.93</td>\n",
       "    </tr>\n",
       "    <tr>\n",
       "      <th>8</th>\n",
       "      <td>Czech Republic</td>\n",
       "      <td>96.46</td>\n",
       "      <td>15600.0</td>\n",
       "      <td>17.74</td>\n",
       "    </tr>\n",
       "    <tr>\n",
       "      <th>9</th>\n",
       "      <td>Ecuador</td>\n",
       "      <td>18.92</td>\n",
       "      <td>3940.0</td>\n",
       "      <td>3.24</td>\n",
       "    </tr>\n",
       "    <tr>\n",
       "      <th>10</th>\n",
       "      <td>Egypt</td>\n",
       "      <td>8.45</td>\n",
       "      <td>3940.0</td>\n",
       "      <td>2.91</td>\n",
       "    </tr>\n",
       "    <tr>\n",
       "      <th>11</th>\n",
       "      <td>France</td>\n",
       "      <td>69.59</td>\n",
       "      <td>27640.0</td>\n",
       "      <td>34.71</td>\n",
       "    </tr>\n",
       "    <tr>\n",
       "      <th>12</th>\n",
       "      <td>Germany</td>\n",
       "      <td>78.52</td>\n",
       "      <td>27610.0</td>\n",
       "      <td>48.47</td>\n",
       "    </tr>\n",
       "    <tr>\n",
       "      <th>13</th>\n",
       "      <td>Greece</td>\n",
       "      <td>90.23</td>\n",
       "      <td>19900.0</td>\n",
       "      <td>8.17</td>\n",
       "    </tr>\n",
       "    <tr>\n",
       "      <th>14</th>\n",
       "      <td>Guatemala</td>\n",
       "      <td>13.15</td>\n",
       "      <td>4090.0</td>\n",
       "      <td>1.44</td>\n",
       "    </tr>\n",
       "    <tr>\n",
       "      <th>15</th>\n",
       "      <td>Hunagry</td>\n",
       "      <td>76.88</td>\n",
       "      <td>13840.0</td>\n",
       "      <td>10.84</td>\n",
       "    </tr>\n",
       "    <tr>\n",
       "      <th>16</th>\n",
       "      <td>India</td>\n",
       "      <td>2.47</td>\n",
       "      <td>2880.0</td>\n",
       "      <td>0.72</td>\n",
       "    </tr>\n",
       "    <tr>\n",
       "      <th>17</th>\n",
       "      <td>Indonesia</td>\n",
       "      <td>8.74</td>\n",
       "      <td>3210.0</td>\n",
       "      <td>1.19</td>\n",
       "    </tr>\n",
       "    <tr>\n",
       "      <th>18</th>\n",
       "      <td>Italy</td>\n",
       "      <td>101.76</td>\n",
       "      <td>26830.0</td>\n",
       "      <td>23.07</td>\n",
       "    </tr>\n",
       "    <tr>\n",
       "      <th>19</th>\n",
       "      <td>Japan</td>\n",
       "      <td>67.90</td>\n",
       "      <td>28450.0</td>\n",
       "      <td>38.22</td>\n",
       "    </tr>\n",
       "    <tr>\n",
       "      <th>20</th>\n",
       "      <td>Mexico</td>\n",
       "      <td>29.47</td>\n",
       "      <td>8980.0</td>\n",
       "      <td>8.30</td>\n",
       "    </tr>\n",
       "    <tr>\n",
       "      <th>21</th>\n",
       "      <td>Netherlands</td>\n",
       "      <td>76.76</td>\n",
       "      <td>28560.0</td>\n",
       "      <td>46.66</td>\n",
       "    </tr>\n",
       "    <tr>\n",
       "      <th>22</th>\n",
       "      <td>Pakistan</td>\n",
       "      <td>1.75</td>\n",
       "      <td>2040.0</td>\n",
       "      <td>0.42</td>\n",
       "    </tr>\n",
       "    <tr>\n",
       "      <th>23</th>\n",
       "      <td>Poland</td>\n",
       "      <td>45.09</td>\n",
       "      <td>11210.0</td>\n",
       "      <td>14.20</td>\n",
       "    </tr>\n",
       "    <tr>\n",
       "      <th>24</th>\n",
       "      <td>Russia</td>\n",
       "      <td>24.93</td>\n",
       "      <td>8950.0</td>\n",
       "      <td>8.87</td>\n",
       "    </tr>\n",
       "    <tr>\n",
       "      <th>25</th>\n",
       "      <td>Saudi Arabia</td>\n",
       "      <td>32.11</td>\n",
       "      <td>13230.0</td>\n",
       "      <td>13.67</td>\n",
       "    </tr>\n",
       "    <tr>\n",
       "      <th>26</th>\n",
       "      <td>South Africa</td>\n",
       "      <td>36.36</td>\n",
       "      <td>10130.0</td>\n",
       "      <td>7.26</td>\n",
       "    </tr>\n",
       "    <tr>\n",
       "      <th>27</th>\n",
       "      <td>Spain</td>\n",
       "      <td>91.61</td>\n",
       "      <td>22150.0</td>\n",
       "      <td>19.60</td>\n",
       "    </tr>\n",
       "    <tr>\n",
       "      <th>28</th>\n",
       "      <td>Sweden</td>\n",
       "      <td>98.05</td>\n",
       "      <td>26710.0</td>\n",
       "      <td>62.13</td>\n",
       "    </tr>\n",
       "    <tr>\n",
       "      <th>29</th>\n",
       "      <td>Switzerland</td>\n",
       "      <td>84.34</td>\n",
       "      <td>32220.0</td>\n",
       "      <td>70.87</td>\n",
       "    </tr>\n",
       "    <tr>\n",
       "      <th>30</th>\n",
       "      <td>Thailand</td>\n",
       "      <td>39.42</td>\n",
       "      <td>7450.0</td>\n",
       "      <td>3.98</td>\n",
       "    </tr>\n",
       "    <tr>\n",
       "      <th>31</th>\n",
       "      <td>U.K.</td>\n",
       "      <td>91.17</td>\n",
       "      <td>27690.0</td>\n",
       "      <td>40.57</td>\n",
       "    </tr>\n",
       "    <tr>\n",
       "      <th>32</th>\n",
       "      <td>U.S.</td>\n",
       "      <td>54.58</td>\n",
       "      <td>37750.0</td>\n",
       "      <td>65.98</td>\n",
       "    </tr>\n",
       "    <tr>\n",
       "      <th>33</th>\n",
       "      <td>Venezuala</td>\n",
       "      <td>27.30</td>\n",
       "      <td>4750.0</td>\n",
       "      <td>6.09</td>\n",
       "    </tr>\n",
       "  </tbody>\n",
       "</table>\n",
       "</div>\n",
       "      <button class=\"colab-df-convert\" onclick=\"convertToInteractive('df-f0d06fed-51b6-489a-8625-dce10a6eb837')\"\n",
       "              title=\"Convert this dataframe to an interactive table.\"\n",
       "              style=\"display:none;\">\n",
       "        \n",
       "  <svg xmlns=\"http://www.w3.org/2000/svg\" height=\"24px\"viewBox=\"0 0 24 24\"\n",
       "       width=\"24px\">\n",
       "    <path d=\"M0 0h24v24H0V0z\" fill=\"none\"/>\n",
       "    <path d=\"M18.56 5.44l.94 2.06.94-2.06 2.06-.94-2.06-.94-.94-2.06-.94 2.06-2.06.94zm-11 1L8.5 8.5l.94-2.06 2.06-.94-2.06-.94L8.5 2.5l-.94 2.06-2.06.94zm10 10l.94 2.06.94-2.06 2.06-.94-2.06-.94-.94-2.06-.94 2.06-2.06.94z\"/><path d=\"M17.41 7.96l-1.37-1.37c-.4-.4-.92-.59-1.43-.59-.52 0-1.04.2-1.43.59L10.3 9.45l-7.72 7.72c-.78.78-.78 2.05 0 2.83L4 21.41c.39.39.9.59 1.41.59.51 0 1.02-.2 1.41-.59l7.78-7.78 2.81-2.81c.8-.78.8-2.07 0-2.86zM5.41 20L4 18.59l7.72-7.72 1.47 1.35L5.41 20z\"/>\n",
       "  </svg>\n",
       "      </button>\n",
       "      \n",
       "  <style>\n",
       "    .colab-df-container {\n",
       "      display:flex;\n",
       "      flex-wrap:wrap;\n",
       "      gap: 12px;\n",
       "    }\n",
       "\n",
       "    .colab-df-convert {\n",
       "      background-color: #E8F0FE;\n",
       "      border: none;\n",
       "      border-radius: 50%;\n",
       "      cursor: pointer;\n",
       "      display: none;\n",
       "      fill: #1967D2;\n",
       "      height: 32px;\n",
       "      padding: 0 0 0 0;\n",
       "      width: 32px;\n",
       "    }\n",
       "\n",
       "    .colab-df-convert:hover {\n",
       "      background-color: #E2EBFA;\n",
       "      box-shadow: 0px 1px 2px rgba(60, 64, 67, 0.3), 0px 1px 3px 1px rgba(60, 64, 67, 0.15);\n",
       "      fill: #174EA6;\n",
       "    }\n",
       "\n",
       "    [theme=dark] .colab-df-convert {\n",
       "      background-color: #3B4455;\n",
       "      fill: #D2E3FC;\n",
       "    }\n",
       "\n",
       "    [theme=dark] .colab-df-convert:hover {\n",
       "      background-color: #434B5C;\n",
       "      box-shadow: 0px 1px 3px 1px rgba(0, 0, 0, 0.15);\n",
       "      filter: drop-shadow(0px 1px 2px rgba(0, 0, 0, 0.3));\n",
       "      fill: #FFFFFF;\n",
       "    }\n",
       "  </style>\n",
       "\n",
       "      <script>\n",
       "        const buttonEl =\n",
       "          document.querySelector('#df-f0d06fed-51b6-489a-8625-dce10a6eb837 button.colab-df-convert');\n",
       "        buttonEl.style.display =\n",
       "          google.colab.kernel.accessAllowed ? 'block' : 'none';\n",
       "\n",
       "        async function convertToInteractive(key) {\n",
       "          const element = document.querySelector('#df-f0d06fed-51b6-489a-8625-dce10a6eb837');\n",
       "          const dataTable =\n",
       "            await google.colab.kernel.invokeFunction('convertToInteractive',\n",
       "                                                     [key], {});\n",
       "          if (!dataTable) return;\n",
       "\n",
       "          const docLinkHtml = 'Like what you see? Visit the ' +\n",
       "            '<a target=\"_blank\" href=https://colab.research.google.com/notebooks/data_table.ipynb>data table notebook</a>'\n",
       "            + ' to learn more about interactive tables.';\n",
       "          element.innerHTML = '';\n",
       "          dataTable['output_type'] = 'display_data';\n",
       "          await google.colab.output.renderOutput(dataTable, element);\n",
       "          const docLink = document.createElement('div');\n",
       "          docLink.innerHTML = docLinkHtml;\n",
       "          element.appendChild(docLink);\n",
       "        }\n",
       "      </script>\n",
       "    </div>\n",
       "  </div>\n",
       "  "
      ],
      "text/plain": [
       "           Country  Cellphone   Income     PC\n",
       "0        Argentina      17.76  11410.0   8.20\n",
       "1        Australia      71.95  28780.0  60.18\n",
       "2          Belgium      79.28  28920.0  31.81\n",
       "3           Brazil      26.36   7510.0   7.48\n",
       "4         Bulgaria      46.64     75.4   5.19\n",
       "5           Canada      41.90  30040.0  48.70\n",
       "6            China      21.48   4980.0   2.76\n",
       "7         Colombia      14.13   6410.0   4.93\n",
       "8   Czech Republic      96.46  15600.0  17.74\n",
       "9          Ecuador      18.92   3940.0   3.24\n",
       "10           Egypt       8.45   3940.0   2.91\n",
       "11          France      69.59  27640.0  34.71\n",
       "12         Germany      78.52  27610.0  48.47\n",
       "13          Greece      90.23  19900.0   8.17\n",
       "14       Guatemala      13.15   4090.0   1.44\n",
       "15         Hunagry      76.88  13840.0  10.84\n",
       "16           India       2.47   2880.0   0.72\n",
       "17       Indonesia       8.74   3210.0   1.19\n",
       "18           Italy     101.76  26830.0  23.07\n",
       "19           Japan      67.90  28450.0  38.22\n",
       "20          Mexico      29.47   8980.0   8.30\n",
       "21     Netherlands      76.76  28560.0  46.66\n",
       "22        Pakistan       1.75   2040.0   0.42\n",
       "23          Poland      45.09  11210.0  14.20\n",
       "24          Russia      24.93   8950.0   8.87\n",
       "25    Saudi Arabia      32.11  13230.0  13.67\n",
       "26    South Africa      36.36  10130.0   7.26\n",
       "27           Spain      91.61  22150.0  19.60\n",
       "28          Sweden      98.05  26710.0  62.13\n",
       "29     Switzerland      84.34  32220.0  70.87\n",
       "30        Thailand      39.42   7450.0   3.98\n",
       "31            U.K.      91.17  27690.0  40.57\n",
       "32            U.S.      54.58  37750.0  65.98\n",
       "33       Venezuala      27.30   4750.0   6.09"
      ]
     },
     "execution_count": 11,
     "metadata": {},
     "output_type": "execute_result"
    }
   ],
   "source": [
    "data = pd.read_csv('New_Phone.csv')  \n",
    "data"
   ]
  },
  {
   "cell_type": "markdown",
   "metadata": {
    "id": "Fxng4tV5Tfg3"
   },
   "source": [
    "## Statistics"
   ]
  },
  {
   "cell_type": "markdown",
   "metadata": {
    "id": "tuu5bNkU255y"
   },
   "source": [
    "Another preliminary to econometrics is statistics. It is important to understand what the p-values, t statistics, beta coefficients, and other statistics represent for econometric modeling."
   ]
  },
  {
   "cell_type": "code",
   "execution_count": 12,
   "metadata": {
    "colab": {
     "base_uri": "https://localhost:8080/"
    },
    "id": "t4GbwVY30MXc",
    "outputId": "084da4f7-b20d-411e-dbe3-783e3d1700b9"
   },
   "outputs": [
    {
     "name": "stdout",
     "output_type": "stream",
     "text": [
      "                            OLS Regression Results                            \n",
      "==============================================================================\n",
      "Dep. Variable:                     PC   R-squared:                       0.829\n",
      "Model:                            OLS   Adj. R-squared:                  0.824\n",
      "Method:                 Least Squares   F-statistic:                     155.2\n",
      "Date:                Fri, 17 Jun 2022   Prob (F-statistic):           8.14e-14\n",
      "Time:                        13:46:34   Log-Likelihood:                -122.54\n",
      "No. Observations:                  34   AIC:                             249.1\n",
      "Df Residuals:                      32   BIC:                             252.1\n",
      "Df Model:                           1                                         \n",
      "Covariance Type:            nonrobust                                         \n",
      "==============================================================================\n",
      "                 coef    std err          t      P>|t|      [0.025      0.975]\n",
      "------------------------------------------------------------------------------\n",
      "const         -6.5833      2.744     -2.399      0.022     -12.172      -0.994\n",
      "Income         0.0018      0.000     12.457      0.000       0.001       0.002\n",
      "==============================================================================\n",
      "Omnibus:                        2.240   Durbin-Watson:                   2.149\n",
      "Prob(Omnibus):                  0.326   Jarque-Bera (JB):                1.127\n",
      "Skew:                           0.191   Prob(JB):                        0.569\n",
      "Kurtosis:                       3.806   Cond. No.                     3.37e+04\n",
      "==============================================================================\n",
      "\n",
      "Warnings:\n",
      "[1] Standard Errors assume that the covariance matrix of the errors is correctly specified.\n",
      "[2] The condition number is large, 3.37e+04. This might indicate that there are\n",
      "strong multicollinearity or other numerical problems.\n"
     ]
    },
    {
     "name": "stderr",
     "output_type": "stream",
     "text": [
      "/usr/local/lib/python3.7/dist-packages/statsmodels/tsa/tsatools.py:117: FutureWarning: In a future version of pandas all arguments of concat except for the argument 'objs' will be keyword-only\n",
      "  x = pd.concat(x[::order], 1)\n"
     ]
    }
   ],
   "source": [
    "x_0 = data ['Income']\n",
    "y_0 = data ['PC']\n",
    "x_0 = sm.add_constant (x_0)\n",
    "model = sm.OLS(y_0,x_0)\n",
    "result = model.fit()\n",
    "print(result.summary())"
   ]
  },
  {
   "cell_type": "code",
   "execution_count": 13,
   "metadata": {
    "colab": {
     "base_uri": "https://localhost:8080/"
    },
    "id": "l1nId-Z7Tf9K",
    "outputId": "31f46032-f3a6-4692-bd3c-a521abf969c7"
   },
   "outputs": [
    {
     "data": {
      "text/plain": [
       "const         1.000000\n",
       "Income    15819.864706\n",
       "dtype: float64"
      ]
     },
     "execution_count": 13,
     "metadata": {},
     "output_type": "execute_result"
    }
   ],
   "source": [
    "## Mean\n",
    "Mean = np.mean(x_0)\n",
    "Mean"
   ]
  },
  {
   "cell_type": "code",
   "execution_count": 14,
   "metadata": {
    "colab": {
     "base_uri": "https://localhost:8080/"
    },
    "id": "_qc5B-CNTunq",
    "outputId": "6ec7fe25-05c3-4893-b0a0-348d0cd8f661"
   },
   "outputs": [
    {
     "data": {
      "text/plain": [
       "38.2"
      ]
     },
     "execution_count": 14,
     "metadata": {},
     "output_type": "execute_result"
    }
   ],
   "source": [
    "from pandas.compat.numpy.function import MEDIAN_DEFAULTS\n",
    "## Median\n",
    "Median = np.median(x_0)\n",
    "Median"
   ]
  },
  {
   "cell_type": "code",
   "execution_count": 15,
   "metadata": {
    "colab": {
     "base_uri": "https://localhost:8080/"
    },
    "id": "2pmWqz7-dhiu",
    "outputId": "e8831484-9564-4764-f3f7-eca1b256a6bc"
   },
   "outputs": [
    {
     "name": "stdout",
     "output_type": "stream",
     "text": [
      "[[1.00e+00 3.94e+03]]\n"
     ]
    }
   ],
   "source": [
    "## Mode\n",
    "import scipy.stats\n",
    "Mode = scipy.stats.mode(x_0)\n",
    "print(Mode[0])"
   ]
  },
  {
   "cell_type": "code",
   "execution_count": 16,
   "metadata": {
    "colab": {
     "base_uri": "https://localhost:8080/"
    },
    "id": "SmlPY3bqT0D9",
    "outputId": "700cb97d-422d-4555-f973-64f95f2bc005"
   },
   "outputs": [
    {
     "data": {
      "text/plain": [
       "const         0.000000\n",
       "Income    11060.230596\n",
       "dtype: float64"
      ]
     },
     "execution_count": 16,
     "metadata": {},
     "output_type": "execute_result"
    }
   ],
   "source": [
    "## Standard Deviation\n",
    "Stdev = np.std(x_0)\n",
    "Stdev"
   ]
  },
  {
   "cell_type": "markdown",
   "metadata": {
    "id": "7ovd9QaC2550"
   },
   "source": [
    "## Introduction to Econometrics"
   ]
  },
  {
   "cell_type": "markdown",
   "metadata": {
    "id": "9xD0yWT92550"
   },
   "source": [
    "Econometric modeling is important to determine relationship between the independent and dependent variables. This will help understnad how market and economic trends change overtime. However, given that econometric regression models may have biases, it is important to test for assumptions and conduct regression tests for heteroscedasticity, autocorrelation, multicollinearity, and the like. "
   ]
  },
  {
   "cell_type": "markdown",
   "metadata": {
    "id": "1FUk0oHJT4xw"
   },
   "source": [
    "### Classical Linear Regression"
   ]
  },
  {
   "cell_type": "markdown",
   "metadata": {
    "id": "jg35qQu82551"
   },
   "source": [
    "Derive the generalized form of the OLS estimator for the ***coefficients for a multiple-variable regression model*** for independent variables $X_k$ where $k = 1,...,K$."
   ]
  },
  {
   "cell_type": "markdown",
   "metadata": {
    "id": "hqS-nuOb2551"
   },
   "source": [
    "Matrix algebra will be applied to this equation in the next steps to derive the generalized form of the OLS estimator with respect to the beta coefficients.\n",
    "\n",
    "$\n",
    "\\begin {bmatrix}\n",
    "y_{1}\\\\\n",
    "y_{2}\\\\\n",
    "\\vdots\\\\\n",
    "y_{n}\n",
    "\\end{bmatrix} = \n",
    "\\begin{bmatrix}\n",
    "1 & X_{11} & X_{21} & \\cdots & X_{k1}\\\\\n",
    "1 & X_{12} & X_{22} & \\cdots & X_{k2}\\\\\n",
    "\\vdots & \\vdots & \\vdots & \\ddots & \\vdots\n",
    "\\\\\n",
    "1 & X_{1n} & X_{2n} & \\cdots & X_{kn}\n",
    "\\end{bmatrix}\n",
    "\\begin{bmatrix}\n",
    "\\hat\\beta_{0}\\\\\n",
    "\\hat\\beta_{1}\\\\\n",
    "\\vdots\\\\\n",
    "\\hat\\beta_{k}\n",
    "\\end{bmatrix} +\n",
    "\\begin{bmatrix}\n",
    "\\hat\\epsilon_{0}\\\\\n",
    "\\hat\\epsilon_{1}\\\\\n",
    "\\vdots\\\\\n",
    "\\hat\\epsilon_{n}\n",
    "\\end{bmatrix}\n",
    "$"
   ]
  },
  {
   "cell_type": "markdown",
   "metadata": {
    "id": "gXYQ02Jm2551"
   },
   "source": [
    "The matrix for errors or $\\hat\\epsilon$ will be isolated to the other side of the equation. This will be helpful for the next step, where the matrix of $\\hat\\epsilon$ will be manipulated to form the equation for the residual sum of squares. \n",
    "\n",
    "$\n",
    "\\begin{bmatrix}\n",
    "\\hat\\epsilon_{0}\\\\\n",
    "\\hat\\epsilon_{1}\\\\\n",
    "\\vdots\\\\\n",
    "\\hat\\epsilon_{n}\n",
    "\\end{bmatrix} = \n",
    "\\begin {bmatrix}\n",
    "y_{1}\\\\\n",
    "y_{2}\\\\\n",
    "\\vdots\\\\\n",
    "y_{n}\n",
    "\\end{bmatrix}  -\n",
    "\\begin{pmatrix}\n",
    "\\begin{bmatrix}\n",
    "1 & X_{11} & X_{21} & \\cdots & X_{k1}\\\\\n",
    "1 & X_{12} & X_{22} & \\cdots & X_{k2}\\\\\n",
    "\\vdots & \\vdots & \\vdots & \\ddots & \\vdots\n",
    "\\\\\n",
    "1 & X_{1n} & X_{2n} & \\cdots & X_{kn}\n",
    "\\end{bmatrix}\n",
    "\\begin{bmatrix}\n",
    "\\hat\\beta_{0}\\\\\n",
    "\\hat\\beta_{1}\\\\\n",
    "\\vdots\\\\\n",
    "\\hat\\beta_{k}\n",
    "\\end{bmatrix}\n",
    "\\end{pmatrix}\n",
    "$"
   ]
  },
  {
   "cell_type": "markdown",
   "metadata": {
    "id": "jLShQo7v2551"
   },
   "source": [
    "\n",
    "In the k-variable or multi-variable regression model, it's important to minimize the residual sum of squares to ensure that the OLS estimator follows all assumptions.\n",
    "\n",
    "The original form of the equation for residual sum of squares is stated as:\n",
    "\n",
    "$\\sum\\hat\\epsilon^{2}_{n} = \\sum(Y_{n}-\\hat\\beta_{0}-\\hat\\beta_{1}X_{1n} - \\cdots -\\hat\\beta_{k}X_{kn})^{2}$.\n",
    "\n",
    "In matrix notation, the above equation is equivalent to minimizing $\\hat\\epsilon^{T}\\hat\\epsilon$, as seen below. \n",
    "\n",
    "$\\hat\\epsilon^{T}\\hat\\epsilon = \\begin{bmatrix}\n",
    "\\hat \\epsilon_{0} & \\hat \\epsilon_{1} & \\cdots & \\hat \\epsilon_{n}\n",
    "\\end{bmatrix}\n",
    "\\begin{bmatrix}\n",
    "\\hat \\epsilon_{0}\\\\\n",
    "\\hat \\epsilon_{1}\\\\\n",
    "\\vdots \\\\\n",
    "\\hat \\epsilon_{n}\n",
    "\\end{bmatrix}\n",
    " = \\hat \\epsilon^{2}_{0} + \\hat \\epsilon^{2}_{1} + \\cdots + \\hat\\epsilon^{2}_{n} = \\sum\\hat\\epsilon^{2}_{n} $\n",
    "\n",
    "With this, the transpose of the matrix of $\\hat\\epsilon$ will be multiplied to the matrix of $\\hat\\epsilon$. Subsequently, on the other side of the equation, the transpose of the matrix of $(y - X\\hat\\beta)$ will also be multiplied to the matrix of $(y - X\\hat\\beta)$. \n",
    "\n",
    "$\\hat\\epsilon^{T}\\hat\\epsilon = (y-X\\hat\\beta)^{T}(y-X\\hat\\beta)$\n",
    "\n",
    "$\\hat\\epsilon^{T}\\hat\\epsilon = y^{T}y - 2\\hat\\beta^{T}X^{T}y   + \\hat\\beta^{T}X^{T}X \\hat\\beta$\n",
    "\n",
    "Note: Since $\\hat\\beta^{T}X^{T}y$ is a scalar, it is equivalent to its transpose, $\\hat\\beta X y^{T}$.\n",
    "\n",
    "The above equation can be restated as follows:\n",
    "\n",
    "$\\hat\\epsilon^{T}\\hat\\epsilon = y^{T}y - 2\\hat\\beta X y^{T}   + \\hat\\beta^{T}X^{T}X \\hat\\beta$\n",
    "\n",
    "In matrix form:\n",
    "\n",
    "$\n",
    "\\begin{pmatrix}\n",
    "\\begin{bmatrix}\n",
    "\\hat \\epsilon_{0} & \\hat \\epsilon_{1} & \\cdots & \\hat \\epsilon_{n}\n",
    "\\end{bmatrix}\n",
    "\\begin{bmatrix}\n",
    "\\hat \\epsilon_{0}\\\\\n",
    "\\hat \\epsilon_{1}\\\\\n",
    "\\vdots \\\\\n",
    "\\hat \\epsilon_{n}\n",
    "\\end{bmatrix}\n",
    "\\end{pmatrix}  = \n",
    "\\begin{pmatrix}\n",
    "\\begin{bmatrix}\n",
    "y_{1} & y_{2} & \\cdots & y_{n}\n",
    "\\end{bmatrix}\n",
    "\\begin{bmatrix}\n",
    "y_{1}\\\\\n",
    "y_{2}\\\\\n",
    "\\vdots\\\\\n",
    "y_{n}\n",
    "\\end{bmatrix} \n",
    "\\end{pmatrix}\n",
    " -2\n",
    "\\begin{pmatrix}\n",
    "\\begin{bmatrix}\n",
    "\\hat\\beta_{0}\\\\\n",
    "\\hat\\beta_{1}\\\\\n",
    "\\vdots \\\\\n",
    "\\hat\\beta_{k}\n",
    "\\end{bmatrix}\n",
    "\\begin{bmatrix}\n",
    "1 & X_{11} & X_{21} & \\cdots & X_{k1}\\\\\n",
    "1 & X_{12} & X_{22} & \\cdots & X_{k2}\\\\\n",
    "\\vdots & \\vdots & \\vdots & \\ddots & \\vdots\n",
    "\\\\\n",
    "1 & X_{1n} & X_{2n} & \\cdots & X_{kn}\n",
    "\\end{bmatrix}\n",
    "\\\n",
    "\\begin{bmatrix}\n",
    "y_{1} & y_{2} & \\cdots & y_{n}\n",
    "\\end{bmatrix}\n",
    "\\end{pmatrix} +\n",
    "\\begin{pmatrix}\n",
    "\\begin{bmatrix}\n",
    "\\hat\\beta_{0} & \\hat\\beta_{1} & \\cdots & \\hat\\beta_{k}\n",
    "\\end{bmatrix}\n",
    "\\begin{bmatrix}\n",
    "1 & 1 & \\cdots & 1 \\\\\n",
    "X_{11} & X_{12} & \\cdots & X_{1n} \\\\\n",
    "X_{21} & X_{22} & \\cdots & X_{2n} \\\\\n",
    "\\vdots & \\vdots & \\ddots & \\vdots \\\\\n",
    "X_{k1} & X_{k2} & \\cdots & X_{kn}\n",
    "\\end{bmatrix}\n",
    "\\begin{bmatrix}\n",
    "1 & X_{11} & X_{21} & \\cdots & X_{k1}\\\\\n",
    "1 & X_{12} & X_{22} & \\cdots & X_{k2}\\\\\n",
    "\\vdots & \\vdots & \\vdots & \\ddots & \\vdots\n",
    "\\\\\n",
    "1 & X_{1n} & X_{2n} & \\cdots & X_{kn}\n",
    "\\end{bmatrix}\n",
    "\\begin{bmatrix}\n",
    "\\hat\\beta_{0}\\\\\n",
    "\\hat\\beta_{1}\\\\\n",
    "\\vdots \\\\\n",
    "\\hat\\beta_{k}\n",
    "\\end{bmatrix}\n",
    "\\end{pmatrix}\n",
    "$"
   ]
  },
  {
   "cell_type": "markdown",
   "metadata": {
    "id": "NlVtnLNN2553"
   },
   "source": [
    "Matrix differentiation needs to be applied since the OLS regression model should be derived with respect to the beta coefficients.\n",
    "\n",
    "Note: since $\\hat\\beta X y^{T}$ is a scalar, it is equivalent to $X y^{T} \\hat\\beta$. From the above equation, $\\frac{∂ (X y^{T} \\hat\\beta)}{\\partial \\hat\\beta} = X^{T}y$ and $\\frac{∂ (\\hat \\beta ^{T} X^{T} X \\hat \\beta)}{\\partial \\hat\\beta} = 2 X^{T} X \\hat\\beta$. \n",
    "\n",
    "The equation for $\\frac{\\partial\\hat\\epsilon^{T}\\hat\\epsilon}{\\partial\\hat\\beta}$ can now be stated as follows:\n",
    "\n",
    "$\\frac{\\partial\\hat\\epsilon^{T}\\hat\\epsilon}{\\partial\\hat\\beta} = -2X^{T}y + 2X^{T}X\\hat\\beta$\n",
    "\n",
    "The equation of $\\frac{\\partial \\hat\\epsilon^{T}\\hat\\epsilon}{\\partial \\hat\\beta}$ should be set to 0 to minimize the log-likelihood of a normal distribution.\n",
    "\n",
    "The equation now becomes: $2X^{T}y = 2 X^{T} X \\hat\\beta$. Dividing both sides by 2, $X^{T}y = X^{T} X \\hat\\beta$.\n",
    "\n",
    "In matrix form:\n",
    "\n",
    "$ \n",
    "\\begin{pmatrix}\n",
    "\\begin{bmatrix}\n",
    "1 & 1 & \\cdots & 1 \\\\\n",
    "X_{11} & X_{12} & \\cdots & X_{1n} \\\\\n",
    "X_{21} & X_{22} & \\cdots & X_{2n} \\\\\n",
    "\\vdots & \\vdots & \\ddots & \\vdots \\\\\n",
    "X_{k1} & X_{k2} & \\cdots & X_{kn}\n",
    "\\end{bmatrix}\n",
    "\\begin {bmatrix}\n",
    "y_{1}\\\\\n",
    "y_{2}\\\\\n",
    "\\vdots\\\\\n",
    "y_{n}\n",
    "\\end{bmatrix} \n",
    "\\end{pmatrix} = \n",
    "\\begin{pmatrix}\n",
    "\\begin{bmatrix}\n",
    "1 & 1 & \\cdots & 1 \\\\\n",
    "X_{11} & X_{12} & \\cdots & X_{1n} \\\\\n",
    "X_{21} & X_{22} & \\cdots & X_{2n} \\\\\n",
    "\\vdots & \\vdots & \\ddots & \\vdots \\\\\n",
    "X_{k1} & X_{k2} & \\cdots & X_{kn}\n",
    "\\end{bmatrix}\n",
    "\\begin{bmatrix}\n",
    "1 & X_{11} & X_{21} & \\cdots & X_{k1} \\\\\n",
    "1 & X_{12} & X_{22} & \\cdots & X_{k2} \\\\\n",
    "\\vdots & \\vdots & \\vdots & \\ddots & \\vdots \\\\\n",
    "1 & X_{1n} & X_{2n} & \\cdots & X_{kn}\n",
    "\\end{bmatrix}\n",
    "\\begin{bmatrix}\n",
    "\\hat\\beta_{0}\\\\\n",
    "\\hat\\beta_{1}\\\\\n",
    "\\vdots \\\\\n",
    "\\hat\\beta_{k}\n",
    "\\end{bmatrix}\n",
    "\\end{pmatrix}\n",
    "$"
   ]
  },
  {
   "cell_type": "markdown",
   "metadata": {
    "id": "gSU8nzsr2554"
   },
   "source": [
    "The matrix for beta coefficients will now be isolated to the one side of the equation. $X^TX$ will be transferred to the other side of the equation using the property of matrix inversion. With this, the generalized form of the OLS estimator for coefficients of a multivariate regression model has been derived.\n",
    "\n",
    "The equation now becomes: $\\hat\\beta = (X^{T}X)^{-1}(X^{T}y)$\n",
    "\n",
    "$\n",
    "\\begin{bmatrix}\n",
    "\\hat\\beta_{0}\\\\\n",
    "\\hat\\beta_{1}\\\\\n",
    "\\vdots \\\\\n",
    "\\hat\\beta_{k}\n",
    "\\end{bmatrix} =\n",
    "\\begin{pmatrix}\n",
    "\\begin{bmatrix}\n",
    "1 & 1 & \\cdots & 1 \\\\\n",
    "X_{11} & X_{12} & \\cdots & X_{1n} \\\\\n",
    "X_{21} & X_{22} & \\cdots & X_{2n} \\\\\n",
    "\\vdots & \\vdots & \\ddots & \\vdots \\\\\n",
    "X_{k1} & X_{k2} & \\cdots & X_{kn}\n",
    "\\end{bmatrix}\n",
    "\\begin{bmatrix}\n",
    "1 & X_{11} & X_{21} & \\cdots & X_{k1} \\\\\n",
    "1 & X_{12} & X_{22} & \\cdots & X_{k2} \\\\\n",
    "\\vdots & \\vdots & \\vdots & \\ddots & \\vdots \\\\\n",
    "1 & X_{1n} & X_{2n} & \\cdots & X_{kn}\n",
    "\\end{bmatrix}\n",
    "\\end{pmatrix}^{-1}\n",
    "\\begin{pmatrix}\n",
    "\\begin{bmatrix}\n",
    "1 & 1 & \\cdots & 1 \\\\\n",
    "X_{11} & X_{12} & \\cdots & X_{1n} \\\\\n",
    "X_{21} & X_{22} & \\cdots & X_{2n} \\\\\n",
    "\\vdots & \\vdots & \\ddots & \\vdots \\\\\n",
    "X_{k1} & X_{k2} & \\cdots & X_{kn}\n",
    "\\end{bmatrix}\n",
    "\\begin {bmatrix}\n",
    "y_{1}\\\\\n",
    "y_{2}\\\\\n",
    "\\vdots\\\\\n",
    "y_{n}\n",
    "\\end{bmatrix} \n",
    "\\end{pmatrix}\n",
    "$"
   ]
  },
  {
   "cell_type": "code",
   "execution_count": 17,
   "metadata": {
    "id": "T9y8WrsqGl4P"
   },
   "outputs": [],
   "source": [
    "## Compute for Standard Error"
   ]
  },
  {
   "cell_type": "markdown",
   "metadata": {
    "id": "q5VzUJAQ2555"
   },
   "source": [
    "The transpose of the matrix for the beta coefficients (from the model in the \"Statistics\" section) will be obtained. This will transform the matrix into a row vector. The transpose matrix of the beta coefficients will then be multiplied to the matrix of X variables. Each column of the transpose matrix of the beta coefficients will be multiplied to each column of the matrix of X variables. The axis will be set equal to 1 to make the array into a row."
   ]
  },
  {
   "cell_type": "code",
   "execution_count": 18,
   "metadata": {
    "colab": {
     "base_uri": "https://localhost:8080/"
    },
    "id": "4JbYlWmvGpl8",
    "outputId": "ace6aa83-9d98-40dc-f496-05035312b546"
   },
   "outputs": [
    {
     "data": {
      "text/plain": [
       "array([-6.58328114e+00,  1.77067321e-03])"
      ]
     },
     "execution_count": 18,
     "metadata": {},
     "output_type": "execute_result"
    }
   ],
   "source": [
    "beta = np.linalg.inv (x_0.T@x_0)@(x_0.T@y_0)\n",
    "beta"
   ]
  },
  {
   "cell_type": "code",
   "execution_count": 19,
   "metadata": {
    "colab": {
     "base_uri": "https://localhost:8080/"
    },
    "id": "Yk6JeGasG6If",
    "outputId": "7869b7be-2318-48c7-f59a-a24bfbea5630"
   },
   "outputs": [
    {
     "data": {
      "text/plain": [
       "0     13.620100\n",
       "1     44.376694\n",
       "2     44.624588\n",
       "3      6.714475\n",
       "4     -6.449772\n",
       "5     46.607742\n",
       "6      2.234671\n",
       "7      4.766734\n",
       "8     21.039221\n",
       "9      0.393171\n",
       "10     0.393171\n",
       "11    42.358126\n",
       "12    42.305006\n",
       "13    28.653116\n",
       "14     0.658772\n",
       "15    17.922836\n",
       "16    -1.483742\n",
       "17    -0.899420\n",
       "18    40.923881\n",
       "19    43.792372\n",
       "20     9.317364\n",
       "21    43.987146\n",
       "22    -2.971108\n",
       "23    13.265965\n",
       "24     9.264244\n",
       "25    16.842725\n",
       "26    11.353638\n",
       "27    32.637130\n",
       "28    40.711400\n",
       "29    50.467810\n",
       "30     6.608234\n",
       "31    42.446660\n",
       "32    60.259632\n",
       "33     1.827417\n",
       "dtype: float64"
      ]
     },
     "execution_count": 19,
     "metadata": {},
     "output_type": "execute_result"
    }
   ],
   "source": [
    "yhat = np.sum(beta.T*x_0, axis = 1) \n",
    "yhat"
   ]
  },
  {
   "cell_type": "code",
   "execution_count": 20,
   "metadata": {
    "colab": {
     "base_uri": "https://localhost:8080/",
     "height": 1000
    },
    "id": "EWI0atCcH14K",
    "outputId": "1c1a061b-318a-45ff-9f91-1954bd6b6ce4"
   },
   "outputs": [
    {
     "data": {
      "text/html": [
       "\n",
       "  <div id=\"df-f0d7b1b6-d0d9-4383-b90f-d05f491a6bdd\">\n",
       "    <div class=\"colab-df-container\">\n",
       "      <div>\n",
       "<style scoped>\n",
       "    .dataframe tbody tr th:only-of-type {\n",
       "        vertical-align: middle;\n",
       "    }\n",
       "\n",
       "    .dataframe tbody tr th {\n",
       "        vertical-align: top;\n",
       "    }\n",
       "\n",
       "    .dataframe thead th {\n",
       "        text-align: right;\n",
       "    }\n",
       "</style>\n",
       "<table border=\"1\" class=\"dataframe\">\n",
       "  <thead>\n",
       "    <tr style=\"text-align: right;\">\n",
       "      <th></th>\n",
       "      <th>const</th>\n",
       "      <th>Income</th>\n",
       "    </tr>\n",
       "  </thead>\n",
       "  <tbody>\n",
       "    <tr>\n",
       "      <th>0</th>\n",
       "      <td>-6.583281</td>\n",
       "      <td>20.203381</td>\n",
       "    </tr>\n",
       "    <tr>\n",
       "      <th>1</th>\n",
       "      <td>-6.583281</td>\n",
       "      <td>50.959975</td>\n",
       "    </tr>\n",
       "    <tr>\n",
       "      <th>2</th>\n",
       "      <td>-6.583281</td>\n",
       "      <td>51.207869</td>\n",
       "    </tr>\n",
       "    <tr>\n",
       "      <th>3</th>\n",
       "      <td>-6.583281</td>\n",
       "      <td>13.297756</td>\n",
       "    </tr>\n",
       "    <tr>\n",
       "      <th>4</th>\n",
       "      <td>-6.583281</td>\n",
       "      <td>0.133509</td>\n",
       "    </tr>\n",
       "    <tr>\n",
       "      <th>5</th>\n",
       "      <td>-6.583281</td>\n",
       "      <td>53.191023</td>\n",
       "    </tr>\n",
       "    <tr>\n",
       "      <th>6</th>\n",
       "      <td>-6.583281</td>\n",
       "      <td>8.817953</td>\n",
       "    </tr>\n",
       "    <tr>\n",
       "      <th>7</th>\n",
       "      <td>-6.583281</td>\n",
       "      <td>11.350015</td>\n",
       "    </tr>\n",
       "    <tr>\n",
       "      <th>8</th>\n",
       "      <td>-6.583281</td>\n",
       "      <td>27.622502</td>\n",
       "    </tr>\n",
       "    <tr>\n",
       "      <th>9</th>\n",
       "      <td>-6.583281</td>\n",
       "      <td>6.976452</td>\n",
       "    </tr>\n",
       "    <tr>\n",
       "      <th>10</th>\n",
       "      <td>-6.583281</td>\n",
       "      <td>6.976452</td>\n",
       "    </tr>\n",
       "    <tr>\n",
       "      <th>11</th>\n",
       "      <td>-6.583281</td>\n",
       "      <td>48.941407</td>\n",
       "    </tr>\n",
       "    <tr>\n",
       "      <th>12</th>\n",
       "      <td>-6.583281</td>\n",
       "      <td>48.888287</td>\n",
       "    </tr>\n",
       "    <tr>\n",
       "      <th>13</th>\n",
       "      <td>-6.583281</td>\n",
       "      <td>35.236397</td>\n",
       "    </tr>\n",
       "    <tr>\n",
       "      <th>14</th>\n",
       "      <td>-6.583281</td>\n",
       "      <td>7.242053</td>\n",
       "    </tr>\n",
       "    <tr>\n",
       "      <th>15</th>\n",
       "      <td>-6.583281</td>\n",
       "      <td>24.506117</td>\n",
       "    </tr>\n",
       "    <tr>\n",
       "      <th>16</th>\n",
       "      <td>-6.583281</td>\n",
       "      <td>5.099539</td>\n",
       "    </tr>\n",
       "    <tr>\n",
       "      <th>17</th>\n",
       "      <td>-6.583281</td>\n",
       "      <td>5.683861</td>\n",
       "    </tr>\n",
       "    <tr>\n",
       "      <th>18</th>\n",
       "      <td>-6.583281</td>\n",
       "      <td>47.507162</td>\n",
       "    </tr>\n",
       "    <tr>\n",
       "      <th>19</th>\n",
       "      <td>-6.583281</td>\n",
       "      <td>50.375653</td>\n",
       "    </tr>\n",
       "    <tr>\n",
       "      <th>20</th>\n",
       "      <td>-6.583281</td>\n",
       "      <td>15.900645</td>\n",
       "    </tr>\n",
       "    <tr>\n",
       "      <th>21</th>\n",
       "      <td>-6.583281</td>\n",
       "      <td>50.570427</td>\n",
       "    </tr>\n",
       "    <tr>\n",
       "      <th>22</th>\n",
       "      <td>-6.583281</td>\n",
       "      <td>3.612173</td>\n",
       "    </tr>\n",
       "    <tr>\n",
       "      <th>23</th>\n",
       "      <td>-6.583281</td>\n",
       "      <td>19.849247</td>\n",
       "    </tr>\n",
       "    <tr>\n",
       "      <th>24</th>\n",
       "      <td>-6.583281</td>\n",
       "      <td>15.847525</td>\n",
       "    </tr>\n",
       "    <tr>\n",
       "      <th>25</th>\n",
       "      <td>-6.583281</td>\n",
       "      <td>23.426007</td>\n",
       "    </tr>\n",
       "    <tr>\n",
       "      <th>26</th>\n",
       "      <td>-6.583281</td>\n",
       "      <td>17.936920</td>\n",
       "    </tr>\n",
       "    <tr>\n",
       "      <th>27</th>\n",
       "      <td>-6.583281</td>\n",
       "      <td>39.220412</td>\n",
       "    </tr>\n",
       "    <tr>\n",
       "      <th>28</th>\n",
       "      <td>-6.583281</td>\n",
       "      <td>47.294681</td>\n",
       "    </tr>\n",
       "    <tr>\n",
       "      <th>29</th>\n",
       "      <td>-6.583281</td>\n",
       "      <td>57.051091</td>\n",
       "    </tr>\n",
       "    <tr>\n",
       "      <th>30</th>\n",
       "      <td>-6.583281</td>\n",
       "      <td>13.191515</td>\n",
       "    </tr>\n",
       "    <tr>\n",
       "      <th>31</th>\n",
       "      <td>-6.583281</td>\n",
       "      <td>49.029941</td>\n",
       "    </tr>\n",
       "    <tr>\n",
       "      <th>32</th>\n",
       "      <td>-6.583281</td>\n",
       "      <td>66.842914</td>\n",
       "    </tr>\n",
       "    <tr>\n",
       "      <th>33</th>\n",
       "      <td>-6.583281</td>\n",
       "      <td>8.410698</td>\n",
       "    </tr>\n",
       "  </tbody>\n",
       "</table>\n",
       "</div>\n",
       "      <button class=\"colab-df-convert\" onclick=\"convertToInteractive('df-f0d7b1b6-d0d9-4383-b90f-d05f491a6bdd')\"\n",
       "              title=\"Convert this dataframe to an interactive table.\"\n",
       "              style=\"display:none;\">\n",
       "        \n",
       "  <svg xmlns=\"http://www.w3.org/2000/svg\" height=\"24px\"viewBox=\"0 0 24 24\"\n",
       "       width=\"24px\">\n",
       "    <path d=\"M0 0h24v24H0V0z\" fill=\"none\"/>\n",
       "    <path d=\"M18.56 5.44l.94 2.06.94-2.06 2.06-.94-2.06-.94-.94-2.06-.94 2.06-2.06.94zm-11 1L8.5 8.5l.94-2.06 2.06-.94-2.06-.94L8.5 2.5l-.94 2.06-2.06.94zm10 10l.94 2.06.94-2.06 2.06-.94-2.06-.94-.94-2.06-.94 2.06-2.06.94z\"/><path d=\"M17.41 7.96l-1.37-1.37c-.4-.4-.92-.59-1.43-.59-.52 0-1.04.2-1.43.59L10.3 9.45l-7.72 7.72c-.78.78-.78 2.05 0 2.83L4 21.41c.39.39.9.59 1.41.59.51 0 1.02-.2 1.41-.59l7.78-7.78 2.81-2.81c.8-.78.8-2.07 0-2.86zM5.41 20L4 18.59l7.72-7.72 1.47 1.35L5.41 20z\"/>\n",
       "  </svg>\n",
       "      </button>\n",
       "      \n",
       "  <style>\n",
       "    .colab-df-container {\n",
       "      display:flex;\n",
       "      flex-wrap:wrap;\n",
       "      gap: 12px;\n",
       "    }\n",
       "\n",
       "    .colab-df-convert {\n",
       "      background-color: #E8F0FE;\n",
       "      border: none;\n",
       "      border-radius: 50%;\n",
       "      cursor: pointer;\n",
       "      display: none;\n",
       "      fill: #1967D2;\n",
       "      height: 32px;\n",
       "      padding: 0 0 0 0;\n",
       "      width: 32px;\n",
       "    }\n",
       "\n",
       "    .colab-df-convert:hover {\n",
       "      background-color: #E2EBFA;\n",
       "      box-shadow: 0px 1px 2px rgba(60, 64, 67, 0.3), 0px 1px 3px 1px rgba(60, 64, 67, 0.15);\n",
       "      fill: #174EA6;\n",
       "    }\n",
       "\n",
       "    [theme=dark] .colab-df-convert {\n",
       "      background-color: #3B4455;\n",
       "      fill: #D2E3FC;\n",
       "    }\n",
       "\n",
       "    [theme=dark] .colab-df-convert:hover {\n",
       "      background-color: #434B5C;\n",
       "      box-shadow: 0px 1px 3px 1px rgba(0, 0, 0, 0.15);\n",
       "      filter: drop-shadow(0px 1px 2px rgba(0, 0, 0, 0.3));\n",
       "      fill: #FFFFFF;\n",
       "    }\n",
       "  </style>\n",
       "\n",
       "      <script>\n",
       "        const buttonEl =\n",
       "          document.querySelector('#df-f0d7b1b6-d0d9-4383-b90f-d05f491a6bdd button.colab-df-convert');\n",
       "        buttonEl.style.display =\n",
       "          google.colab.kernel.accessAllowed ? 'block' : 'none';\n",
       "\n",
       "        async function convertToInteractive(key) {\n",
       "          const element = document.querySelector('#df-f0d7b1b6-d0d9-4383-b90f-d05f491a6bdd');\n",
       "          const dataTable =\n",
       "            await google.colab.kernel.invokeFunction('convertToInteractive',\n",
       "                                                     [key], {});\n",
       "          if (!dataTable) return;\n",
       "\n",
       "          const docLinkHtml = 'Like what you see? Visit the ' +\n",
       "            '<a target=\"_blank\" href=https://colab.research.google.com/notebooks/data_table.ipynb>data table notebook</a>'\n",
       "            + ' to learn more about interactive tables.';\n",
       "          element.innerHTML = '';\n",
       "          dataTable['output_type'] = 'display_data';\n",
       "          await google.colab.output.renderOutput(dataTable, element);\n",
       "          const docLink = document.createElement('div');\n",
       "          docLink.innerHTML = docLinkHtml;\n",
       "          element.appendChild(docLink);\n",
       "        }\n",
       "      </script>\n",
       "    </div>\n",
       "  </div>\n",
       "  "
      ],
      "text/plain": [
       "       const     Income\n",
       "0  -6.583281  20.203381\n",
       "1  -6.583281  50.959975\n",
       "2  -6.583281  51.207869\n",
       "3  -6.583281  13.297756\n",
       "4  -6.583281   0.133509\n",
       "5  -6.583281  53.191023\n",
       "6  -6.583281   8.817953\n",
       "7  -6.583281  11.350015\n",
       "8  -6.583281  27.622502\n",
       "9  -6.583281   6.976452\n",
       "10 -6.583281   6.976452\n",
       "11 -6.583281  48.941407\n",
       "12 -6.583281  48.888287\n",
       "13 -6.583281  35.236397\n",
       "14 -6.583281   7.242053\n",
       "15 -6.583281  24.506117\n",
       "16 -6.583281   5.099539\n",
       "17 -6.583281   5.683861\n",
       "18 -6.583281  47.507162\n",
       "19 -6.583281  50.375653\n",
       "20 -6.583281  15.900645\n",
       "21 -6.583281  50.570427\n",
       "22 -6.583281   3.612173\n",
       "23 -6.583281  19.849247\n",
       "24 -6.583281  15.847525\n",
       "25 -6.583281  23.426007\n",
       "26 -6.583281  17.936920\n",
       "27 -6.583281  39.220412\n",
       "28 -6.583281  47.294681\n",
       "29 -6.583281  57.051091\n",
       "30 -6.583281  13.191515\n",
       "31 -6.583281  49.029941\n",
       "32 -6.583281  66.842914\n",
       "33 -6.583281   8.410698"
      ]
     },
     "execution_count": 20,
     "metadata": {},
     "output_type": "execute_result"
    }
   ],
   "source": [
    "beta.T*x_0"
   ]
  },
  {
   "cell_type": "markdown",
   "metadata": {
    "id": "M05lz_VG2557"
   },
   "source": [
    "\"eps_hat\" is the $\\hat\\epsilon$ or the matrix for the error term. This can be computed by subtracting the transpose of $\\hat y$ of the estimated values for $y$ from the transpose of $y$ of the actual values of $y$. The equation is as follows: $\\hat\\epsilon = y - \\hat y$. Since there are 34 observations (34 rows) and 2 parameters (2 columns), the degree of freedom is 32. The sum of squares of $\\hat\\epsilon$ will then be divided by the degree of freedom to get the standard error of regression."
   ]
  },
  {
   "cell_type": "code",
   "execution_count": 21,
   "metadata": {
    "colab": {
     "base_uri": "https://localhost:8080/"
    },
    "id": "jzfK7u4pH5fT",
    "outputId": "e06f13fd-d092-4a53-b7d8-3854328a60d5"
   },
   "outputs": [
    {
     "data": {
      "text/plain": [
       "0     -5.420100\n",
       "1     15.803306\n",
       "2    -12.814588\n",
       "3      0.765525\n",
       "4     11.639772\n",
       "5      2.092258\n",
       "6      0.525329\n",
       "7      0.163266\n",
       "8     -3.299221\n",
       "9      2.846829\n",
       "10     2.516829\n",
       "11    -7.648126\n",
       "12     6.164994\n",
       "13   -20.483116\n",
       "14     0.781228\n",
       "15    -7.082836\n",
       "16     2.203742\n",
       "17     2.089420\n",
       "18   -17.853881\n",
       "19    -5.572372\n",
       "20    -1.017364\n",
       "21     2.672854\n",
       "22     3.391108\n",
       "23     0.934035\n",
       "24    -0.394244\n",
       "25    -3.172725\n",
       "26    -4.093638\n",
       "27   -13.037130\n",
       "28    21.418600\n",
       "29    20.402190\n",
       "30    -2.628234\n",
       "31    -1.876660\n",
       "32     5.720368\n",
       "33     4.262583\n",
       "dtype: float64"
      ]
     },
     "execution_count": 21,
     "metadata": {},
     "output_type": "execute_result"
    }
   ],
   "source": [
    "eps_hat = ((y_0.T - yhat.T))\n",
    "eps_hat"
   ]
  },
  {
   "cell_type": "code",
   "execution_count": 22,
   "metadata": {
    "colab": {
     "base_uri": "https://localhost:8080/"
    },
    "id": "CfzOdiCFIOWV",
    "outputId": "4d754b64-877f-438a-b282-1c7854df1494"
   },
   "outputs": [
    {
     "data": {
      "text/plain": [
       "84.03453926626128"
      ]
     },
     "execution_count": 22,
     "metadata": {},
     "output_type": "execute_result"
    }
   ],
   "source": [
    "se = np.sum(eps_hat**2)/32\n",
    "se"
   ]
  },
  {
   "cell_type": "markdown",
   "metadata": {
    "id": "YVOy6x2C2559"
   },
   "source": [
    "Before proceeding to the next steps, the model: $y = X \\beta + \\epsilon$ or $\\hat\\beta = (X^{T}X)^{-1}(X^{T}y)$. The model can be restated as follows:\n",
    "\n",
    "$\\hat\\beta = (X^{T}X)^{-1}[(X^{T})(X \\beta + \\epsilon)]$\n",
    "\n",
    ">$=(X^TX)^{-1}X^TX\\beta + (X^TX)^{-1}X^T\\epsilon$\n",
    "\n",
    ">$=\\beta+(X^TX)^{-1}X^T\\epsilon$\n",
    "\n",
    "Therefore, $\\hat\\beta-\\beta = (X^TX)^{-1}X^T\\epsilon$.\n",
    "\n",
    "The variance-covariance for $\\hat\\beta$ is derived as follows:\n",
    "\n",
    "$var-cov(\\hat\\beta) = E[(\\hat\\beta-\\beta)(\\hat\\beta-\\beta)^{T}]$\n",
    "\n",
    ">>>>$=E([(X^TX)^{-1}X^T\\epsilon][(X^TX)^{-1}X^T\\epsilon]^{T})$\n",
    "\n",
    ">>>>$= E[(X^TX)^{-1}X^T\\epsilon\\epsilon^{T}X(X^{T}X)^{-1}]$\n",
    "\n",
    "On the assumption that the values of $X$ are non-stochastic, the variance-covariance of $\\hat\\beta$ can be stated as follows:\n",
    "\n",
    "$var-cov(\\hat\\beta) = (X^{T}X)^{-1}X^TE(\\epsilon\\epsilon^{T})X(X^{T}X)^{-1}$\n",
    "\n",
    ">>>> $=(X^{T}X)^{-1}X^{T}\\sigma^{2}IX(X^{T}X)^{-1}$\n",
    "\n",
    "$var-cov(\\hat\\beta) = \\sigma^{2}(X^{T}X)^{-1}$"
   ]
  },
  {
   "cell_type": "markdown",
   "metadata": {
    "id": "zNYCy46w2559"
   },
   "source": [
    "The covariance matrix will be obtained. Afterwards, its diagonal will be derived to get the variance.\n",
    "\n",
    "The covariance matrix is equivalent to the inverse of the matrix of $X^{T}X$."
   ]
  },
  {
   "cell_type": "code",
   "execution_count": 23,
   "metadata": {
    "colab": {
     "base_uri": "https://localhost:8080/"
    },
    "id": "afF6f9zmIZJ1",
    "outputId": "193fa414-1898-45f8-fc24-0faa020e1252"
   },
   "outputs": [
    {
     "data": {
      "text/plain": [
       "array([[ 8.95842916e-02, -3.80360566e-06],\n",
       "       [-3.80360566e-06,  2.40432249e-10]])"
      ]
     },
     "execution_count": 23,
     "metadata": {},
     "output_type": "execute_result"
    }
   ],
   "source": [
    "CovMx = np.linalg.inv(x_0.T@x_0)\n",
    "CovMx"
   ]
  },
  {
   "cell_type": "code",
   "execution_count": 24,
   "metadata": {
    "colab": {
     "base_uri": "https://localhost:8080/"
    },
    "id": "L5vD1yPrIlTc",
    "outputId": "450f15b1-3248-4a99-ccf2-75c2838e2a85"
   },
   "outputs": [
    {
     "data": {
      "text/plain": [
       "array([8.95842916e-02, 2.40432249e-10])"
      ]
     },
     "execution_count": 24,
     "metadata": {},
     "output_type": "execute_result"
    }
   ],
   "source": [
    "DiagCovMx = np.diag(CovMx)\n",
    "DiagCovMx"
   ]
  },
  {
   "cell_type": "code",
   "execution_count": 25,
   "metadata": {
    "colab": {
     "base_uri": "https://localhost:8080/"
    },
    "id": "9B2M33jrIw2e",
    "outputId": "d0ac9869-17ae-4690-ee8f-f7475b9f2c9e"
   },
   "outputs": [
    {
     "data": {
      "text/plain": [
       "array([7.52817467e+00, 2.02046133e-08])"
      ]
     },
     "execution_count": 25,
     "metadata": {},
     "output_type": "execute_result"
    }
   ],
   "source": [
    "Var_Beta = se*DiagCovMx\n",
    "Var_Beta"
   ]
  },
  {
   "cell_type": "code",
   "execution_count": 26,
   "metadata": {
    "colab": {
     "base_uri": "https://localhost:8080/"
    },
    "id": "JwtFoo-_I2F5",
    "outputId": "134d027f-8aab-4de6-a52e-c65de8664016"
   },
   "outputs": [
    {
     "data": {
      "text/plain": [
       "array([2.74375193e+00, 1.42142933e-04])"
      ]
     },
     "execution_count": 26,
     "metadata": {},
     "output_type": "execute_result"
    }
   ],
   "source": [
    "StdError = np.sqrt(Var_Beta)\n",
    "StdError"
   ]
  },
  {
   "cell_type": "code",
   "execution_count": 27,
   "metadata": {
    "colab": {
     "base_uri": "https://localhost:8080/"
    },
    "id": "wQsge2K_EGRo",
    "outputId": "4c982605-d7c2-4e60-b3aa-72009c1b4aad"
   },
   "outputs": [
    {
     "name": "stdout",
     "output_type": "stream",
     "text": [
      "-2.3993718461373663 12.456990809979692\n"
     ]
    }
   ],
   "source": [
    "## Compute for t-test statistic\n",
    "t_c = beta[0]/StdError[0]\n",
    "t_1 = beta[1]/StdError[1]\n",
    "print(t_c, t_1)"
   ]
  },
  {
   "cell_type": "code",
   "execution_count": 28,
   "metadata": {
    "colab": {
     "base_uri": "https://localhost:8080/"
    },
    "id": "O4P1AVsfEazl",
    "outputId": "fc209185-dd36-45fb-977b-513847fb3bf1"
   },
   "outputs": [
    {
     "name": "stdout",
     "output_type": "stream",
     "text": [
      "0.02241881076117051\n",
      "8.136949902320029e-14\n"
     ]
    }
   ],
   "source": [
    "## Compute for p-value \n",
    "print(scipy.stats.t.sf(np.abs(t_c), 34-2)*2)\n",
    "print(scipy.stats.t.sf(np.abs(t_1), 34-2)*2)"
   ]
  },
  {
   "cell_type": "code",
   "execution_count": 29,
   "metadata": {
    "colab": {
     "base_uri": "https://localhost:8080/"
    },
    "id": "5rqG99og5UbV",
    "outputId": "b61fb66e-aaa0-45ef-8f71-d3c35217c47f"
   },
   "outputs": [
    {
     "data": {
      "text/plain": [
       "15729.30102647059"
      ]
     },
     "execution_count": 29,
     "metadata": {},
     "output_type": "execute_result"
    }
   ],
   "source": [
    "## Compute for Total Sum of Squares\n",
    "TSS = np.sum((y_0 - np.mean(y_0))**2) \n",
    "TSS"
   ]
  },
  {
   "cell_type": "code",
   "execution_count": 30,
   "metadata": {
    "colab": {
     "base_uri": "https://localhost:8080/"
    },
    "id": "cE8CcKDo5Ezw",
    "outputId": "5dc5a065-df15-4314-aef4-9a679aa7e846"
   },
   "outputs": [
    {
     "data": {
      "text/plain": [
       "0.8290384771710511"
      ]
     },
     "execution_count": 30,
     "metadata": {},
     "output_type": "execute_result"
    }
   ],
   "source": [
    "## Compute for R-Squared\n",
    "R_Sq = 1 - (se*32/TSS)  \n",
    "R_Sq"
   ]
  },
  {
   "cell_type": "code",
   "execution_count": 31,
   "metadata": {
    "colab": {
     "base_uri": "https://localhost:8080/"
    },
    "id": "9FBTyQid6Ami",
    "outputId": "e9207876-bd29-453c-bcce-35b8a34e65d4"
   },
   "outputs": [
    {
     "data": {
      "text/plain": [
       "79.09133107412826"
      ]
     },
     "execution_count": 31,
     "metadata": {},
     "output_type": "execute_result"
    }
   ],
   "source": [
    "## Compute for Mean-Squared Error\n",
    "MSE = (se*32)/len(x_0)\n",
    "MSE"
   ]
  },
  {
   "cell_type": "code",
   "execution_count": 32,
   "metadata": {
    "colab": {
     "base_uri": "https://localhost:8080/"
    },
    "id": "86DF8vHO6OmE",
    "outputId": "84e2d2c4-ef8f-4d7a-e2c5-c9550885a131"
   },
   "outputs": [
    {
     "data": {
      "text/plain": [
       "8.893330707565545"
      ]
     },
     "execution_count": 32,
     "metadata": {},
     "output_type": "execute_result"
    }
   ],
   "source": [
    "## Compute for Root Mean-Squared Error\n",
    "RMSE = np.sqrt(MSE)\n",
    "RMSE"
   ]
  },
  {
   "cell_type": "code",
   "execution_count": 33,
   "metadata": {
    "colab": {
     "base_uri": "https://localhost:8080/"
    },
    "id": "lRHZUERgVpVK",
    "outputId": "48afa6c5-a092-4270-8e88-96ed29671e24"
   },
   "outputs": [
    {
     "data": {
      "text/plain": [
       "13040.19576995023"
      ]
     },
     "execution_count": 33,
     "metadata": {},
     "output_type": "execute_result"
    }
   ],
   "source": [
    "result.mse_model"
   ]
  },
  {
   "cell_type": "code",
   "execution_count": 34,
   "metadata": {
    "colab": {
     "base_uri": "https://localhost:8080/"
    },
    "id": "uOcCaMSpMB0w",
    "outputId": "0c4e3785-8363-4bf4-f78c-c95c5e31058b"
   },
   "outputs": [
    {
     "name": "stdout",
     "output_type": "stream",
     "text": [
      "155.17662003991848\n"
     ]
    }
   ],
   "source": [
    "## Compute for F-Statistic\n",
    "F = result.mse_model/result.mse_resid\n",
    "print(F)"
   ]
  },
  {
   "cell_type": "code",
   "execution_count": 35,
   "metadata": {
    "colab": {
     "base_uri": "https://localhost:8080/"
    },
    "id": "12cDjZcbsPDo",
    "outputId": "2599a02a-99dd-41c3-ef5d-ba0575b65e79"
   },
   "outputs": [
    {
     "name": "stdout",
     "output_type": "stream",
     "text": [
      "                            OLS Regression Results                            \n",
      "==============================================================================\n",
      "Dep. Variable:                 Income   R-squared:                       0.890\n",
      "Model:                            OLS   Adj. R-squared:                  0.883\n",
      "Method:                 Least Squares   F-statistic:                     125.2\n",
      "Date:                Fri, 17 Jun 2022   Prob (F-statistic):           1.42e-15\n",
      "Time:                        13:46:34   Log-Likelihood:                -327.32\n",
      "No. Observations:                  34   AIC:                             660.6\n",
      "Df Residuals:                      31   BIC:                             665.2\n",
      "Df Model:                           2                                         \n",
      "Covariance Type:            nonrobust                                         \n",
      "==============================================================================\n",
      "                 coef    std err          t      P>|t|      [0.025      0.975]\n",
      "------------------------------------------------------------------------------\n",
      "const       2485.6445   1225.992      2.027      0.051     -14.783    4986.072\n",
      "PC           361.0188     40.138      8.994      0.000     279.157     442.880\n",
      "Cellphone    112.9249     27.299      4.137      0.000      57.248     168.602\n",
      "==============================================================================\n",
      "Omnibus:                        3.897   Durbin-Watson:                   2.183\n",
      "Prob(Omnibus):                  0.142   Jarque-Bera (JB):                2.539\n",
      "Skew:                          -0.610   Prob(JB):                        0.281\n",
      "Kurtosis:                       3.553   Cond. No.                         120.\n",
      "==============================================================================\n",
      "\n",
      "Warnings:\n",
      "[1] Standard Errors assume that the covariance matrix of the errors is correctly specified.\n"
     ]
    },
    {
     "name": "stderr",
     "output_type": "stream",
     "text": [
      "/usr/local/lib/python3.7/dist-packages/statsmodels/tsa/tsatools.py:117: FutureWarning: In a future version of pandas all arguments of concat except for the argument 'objs' will be keyword-only\n",
      "  x = pd.concat(x[::order], 1)\n"
     ]
    }
   ],
   "source": [
    "x = data [['PC', 'Cellphone']]\n",
    "y = data ['Income']\n",
    "x = sm.add_constant (x)\n",
    "results = sm.OLS(y,x).fit()\n",
    "print(results.summary())"
   ]
  },
  {
   "cell_type": "markdown",
   "metadata": {
    "id": "RCRe80hm256D"
   },
   "source": [
    "<p align = \"justify\"> Looking into the various coefficients of the model, a lot of factors need to be considered when analyzing multiple regression models. The partial regression coefficient of PC  is 361.0188 on the condition that the influenceof the other independent variable on the dependent variable is held constant. Income increases by 361 units for every 1 unit increase in PC sold. The partial regression coefficient of cellphone is 112.9249 on the condition that the influence of the other independent variable on the dependent variable is held constant. The p-values, denoted by (P>|t|) of PC (0.000) and Cellphone (0.000) are all statistically significant. Based on the p-values of these variables, the null hypothesis can be rejected. In addition, looking into the R-squared value, 0.890, 89% of the variation in the dependent variable (Income) is explained by the independent variables.\n",
    "\n",
    "<p align = \"justify\"> One way to determine the validity of the model is to assess whether or not it satisfies OLS assumptions.\n",
    "The Gauss-Markov Theorem has 3 assumptions:\n",
    "1. Unbiased, where the expected value of the estimator E[β1] is equal to the true value of the parameter, β1 E(εi|Xi) = 0\n",
    "2. Minimum Variance in the class of all such linear unbiased estimators, or that the estimator is an efficient estimator. var(εi|Xi) = 0\n",
    "3. Error covariances are zero E(εi,εj|X1,...,Xn) = 0\n",
    "\n",
    "<p align = \"justify\"> With these assumptions, the OLS estimator is expected to be the best linear unbiased estimator. The OLS linear regression should possess all the characteristics listed in the assumptions above.\n",
    "\n",
    "<p align = \"justify\"> Applying this to the model, E(εi|Xi) is not equal to 0. The variance of the OLS linear regression model is not at minimum. Moreover, referring to the computations for the standard error of the beta coefficients, the error covariances are not zero. There is also possiblemulticollinearity between these variables since it's possible that the independent variables are correlated. Based on these assumptions, biasedness exists in the model. On a practical note, it is important to consider other factors that affect income.\n",
    "\n",
    "<p align = \"justify\"> Overall, there are various factors to consider to understand whether or not the model is unbiased. \n"
   ]
  },
  {
   "cell_type": "markdown",
   "metadata": {
    "id": "f61ody4uIAeH"
   },
   "source": [
    "### Normality of Residuals\n",
    "\n",
    "It is important to understand the normality of residuals since this will also help determine whether there is biasedness in the model."
   ]
  },
  {
   "cell_type": "code",
   "execution_count": 36,
   "metadata": {
    "colab": {
     "base_uri": "https://localhost:8080/"
    },
    "id": "b3IWOm4G-yNr",
    "outputId": "08b1fa73-8517-4e8e-b7f9-b63c89d4fe43"
   },
   "outputs": [
    {
     "data": {
      "text/plain": [
       "[('Jarque-Bera', 1.1268062186189556),\n",
       " ('Chi^2 two-tail prob.', 0.5692684808468614),\n",
       " ('Skew', 0.19094958010360286),\n",
       " ('Kurtosis', 3.805943953597599)]"
      ]
     },
     "execution_count": 36,
     "metadata": {},
     "output_type": "execute_result"
    }
   ],
   "source": [
    "name = [\"Jarque-Bera\", \"Chi^2 two-tail prob.\", \"Skew\", \"Kurtosis\"]\n",
    "test = sms.jarque_bera(result.resid) \n",
    "lzip(name, test)"
   ]
  },
  {
   "cell_type": "code",
   "execution_count": 37,
   "metadata": {
    "colab": {
     "base_uri": "https://localhost:8080/"
    },
    "id": "PaXh1IW6_zyT",
    "outputId": "88878d95-e58f-4a08-9bb0-311e12b39770"
   },
   "outputs": [
    {
     "data": {
      "text/plain": [
       "[('Chi^2', 2.239734454064334), ('Two-tail probability', 0.32632311863578073)]"
      ]
     },
     "execution_count": 37,
     "metadata": {},
     "output_type": "execute_result"
    }
   ],
   "source": [
    "name = [\"Chi^2\", \"Two-tail probability\"]\n",
    "test = sms.omni_normtest(result.resid)\n",
    "lzip(name, test)"
   ]
  },
  {
   "cell_type": "code",
   "execution_count": 38,
   "metadata": {
    "colab": {
     "base_uri": "https://localhost:8080/",
     "height": 541
    },
    "id": "DQfFIyeiIp77",
    "outputId": "801d8e1d-4745-4bea-b7b3-cec261f038ea"
   },
   "outputs": [
    {
     "data": {
      "image/png": "[encoded data removed]",
      "text/plain": [
       "<Figure size 432x288 with 1 Axes>"
      ]
     },
     "execution_count": 38,
     "metadata": {},
     "output_type": "execute_result"
    },
    {
     "data": {
      "image/png": "[encoded data removed]",
      "text/plain": [
       "<Figure size 432x288 with 1 Axes>"
      ]
     },
     "metadata": {
      "needs_background": "light"
     },
     "output_type": "display_data"
    }
   ],
   "source": [
    "sm.qqplot(result.resid) "
   ]
  },
  {
   "cell_type": "markdown",
   "metadata": {
    "id": "rvBVQ1_w6dmS"
   },
   "source": [
    "Based on the probability results, the residuals are normally distributed."
   ]
  },
  {
   "cell_type": "markdown",
   "metadata": {
    "id": "Eej27PESIgmj"
   },
   "source": [
    "### Heteroscedastity Test\n",
    "Another assumption of the ordinary least squares regression model is that homoscedasticity exists. If heteroscedasticity exists, the model is biased and ineffective."
   ]
  },
  {
   "cell_type": "code",
   "execution_count": 65,
   "metadata": {
    "colab": {
     "base_uri": "https://localhost:8080/"
    },
    "id": "RuRJtJw4Iprp",
    "outputId": "68e71a80-d23a-4d1e-8e69-7bd671b5a606"
   },
   "outputs": [
    {
     "data": {
      "text/plain": [
       "[('Breusch Pagan Lagrange multiplier statistic', 7.078377088183213),\n",
       " ('p-value', 0.007801963989786586),\n",
       " ('f-value', 8.413611154268157),\n",
       " ('f p-value', 0.006682960871294514)]"
      ]
     },
     "execution_count": 65,
     "metadata": {},
     "output_type": "execute_result"
    }
   ],
   "source": [
    "## Breush-Pagan Test\n",
    "\n",
    "name = [\"Breusch Pagan Lagrange multiplier statistic\", \"p-value\", \"f-value\", \"f p-value\"]\n",
    "test = sms.het_breuschpagan(result.resid, result.model.exog)\n",
    "lzip(name, test)"
   ]
  },
  {
   "cell_type": "markdown",
   "metadata": {
    "id": "A2usAGWUKaYf"
   },
   "source": [
    "Given that the p-value lies below the 5% confidence interval, the null hypothesis is rejected. Heteroscedasticity exists in the model."
   ]
  },
  {
   "cell_type": "markdown",
   "metadata": {
    "id": "hfhhdZbEIOgG"
   },
   "source": [
    "### Multicollinearity Test\n",
    "\n",
    "It is important that the independent variables in the regression model are not correlated to ensure effectiveness and unbiasedness of the model."
   ]
  },
  {
   "cell_type": "code",
   "execution_count": 39,
   "metadata": {
    "colab": {
     "base_uri": "https://localhost:8080/"
    },
    "id": "1VB07pdQIOK6",
    "outputId": "ed6b7c4f-939c-4528-fe13-6673773593b0"
   },
   "outputs": [
    {
     "data": {
      "text/plain": [
       "33687.97943093248"
      ]
     },
     "execution_count": 39,
     "metadata": {},
     "output_type": "execute_result"
    }
   ],
   "source": [
    "## Condition Number\n",
    "np.linalg.cond(result.model.exog)"
   ]
  },
  {
   "cell_type": "code",
   "execution_count": 40,
   "metadata": {
    "colab": {
     "base_uri": "https://localhost:8080/"
    },
    "id": "AoON8ppmQ7nk",
    "outputId": "924b9c59-7f75-4bd0-a1c0-6caa83f4a086"
   },
   "outputs": [
    {
     "name": "stdout",
     "output_type": "stream",
     "text": [
      "     feature       VIF\n",
      "0      const  3.457765\n",
      "1         PC  1.714575\n",
      "2  Cellphone  1.714575\n"
     ]
    },
    {
     "name": "stderr",
     "output_type": "stream",
     "text": [
      "/usr/local/lib/python3.7/dist-packages/statsmodels/tsa/tsatools.py:117: FutureWarning: In a future version of pandas all arguments of concat except for the argument 'objs' will be keyword-only\n",
      "  x = pd.concat(x[::order], 1)\n"
     ]
    }
   ],
   "source": [
    "## Variance Inflation Factor\n",
    "from statsmodels.stats.outliers_influence import variance_inflation_factor\n",
    "vif_data = pd.DataFrame()\n",
    "x = data [['PC', 'Cellphone']]\n",
    "x = sm.add_constant (x)\n",
    "vif_data[\"feature\"] = x.columns\n",
    "vif_data[\"VIF\"]=[variance_inflation_factor(x.values, i) for i in range (len(x.columns))]\n",
    "print(vif_data)"
   ]
  },
  {
   "cell_type": "code",
   "execution_count": 41,
   "metadata": {
    "colab": {
     "base_uri": "https://localhost:8080/"
    },
    "id": "MS6IzQ4fheVc",
    "outputId": "d1f32f62-c5a5-4ae0-daed-989c26e321cf"
   },
   "outputs": [
    {
     "name": "stderr",
     "output_type": "stream",
     "text": [
      "/usr/local/lib/python3.7/dist-packages/statsmodels/tsa/tsatools.py:117: FutureWarning: In a future version of pandas all arguments of concat except for the argument 'objs' will be keyword-only\n",
      "  x = pd.concat(x[::order], 1)\n"
     ]
    },
    {
     "data": {
      "text/plain": [
       "const        3.457765\n",
       "PC           1.714575\n",
       "Cellphone    1.714575\n",
       "Name: VIF, dtype: float64"
      ]
     },
     "execution_count": 41,
     "metadata": {},
     "output_type": "execute_result"
    }
   ],
   "source": [
    "from statsmodels.regression.linear_model import OLS\n",
    "from statsmodels.tools.tools import add_constant\n",
    "\n",
    "def variance_inflation_factors(exog_data):\n",
    "    '''\n",
    "    Parameters\n",
    "    ----------\n",
    "    exog_data : dataframe, (nobs, k_vars)\n",
    "        design matrix with all explanatory variables, as for example used in\n",
    "        regression.\n",
    "\n",
    "    Returns\n",
    "    -------\n",
    "    vif : Series\n",
    "        variance inflation factors\n",
    "    '''\n",
    "    exog_data = add_constant(x)\n",
    "    vifs = pd.Series(\n",
    "        [1 / (1. - OLS(exog_data[col].values, \n",
    "                       exog_data.loc[:, exog_data.columns != col].values).fit().rsquared) \n",
    "         for col in exog_data],\n",
    "        index=exog_data.columns,\n",
    "        name='VIF'\n",
    "    )\n",
    "    return vifs\n",
    "variance_inflation_factors(data)"
   ]
  },
  {
   "cell_type": "code",
   "execution_count": 42,
   "metadata": {
    "id": "Zmlm1VRZIn_s"
   },
   "outputs": [],
   "source": [
    "## Compute for Variance Inflation Factor "
   ]
  },
  {
   "cell_type": "code",
   "execution_count": 43,
   "metadata": {
    "colab": {
     "base_uri": "https://localhost:8080/"
    },
    "id": "8Pp-G1Xrn_v2",
    "outputId": "3049d77a-2c05-40f7-b86f-2a500660af8f"
   },
   "outputs": [
    {
     "data": {
      "text/plain": [
       "PC           1.714575\n",
       "Cellphone    1.714575\n",
       "Name: VIF, dtype: float64"
      ]
     },
     "execution_count": 43,
     "metadata": {},
     "output_type": "execute_result"
    }
   ],
   "source": [
    "x = data [['PC', 'Cellphone']]\n",
    "pd.Series(np.linalg.inv(x.corr().to_numpy()).diagonal(), \n",
    "                 index=x.columns, \n",
    "                 name='VIF')"
   ]
  },
  {
   "cell_type": "code",
   "execution_count": 44,
   "metadata": {
    "colab": {
     "base_uri": "https://localhost:8080/"
    },
    "id": "TXEjZITqohbl",
    "outputId": "73dff868-0835-4f82-b839-41571d9bb234"
   },
   "outputs": [
    {
     "data": {
      "text/plain": [
       "PC           1.714575\n",
       "Cellphone    1.714575\n",
       "dtype: float64"
      ]
     },
     "execution_count": 44,
     "metadata": {},
     "output_type": "execute_result"
    }
   ],
   "source": [
    "x = data [['PC', 'Cellphone']]\n",
    "x_cor = x.corr()\n",
    "pd.Series(np.linalg.inv(x.corr().values).diagonal(), index=x_cor.index)"
   ]
  },
  {
   "cell_type": "code",
   "execution_count": 45,
   "metadata": {
    "colab": {
     "base_uri": "https://localhost:8080/"
    },
    "id": "RYxHtEutD68p",
    "outputId": "af26f001-3163-442d-bdad-46a30a65c9fb"
   },
   "outputs": [
    {
     "name": "stdout",
     "output_type": "stream",
     "text": [
      "[[1.         0.64557354]\n",
      " [0.64557354 1.        ]]\n"
     ]
    }
   ],
   "source": [
    "correl = np.corrcoef(data [['PC', 'Cellphone']], rowvar=0)\n",
    "print(correl)"
   ]
  },
  {
   "cell_type": "code",
   "execution_count": 46,
   "metadata": {
    "colab": {
     "base_uri": "https://localhost:8080/"
    },
    "id": "eVYMzN1kIqNO",
    "outputId": "b1d594e6-e569-4852-dedd-03ca06fcf764"
   },
   "outputs": [
    {
     "data": {
      "text/plain": [
       "array([[ 1.71457531, -1.10688445],\n",
       "       [-1.10688445,  1.71457531]])"
      ]
     },
     "execution_count": 46,
     "metadata": {},
     "output_type": "execute_result"
    }
   ],
   "source": [
    "correl_inv = np.linalg.inv(correl)\n",
    "correl_inv"
   ]
  },
  {
   "cell_type": "code",
   "execution_count": 47,
   "metadata": {
    "colab": {
     "base_uri": "https://localhost:8080/"
    },
    "id": "1N7Q5VhwpZpp",
    "outputId": "f0d7612c-ce2f-4e1b-d5d1-04b9caaea4ee"
   },
   "outputs": [
    {
     "data": {
      "text/plain": [
       "array([1.71457531, 1.71457531])"
      ]
     },
     "execution_count": 47,
     "metadata": {},
     "output_type": "execute_result"
    }
   ],
   "source": [
    "VIF = np.diag(correl_inv)\n",
    "VIF"
   ]
  },
  {
   "cell_type": "markdown",
   "metadata": {
    "id": "AEWqVO5J6dmW"
   },
   "source": [
    "Based on the results, with the VIF being approximately 1.7146, multicollinearity doesn't exist in the model."
   ]
  },
  {
   "cell_type": "markdown",
   "metadata": {
    "id": "SQviOIheytJE"
   },
   "source": [
    "### Autocorrelation Test\n",
    "\n",
    "Autocorrelation tests are needed for data collected for a period of time. To ensure that the model is the best linear unbiased estimator, autocorrelation should not exist in the model. "
   ]
  },
  {
   "cell_type": "code",
   "execution_count": 48,
   "metadata": {
    "id": "lWJ3eZMtyx84"
   },
   "outputs": [],
   "source": [
    "## Durbin-Watson Test"
   ]
  },
  {
   "cell_type": "code",
   "execution_count": 49,
   "metadata": {
    "id": "Jh87hMMD5Lke"
   },
   "outputs": [],
   "source": [
    "## Computing for Durbin-Watson"
   ]
  },
  {
   "cell_type": "code",
   "execution_count": 50,
   "metadata": {
    "colab": {
     "base_uri": "https://localhost:8080/"
    },
    "id": "H377VZwU2LL9",
    "outputId": "46db9ff3-a4a8-4cc2-eb54-7e9265f2125e"
   },
   "outputs": [
    {
     "data": {
      "text/plain": [
       "array([ -5.42010014,  15.80330628, -12.81458797,   0.76552537,\n",
       "        11.63977238,   2.09225804,   0.52532858,   0.16326589,\n",
       "        -3.29922087,   2.84682871,   2.51682871,  -7.64812626,\n",
       "         6.16499393, -20.48311565,   0.78122773,  -7.08283603,\n",
       "         2.20374231,   2.08942015, -17.85388097,  -5.57237156,\n",
       "        -1.01736425,   2.67285439,   3.3911078 ,   0.9340345 ,\n",
       "        -0.39424405,  -3.17272537,  -4.09363843, -13.03713037,\n",
       "        21.41859982,  20.40219045,  -2.62823424,  -1.87665992,\n",
       "         5.72036763,   4.26258341])"
      ]
     },
     "execution_count": 50,
     "metadata": {},
     "output_type": "execute_result"
    }
   ],
   "source": [
    "rresid = np.array(result.resid)  \n",
    "rresid"
   ]
  },
  {
   "cell_type": "code",
   "execution_count": 51,
   "metadata": {
    "colab": {
     "base_uri": "https://localhost:8080/"
    },
    "id": "3o3g07ViOCYC",
    "outputId": "7bcba883-9744-4650-cc9d-fd967fcba2ac"
   },
   "outputs": [
    {
     "data": {
      "text/plain": [
       "array([ -5.42010014,  15.80330628, -12.81458797,   0.76552537,\n",
       "        11.63977238,   2.09225804,   0.52532858,   0.16326589,\n",
       "        -3.29922087,   2.84682871,   2.51682871,  -7.64812626,\n",
       "         6.16499393, -20.48311565,   0.78122773,  -7.08283603,\n",
       "         2.20374231,   2.08942015, -17.85388097,  -5.57237156,\n",
       "        -1.01736425,   2.67285439,   3.3911078 ,   0.9340345 ,\n",
       "        -0.39424405,  -3.17272537,  -4.09363843, -13.03713037,\n",
       "        21.41859982,  20.40219045,  -2.62823424,  -1.87665992,\n",
       "         5.72036763,   4.26258341])"
      ]
     },
     "execution_count": 51,
     "metadata": {},
     "output_type": "execute_result"
    }
   ],
   "source": [
    "## residuals\n",
    "yhat = np.sum(beta.T*x_0, axis = 1) \n",
    "eps_hat = np.array((y_0.T - yhat.T))\n",
    "eps_hat"
   ]
  },
  {
   "cell_type": "code",
   "execution_count": 52,
   "metadata": {
    "colab": {
     "base_uri": "https://localhost:8080/"
    },
    "id": "4Wfhni5I2WzH",
    "outputId": "8feebf2a-e4fc-4306-c56f-93f1482ef702",
    "scrolled": true
   },
   "outputs": [
    {
     "data": {
      "text/plain": [
       "array([ 15.80330628, -12.81458797,   0.76552537,  11.63977238,\n",
       "         2.09225804,   0.52532858,   0.16326589,  -3.29922087,\n",
       "         2.84682871,   2.51682871,  -7.64812626,   6.16499393,\n",
       "       -20.48311565,   0.78122773,  -7.08283603,   2.20374231,\n",
       "         2.08942015, -17.85388097,  -5.57237156,  -1.01736425,\n",
       "         2.67285439,   3.3911078 ,   0.9340345 ,  -0.39424405,\n",
       "        -3.17272537,  -4.09363843, -13.03713037,  21.41859982,\n",
       "        20.40219045,  -2.62823424,  -1.87665992,   5.72036763,\n",
       "         4.26258341])"
      ]
     },
     "execution_count": 52,
     "metadata": {},
     "output_type": "execute_result"
    }
   ],
   "source": [
    "resid2 = np.array([15.80330628, -12.81458797,   0.76552537,\n",
    "        11.63977238,   2.09225804,   0.52532858,   0.16326589,\n",
    "        -3.29922087,   2.84682871,   2.51682871,  -7.64812626,\n",
    "         6.16499393, -20.48311565,   0.78122773,  -7.08283603,\n",
    "         2.20374231,   2.08942015, -17.85388097,  -5.57237156,\n",
    "        -1.01736425,   2.67285439,   3.3911078 ,   0.9340345 ,\n",
    "        -0.39424405,  -3.17272537,  -4.09363843, -13.03713037,\n",
    "        21.41859982,  20.40219045,  -2.62823424,  -1.87665992,\n",
    "         5.72036763,   4.26258341])\n",
    "resid2"
   ]
  },
  {
   "cell_type": "code",
   "execution_count": 53,
   "metadata": {
    "colab": {
     "base_uri": "https://localhost:8080/"
    },
    "id": "eOpigM7I2oul",
    "outputId": "5f862daa-c15b-4427-cd33-e7699c5ecec9"
   },
   "outputs": [
    {
     "data": {
      "text/plain": [
       "array([ -5.42010014,  15.80330628, -12.81458797,   0.76552537,\n",
       "        11.63977238,   2.09225804,   0.52532858,   0.16326589,\n",
       "        -3.29922087,   2.84682871,   2.51682871,  -7.64812626,\n",
       "         6.16499393, -20.48311565,   0.78122773,  -7.08283603,\n",
       "         2.20374231,   2.08942015, -17.85388097,  -5.57237156,\n",
       "        -1.01736425,   2.67285439,   3.3911078 ,   0.9340345 ,\n",
       "        -0.39424405,  -3.17272537,  -4.09363843, -13.03713037,\n",
       "        21.41859982,  20.40219045,  -2.62823424,  -1.87665992,\n",
       "         5.72036763])"
      ]
     },
     "execution_count": 53,
     "metadata": {},
     "output_type": "execute_result"
    }
   ],
   "source": [
    "resid1 = np.array([-5.42010014,  15.80330628, -12.81458797,   0.76552537,\n",
    "        11.63977238,   2.09225804,   0.52532858,   0.16326589,\n",
    "        -3.29922087,   2.84682871,   2.51682871,  -7.64812626,\n",
    "         6.16499393, -20.48311565,   0.78122773,  -7.08283603,\n",
    "         2.20374231,   2.08942015, -17.85388097,  -5.57237156,\n",
    "        -1.01736425,   2.67285439,   3.3911078 ,   0.9340345 ,\n",
    "        -0.39424405,  -3.17272537,  -4.09363843, -13.03713037,\n",
    "        21.41859982,  20.40219045,  -2.62823424,  -1.87665992,\n",
    "         5.72036763])\n",
    "resid1"
   ]
  },
  {
   "cell_type": "code",
   "execution_count": 54,
   "metadata": {
    "colab": {
     "base_uri": "https://localhost:8080/"
    },
    "id": "CfCfjmdj28HR",
    "outputId": "2a4e4a16-eb13-444e-b390-30de013764d6"
   },
   "outputs": [
    {
     "data": {
      "text/plain": [
       "array([ 21.22340642, -28.61789425,  13.58011334,  10.87424701,\n",
       "        -9.54751434,  -1.56692946,  -0.36206269,  -3.46248676,\n",
       "         6.14604958,  -0.33      , -10.16495497,  13.81312019,\n",
       "       -26.64810958,  21.26434338,  -7.86406376,   9.28657834,\n",
       "        -0.11432216, -19.94330112,  12.28150941,   4.55500731,\n",
       "         3.69021864,   0.71825341,  -2.4570733 ,  -1.32827855,\n",
       "        -2.77848132,  -0.92091306,  -8.94349194,  34.45573019,\n",
       "        -1.01640937, -23.03042469,   0.75157432,   7.59702755,\n",
       "        -1.45778422])"
      ]
     },
     "execution_count": 54,
     "metadata": {},
     "output_type": "execute_result"
    }
   ],
   "source": [
    "diffr = resid2-resid1\n",
    "diffr"
   ]
  },
  {
   "cell_type": "code",
   "execution_count": 55,
   "metadata": {
    "colab": {
     "base_uri": "https://localhost:8080/"
    },
    "id": "5UrU_o0a4IMu",
    "outputId": "5070f5c5-502d-4258-b0e8-19d001a7448c"
   },
   "outputs": [
    {
     "data": {
      "text/plain": [
       "5779.062118609152"
      ]
     },
     "execution_count": 55,
     "metadata": {},
     "output_type": "execute_result"
    }
   ],
   "source": [
    "ssqdr = np.sum(diffr**2)\n",
    "ssqdr"
   ]
  },
  {
   "cell_type": "code",
   "execution_count": 56,
   "metadata": {
    "colab": {
     "base_uri": "https://localhost:8080/"
    },
    "id": "Gi_DG8ae44AS",
    "outputId": "2822704b-eae0-47bc-f338-a286c3a2e6da"
   },
   "outputs": [
    {
     "data": {
      "text/plain": [
       "2689.1052565203604"
      ]
     },
     "execution_count": 56,
     "metadata": {},
     "output_type": "execute_result"
    }
   ],
   "source": [
    "ssqr = np.sum(rresid**2)\n",
    "ssqr"
   ]
  },
  {
   "cell_type": "code",
   "execution_count": 57,
   "metadata": {
    "colab": {
     "base_uri": "https://localhost:8080/"
    },
    "id": "xgPskw4T5A2D",
    "outputId": "64fee170-8498-4760-d011-1481a9d37b1c"
   },
   "outputs": [
    {
     "data": {
      "text/plain": [
       "2.1490650485310954"
      ]
     },
     "execution_count": 57,
     "metadata": {},
     "output_type": "execute_result"
    }
   ],
   "source": [
    "ssqdr/ssqr"
   ]
  },
  {
   "cell_type": "markdown",
   "metadata": {},
   "source": [
    "Given that the Durbin-Watson statistic is slightly above 2, autocorrelations does not exist in the model."
   ]
  },
  {
   "cell_type": "markdown",
   "metadata": {
    "id": "7Jlp_nqhKawi"
   },
   "source": [
    "### Linearity and Equal Variance\n",
    "\n",
    "The regression model should also possess equal variance to ensure that the residuals are normally distributed and outliers are limited. If variance is not equal, the model is biased."
   ]
  },
  {
   "cell_type": "code",
   "execution_count": 60,
   "metadata": {
    "id": "0jkDFhOCGAu8"
   },
   "outputs": [],
   "source": [
    "## Harvey Collier"
   ]
  },
  {
   "cell_type": "code",
   "execution_count": 61,
   "metadata": {
    "colab": {
     "base_uri": "https://localhost:8080/"
    },
    "id": "bAObUk86KclO",
    "outputId": "490a2e46-f0ca-458d-abf1-5eea297f9d3c"
   },
   "outputs": [
    {
     "data": {
      "text/plain": [
       "[('t value', 0.34348532895727707), ('p value', 0.7336290235020273)]"
      ]
     },
     "execution_count": 61,
     "metadata": {},
     "output_type": "execute_result"
    }
   ],
   "source": [
    "name = [\"t value\", \"p value\"]\n",
    "test = sms.linear_harvey_collier(result)\n",
    "lzip(name, test)"
   ]
  },
  {
   "cell_type": "markdown",
   "metadata": {},
   "source": [
    "The test used for this is the Harvey Collier test. Based on the test results, linearity and equal variance exists in the model."
   ]
  },
  {
   "cell_type": "code",
   "execution_count": 62,
   "metadata": {
    "id": "7BjP1r8IB5f0"
   },
   "outputs": [],
   "source": [
    "pred_val = result.fittedvalues.copy()\n",
    "true_val = data ['Income'].values.copy()\n",
    "residual = true_val - pred_val"
   ]
  },
  {
   "cell_type": "code",
   "execution_count": 63,
   "metadata": {
    "colab": {
     "base_uri": "https://localhost:8080/",
     "height": 202
    },
    "id": "dpGderErC6cf",
    "outputId": "3988f1c1-e70c-40cb-98e5-dd2201d62dcf"
   },
   "outputs": [
    {
     "data": {
      "image/png": "[encoded data removed]",
      "text/plain": [
       "<Figure size 1800x360 with 1 Axes>"
      ]
     },
     "metadata": {
      "needs_background": "light"
     },
     "output_type": "display_data"
    }
   ],
   "source": [
    "fig, ax = plt.subplots(figsize=(25,5))\n",
    "_ = ax.scatter(residual, pred_val)"
   ]
  },
  {
   "cell_type": "markdown",
   "metadata": {
    "id": "eN54NSfRGsbk"
   },
   "source": [
    "### Normality Probability Plot"
   ]
  },
  {
   "cell_type": "code",
   "execution_count": 64,
   "metadata": {
    "colab": {
     "base_uri": "https://localhost:8080/",
     "height": 367
    },
    "id": "9ryEJUnCGszN",
    "outputId": "cf0a95f9-8e6f-4dd3-b95a-bd75cab8a162"
   },
   "outputs": [
    {
     "data": {
      "text/plain": [
       "0.907045316204616"
      ]
     },
     "execution_count": 64,
     "metadata": {},
     "output_type": "execute_result"
    },
    {
     "data": {
      "image/png": "[encoded data removed]",
      "text/plain": [
       "<Figure size 720x360 with 1 Axes>"
      ]
     },
     "metadata": {
      "needs_background": "light"
     },
     "output_type": "display_data"
    }
   ],
   "source": [
    "fig, ax = plt.subplots(figsize=(10,5))\n",
    "_, (_, _, r) = sp.stats.probplot(residual, plot=ax, fit=True)\n",
    "r**2"
   ]
  }
 ],
 "metadata": {
  "colab": {
   "collapsed_sections": [],
   "name": "Econometric Modeling and Regression Tests with Python.ipynb",
   "provenance": []
  },
  "kernelspec": {
   "display_name": "Python 3 (ipykernel)",
   "language": "python",
   "name": "python3"
  },
  "language_info": {
   "codemirror_mode": {
    "name": "ipython",
    "version": 3
   },
   "file_extension": ".py",
   "mimetype": "text/x-python",
   "name": "python",
   "nbconvert_exporter": "python",
   "pygments_lexer": "ipython3",
   "version": "3.9.7"
  }
 },
 "nbformat": 4,
 "nbformat_minor": 1
}
