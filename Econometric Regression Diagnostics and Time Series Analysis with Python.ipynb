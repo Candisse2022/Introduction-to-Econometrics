{
  "cells": [
    {
      "cell_type": "markdown",
      "id": "DA44by1zOUiU",
      "metadata": {
        "id": "DA44by1zOUiU"
      },
      "source": [
        "# Econometric Regression Diagnostics and Time Series Analysis with Python"
      ]
    },
    {
      "cell_type": "code",
      "execution_count": 53,
      "id": "rsEfOh-J5bYZ",
      "metadata": {
        "colab": {
          "base_uri": "https://localhost:8080/"
        },
        "id": "rsEfOh-J5bYZ",
        "outputId": "c6111519-2a2d-4a67-9d90-ac73282de057"
      },
      "outputs": [
        {
          "output_type": "stream",
          "name": "stdout",
          "text": [
            "Looking in indexes: https://pypi.org/simple, https://us-python.pkg.dev/colab-wheels/public/simple/\n",
            "Requirement already satisfied: pmdarima in /usr/local/lib/python3.7/dist-packages (1.8.5)\n",
            "Requirement already satisfied: scipy>=1.3.2 in /usr/local/lib/python3.7/dist-packages (from pmdarima) (1.4.1)\n",
            "Requirement already satisfied: statsmodels!=0.12.0,>=0.11 in /usr/local/lib/python3.7/dist-packages (from pmdarima) (0.13.2)\n",
            "Requirement already satisfied: setuptools!=50.0.0,>=38.6.0 in /usr/local/lib/python3.7/dist-packages (from pmdarima) (57.4.0)\n",
            "Requirement already satisfied: joblib>=0.11 in /usr/local/lib/python3.7/dist-packages (from pmdarima) (1.1.0)\n",
            "Requirement already satisfied: scikit-learn>=0.22 in /usr/local/lib/python3.7/dist-packages (from pmdarima) (1.0.2)\n",
            "Requirement already satisfied: numpy>=1.19.3 in /usr/local/lib/python3.7/dist-packages (from pmdarima) (1.21.6)\n",
            "Requirement already satisfied: pandas>=0.19 in /usr/local/lib/python3.7/dist-packages (from pmdarima) (1.3.5)\n",
            "Requirement already satisfied: Cython!=0.29.18,>=0.29 in /usr/local/lib/python3.7/dist-packages (from pmdarima) (0.29.30)\n",
            "Requirement already satisfied: urllib3 in /usr/local/lib/python3.7/dist-packages (from pmdarima) (1.24.3)\n",
            "Requirement already satisfied: python-dateutil>=2.7.3 in /usr/local/lib/python3.7/dist-packages (from pandas>=0.19->pmdarima) (2.8.2)\n",
            "Requirement already satisfied: pytz>=2017.3 in /usr/local/lib/python3.7/dist-packages (from pandas>=0.19->pmdarima) (2022.1)\n",
            "Requirement already satisfied: six>=1.5 in /usr/local/lib/python3.7/dist-packages (from python-dateutil>=2.7.3->pandas>=0.19->pmdarima) (1.15.0)\n",
            "Requirement already satisfied: threadpoolctl>=2.0.0 in /usr/local/lib/python3.7/dist-packages (from scikit-learn>=0.22->pmdarima) (3.1.0)\n",
            "Requirement already satisfied: patsy>=0.5.2 in /usr/local/lib/python3.7/dist-packages (from statsmodels!=0.12.0,>=0.11->pmdarima) (0.5.2)\n",
            "Requirement already satisfied: packaging>=21.3 in /usr/local/lib/python3.7/dist-packages (from statsmodels!=0.12.0,>=0.11->pmdarima) (21.3)\n",
            "Requirement already satisfied: pyparsing!=3.0.5,>=2.0.2 in /usr/local/lib/python3.7/dist-packages (from packaging>=21.3->statsmodels!=0.12.0,>=0.11->pmdarima) (3.0.9)\n"
          ]
        }
      ],
      "source": [
        "pip install pmdarima"
      ]
    },
    {
      "cell_type": "code",
      "execution_count": 54,
      "id": "b6e73b71-34b8-4b12-b5a8-67b74d80b880",
      "metadata": {
        "id": "b6e73b71-34b8-4b12-b5a8-67b74d80b880"
      },
      "outputs": [],
      "source": [
        "import numpy as np\n",
        "import pandas as pd\n",
        "import statsmodels.api as sm\n",
        "import statsmodels.stats.api as sms\n",
        "from statsmodels.compat.python import lzip   \n",
        "from matplotlib import pyplot as plt\n",
        "from statsmodels.tsa.statespace.sarimax import SARIMAX\n",
        "from statsmodels.tsa.stattools import adfuller\n",
        "from statsmodels.tsa.seasonal import seasonal_decompose\n",
        "from statsmodels.graphics.tsaplots import plot_acf\n",
        "from statsmodels.graphics.tsaplots import plot_pacf\n",
        "from statsmodels.tsa.filters import hp_filter\n",
        "import pmdarima as pm"
      ]
    },
    {
      "cell_type": "markdown",
      "id": "Ncs8ZRrZIsEi",
      "metadata": {
        "id": "Ncs8ZRrZIsEi"
      },
      "source": [
        "## Regression Diagnostics "
      ]
    },
    {
      "cell_type": "code",
      "execution_count": 55,
      "id": "UkdAftMPM4sp",
      "metadata": {
        "colab": {
          "base_uri": "https://localhost:8080/",
          "height": 522
        },
        "id": "UkdAftMPM4sp",
        "outputId": "dc6a9e0d-9afb-420b-b325-90e0190034dc"
      },
      "outputs": [
        {
          "output_type": "execute_result",
          "data": {
            "text/plain": [
              "     index        Date  Total cases  Requiring Inpatient Care  \\\n",
              "0        1  10/05/2020       718980                    279404   \n",
              "1        2  11/05/2020       722476                    272044   \n",
              "2        3  12/05/2020       729284                    237452   \n",
              "3        4  13/05/2020       731768                    217672   \n",
              "4        5  14/05/2020       737012                    199594   \n",
              "..     ...         ...          ...                       ...   \n",
              "574    575  05/12/2021    237809742                    144072   \n",
              "575    576  06/12/2021    237819126                    138966   \n",
              "576    577  07/12/2021    237830994                    137862   \n",
              "577    578  08/12/2021    237846312                    140622   \n",
              "578    579  09/12/2021    237868806                    145176   \n",
              "\n",
              "     Discharged from hospital  to be confirmed cases      -  Deaths  Vaccines  \\\n",
              "0                      391644                  19412  11454     616         0   \n",
              "1                      409538                  11362  11178     638         0   \n",
              "2                      453146                   8004  11914     662         0   \n",
              "3                      474766                   7774  11270     681         0   \n",
              "4                      496432                   8372  10902     704         0   \n",
              "..                        ...                    ...    ...     ...       ...   \n",
              "574                 235169802                  86664   4002   53874   6219936   \n",
              "575                 235183602                  87216   3864   53877   4238670   \n",
              "576                 235196574                  87768   3726   53883   3593796   \n",
              "577                 235207752                  87492   3588   53889   2772972   \n",
              "578                 235222518                  90390   3726   53895   1792620   \n",
              "\n",
              "      dose1    dose2  Deaths per Day  Cases per Day  Discharged per Day  \n",
              "0         0        0             8.0         2254.0             10948.0  \n",
              "1         0        0            22.0         3496.0             17894.0  \n",
              "2         0        0            24.0         6808.0             43608.0  \n",
              "3         0        0            19.0         2484.0             21620.0  \n",
              "4         0        0            23.0         5244.0             21666.0  \n",
              "..      ...      ...             ...            ...                 ...  \n",
              "574  672888  1400424             0.0        14214.0             10074.0  \n",
              "575  498134   914756             3.0         9384.0             13800.0  \n",
              "576  397210   800722             6.0        11868.0             12972.0  \n",
              "577  212566   711758             6.0        15318.0             11178.0  \n",
              "578  117530   480010             6.0        22494.0             14766.0  \n",
              "\n",
              "[579 rows x 14 columns]"
            ],
            "text/html": [
              "\n",
              "  <div id=\"df-61e6a681-7b8f-4bd5-bbbe-523f58f95a94\">\n",
              "    <div class=\"colab-df-container\">\n",
              "      <div>\n",
              "<style scoped>\n",
              "    .dataframe tbody tr th:only-of-type {\n",
              "        vertical-align: middle;\n",
              "    }\n",
              "\n",
              "    .dataframe tbody tr th {\n",
              "        vertical-align: top;\n",
              "    }\n",
              "\n",
              "    .dataframe thead th {\n",
              "        text-align: right;\n",
              "    }\n",
              "</style>\n",
              "<table border=\"1\" class=\"dataframe\">\n",
              "  <thead>\n",
              "    <tr style=\"text-align: right;\">\n",
              "      <th></th>\n",
              "      <th>index</th>\n",
              "      <th>Date</th>\n",
              "      <th>Total cases</th>\n",
              "      <th>Requiring Inpatient Care</th>\n",
              "      <th>Discharged from hospital</th>\n",
              "      <th>to be confirmed cases</th>\n",
              "      <th>-</th>\n",
              "      <th>Deaths</th>\n",
              "      <th>Vaccines</th>\n",
              "      <th>dose1</th>\n",
              "      <th>dose2</th>\n",
              "      <th>Deaths per Day</th>\n",
              "      <th>Cases per Day</th>\n",
              "      <th>Discharged per Day</th>\n",
              "    </tr>\n",
              "  </thead>\n",
              "  <tbody>\n",
              "    <tr>\n",
              "      <th>0</th>\n",
              "      <td>1</td>\n",
              "      <td>10/05/2020</td>\n",
              "      <td>718980</td>\n",
              "      <td>279404</td>\n",
              "      <td>391644</td>\n",
              "      <td>19412</td>\n",
              "      <td>11454</td>\n",
              "      <td>616</td>\n",
              "      <td>0</td>\n",
              "      <td>0</td>\n",
              "      <td>0</td>\n",
              "      <td>8.0</td>\n",
              "      <td>2254.0</td>\n",
              "      <td>10948.0</td>\n",
              "    </tr>\n",
              "    <tr>\n",
              "      <th>1</th>\n",
              "      <td>2</td>\n",
              "      <td>11/05/2020</td>\n",
              "      <td>722476</td>\n",
              "      <td>272044</td>\n",
              "      <td>409538</td>\n",
              "      <td>11362</td>\n",
              "      <td>11178</td>\n",
              "      <td>638</td>\n",
              "      <td>0</td>\n",
              "      <td>0</td>\n",
              "      <td>0</td>\n",
              "      <td>22.0</td>\n",
              "      <td>3496.0</td>\n",
              "      <td>17894.0</td>\n",
              "    </tr>\n",
              "    <tr>\n",
              "      <th>2</th>\n",
              "      <td>3</td>\n",
              "      <td>12/05/2020</td>\n",
              "      <td>729284</td>\n",
              "      <td>237452</td>\n",
              "      <td>453146</td>\n",
              "      <td>8004</td>\n",
              "      <td>11914</td>\n",
              "      <td>662</td>\n",
              "      <td>0</td>\n",
              "      <td>0</td>\n",
              "      <td>0</td>\n",
              "      <td>24.0</td>\n",
              "      <td>6808.0</td>\n",
              "      <td>43608.0</td>\n",
              "    </tr>\n",
              "    <tr>\n",
              "      <th>3</th>\n",
              "      <td>4</td>\n",
              "      <td>13/05/2020</td>\n",
              "      <td>731768</td>\n",
              "      <td>217672</td>\n",
              "      <td>474766</td>\n",
              "      <td>7774</td>\n",
              "      <td>11270</td>\n",
              "      <td>681</td>\n",
              "      <td>0</td>\n",
              "      <td>0</td>\n",
              "      <td>0</td>\n",
              "      <td>19.0</td>\n",
              "      <td>2484.0</td>\n",
              "      <td>21620.0</td>\n",
              "    </tr>\n",
              "    <tr>\n",
              "      <th>4</th>\n",
              "      <td>5</td>\n",
              "      <td>14/05/2020</td>\n",
              "      <td>737012</td>\n",
              "      <td>199594</td>\n",
              "      <td>496432</td>\n",
              "      <td>8372</td>\n",
              "      <td>10902</td>\n",
              "      <td>704</td>\n",
              "      <td>0</td>\n",
              "      <td>0</td>\n",
              "      <td>0</td>\n",
              "      <td>23.0</td>\n",
              "      <td>5244.0</td>\n",
              "      <td>21666.0</td>\n",
              "    </tr>\n",
              "    <tr>\n",
              "      <th>...</th>\n",
              "      <td>...</td>\n",
              "      <td>...</td>\n",
              "      <td>...</td>\n",
              "      <td>...</td>\n",
              "      <td>...</td>\n",
              "      <td>...</td>\n",
              "      <td>...</td>\n",
              "      <td>...</td>\n",
              "      <td>...</td>\n",
              "      <td>...</td>\n",
              "      <td>...</td>\n",
              "      <td>...</td>\n",
              "      <td>...</td>\n",
              "      <td>...</td>\n",
              "    </tr>\n",
              "    <tr>\n",
              "      <th>574</th>\n",
              "      <td>575</td>\n",
              "      <td>05/12/2021</td>\n",
              "      <td>237809742</td>\n",
              "      <td>144072</td>\n",
              "      <td>235169802</td>\n",
              "      <td>86664</td>\n",
              "      <td>4002</td>\n",
              "      <td>53874</td>\n",
              "      <td>6219936</td>\n",
              "      <td>672888</td>\n",
              "      <td>1400424</td>\n",
              "      <td>0.0</td>\n",
              "      <td>14214.0</td>\n",
              "      <td>10074.0</td>\n",
              "    </tr>\n",
              "    <tr>\n",
              "      <th>575</th>\n",
              "      <td>576</td>\n",
              "      <td>06/12/2021</td>\n",
              "      <td>237819126</td>\n",
              "      <td>138966</td>\n",
              "      <td>235183602</td>\n",
              "      <td>87216</td>\n",
              "      <td>3864</td>\n",
              "      <td>53877</td>\n",
              "      <td>4238670</td>\n",
              "      <td>498134</td>\n",
              "      <td>914756</td>\n",
              "      <td>3.0</td>\n",
              "      <td>9384.0</td>\n",
              "      <td>13800.0</td>\n",
              "    </tr>\n",
              "    <tr>\n",
              "      <th>576</th>\n",
              "      <td>577</td>\n",
              "      <td>07/12/2021</td>\n",
              "      <td>237830994</td>\n",
              "      <td>137862</td>\n",
              "      <td>235196574</td>\n",
              "      <td>87768</td>\n",
              "      <td>3726</td>\n",
              "      <td>53883</td>\n",
              "      <td>3593796</td>\n",
              "      <td>397210</td>\n",
              "      <td>800722</td>\n",
              "      <td>6.0</td>\n",
              "      <td>11868.0</td>\n",
              "      <td>12972.0</td>\n",
              "    </tr>\n",
              "    <tr>\n",
              "      <th>577</th>\n",
              "      <td>578</td>\n",
              "      <td>08/12/2021</td>\n",
              "      <td>237846312</td>\n",
              "      <td>140622</td>\n",
              "      <td>235207752</td>\n",
              "      <td>87492</td>\n",
              "      <td>3588</td>\n",
              "      <td>53889</td>\n",
              "      <td>2772972</td>\n",
              "      <td>212566</td>\n",
              "      <td>711758</td>\n",
              "      <td>6.0</td>\n",
              "      <td>15318.0</td>\n",
              "      <td>11178.0</td>\n",
              "    </tr>\n",
              "    <tr>\n",
              "      <th>578</th>\n",
              "      <td>579</td>\n",
              "      <td>09/12/2021</td>\n",
              "      <td>237868806</td>\n",
              "      <td>145176</td>\n",
              "      <td>235222518</td>\n",
              "      <td>90390</td>\n",
              "      <td>3726</td>\n",
              "      <td>53895</td>\n",
              "      <td>1792620</td>\n",
              "      <td>117530</td>\n",
              "      <td>480010</td>\n",
              "      <td>6.0</td>\n",
              "      <td>22494.0</td>\n",
              "      <td>14766.0</td>\n",
              "    </tr>\n",
              "  </tbody>\n",
              "</table>\n",
              "<p>579 rows × 14 columns</p>\n",
              "</div>\n",
              "      <button class=\"colab-df-convert\" onclick=\"convertToInteractive('df-61e6a681-7b8f-4bd5-bbbe-523f58f95a94')\"\n",
              "              title=\"Convert this dataframe to an interactive table.\"\n",
              "              style=\"display:none;\">\n",
              "        \n",
              "  <svg xmlns=\"http://www.w3.org/2000/svg\" height=\"24px\"viewBox=\"0 0 24 24\"\n",
              "       width=\"24px\">\n",
              "    <path d=\"M0 0h24v24H0V0z\" fill=\"none\"/>\n",
              "    <path d=\"M18.56 5.44l.94 2.06.94-2.06 2.06-.94-2.06-.94-.94-2.06-.94 2.06-2.06.94zm-11 1L8.5 8.5l.94-2.06 2.06-.94-2.06-.94L8.5 2.5l-.94 2.06-2.06.94zm10 10l.94 2.06.94-2.06 2.06-.94-2.06-.94-.94-2.06-.94 2.06-2.06.94z\"/><path d=\"M17.41 7.96l-1.37-1.37c-.4-.4-.92-.59-1.43-.59-.52 0-1.04.2-1.43.59L10.3 9.45l-7.72 7.72c-.78.78-.78 2.05 0 2.83L4 21.41c.39.39.9.59 1.41.59.51 0 1.02-.2 1.41-.59l7.78-7.78 2.81-2.81c.8-.78.8-2.07 0-2.86zM5.41 20L4 18.59l7.72-7.72 1.47 1.35L5.41 20z\"/>\n",
              "  </svg>\n",
              "      </button>\n",
              "      \n",
              "  <style>\n",
              "    .colab-df-container {\n",
              "      display:flex;\n",
              "      flex-wrap:wrap;\n",
              "      gap: 12px;\n",
              "    }\n",
              "\n",
              "    .colab-df-convert {\n",
              "      background-color: #E8F0FE;\n",
              "      border: none;\n",
              "      border-radius: 50%;\n",
              "      cursor: pointer;\n",
              "      display: none;\n",
              "      fill: #1967D2;\n",
              "      height: 32px;\n",
              "      padding: 0 0 0 0;\n",
              "      width: 32px;\n",
              "    }\n",
              "\n",
              "    .colab-df-convert:hover {\n",
              "      background-color: #E2EBFA;\n",
              "      box-shadow: 0px 1px 2px rgba(60, 64, 67, 0.3), 0px 1px 3px 1px rgba(60, 64, 67, 0.15);\n",
              "      fill: #174EA6;\n",
              "    }\n",
              "\n",
              "    [theme=dark] .colab-df-convert {\n",
              "      background-color: #3B4455;\n",
              "      fill: #D2E3FC;\n",
              "    }\n",
              "\n",
              "    [theme=dark] .colab-df-convert:hover {\n",
              "      background-color: #434B5C;\n",
              "      box-shadow: 0px 1px 3px 1px rgba(0, 0, 0, 0.15);\n",
              "      filter: drop-shadow(0px 1px 2px rgba(0, 0, 0, 0.3));\n",
              "      fill: #FFFFFF;\n",
              "    }\n",
              "  </style>\n",
              "\n",
              "      <script>\n",
              "        const buttonEl =\n",
              "          document.querySelector('#df-61e6a681-7b8f-4bd5-bbbe-523f58f95a94 button.colab-df-convert');\n",
              "        buttonEl.style.display =\n",
              "          google.colab.kernel.accessAllowed ? 'block' : 'none';\n",
              "\n",
              "        async function convertToInteractive(key) {\n",
              "          const element = document.querySelector('#df-61e6a681-7b8f-4bd5-bbbe-523f58f95a94');\n",
              "          const dataTable =\n",
              "            await google.colab.kernel.invokeFunction('convertToInteractive',\n",
              "                                                     [key], {});\n",
              "          if (!dataTable) return;\n",
              "\n",
              "          const docLinkHtml = 'Like what you see? Visit the ' +\n",
              "            '<a target=\"_blank\" href=https://colab.research.google.com/notebooks/data_table.ipynb>data table notebook</a>'\n",
              "            + ' to learn more about interactive tables.';\n",
              "          element.innerHTML = '';\n",
              "          dataTable['output_type'] = 'display_data';\n",
              "          await google.colab.output.renderOutput(dataTable, element);\n",
              "          const docLink = document.createElement('div');\n",
              "          docLink.innerHTML = docLinkHtml;\n",
              "          element.appendChild(docLink);\n",
              "        }\n",
              "      </script>\n",
              "    </div>\n",
              "  </div>\n",
              "  "
            ]
          },
          "metadata": {},
          "execution_count": 55
        }
      ],
      "source": [
        "data_covid = pd.read_csv('japancovid_perday.csv')\n",
        "data_covid = pd.read_csv('japancovid_perday.csv', index_col=0).dropna()\n",
        "data_covid = data_covid.reset_index()\n",
        "data_covid.dropna() "
      ]
    },
    {
      "cell_type": "code",
      "execution_count": 56,
      "id": "jgpd9JJIND71",
      "metadata": {
        "colab": {
          "base_uri": "https://localhost:8080/"
        },
        "id": "jgpd9JJIND71",
        "outputId": "ef6641f4-53ce-4fa2-9c49-391bd3034e01"
      },
      "outputs": [
        {
          "output_type": "stream",
          "name": "stdout",
          "text": [
            "                            OLS Regression Results                            \n",
            "==============================================================================\n",
            "Dep. Variable:         Deaths per Day   R-squared:                       0.988\n",
            "Model:                            OLS   Adj. R-squared:                  0.988\n",
            "Method:                 Least Squares   F-statistic:                 1.561e+04\n",
            "Date:                Fri, 17 Jun 2022   Prob (F-statistic):               0.00\n",
            "Time:                        15:26:44   Log-Likelihood:                -3395.9\n",
            "No. Observations:                 579   AIC:                             6800.\n",
            "Df Residuals:                     575   BIC:                             6817.\n",
            "Df Model:                           3                                         \n",
            "Covariance Type:            nonrobust                                         \n",
            "============================================================================================\n",
            "                               coef    std err          t      P>|t|      [0.025      0.975]\n",
            "--------------------------------------------------------------------------------------------\n",
            "const                       39.2807      4.084      9.618      0.000      31.260      47.302\n",
            "Cases per Day                0.0002   9.44e-06     18.412      0.000       0.000       0.000\n",
            "Discharged per Day           0.0002   1.02e-05     23.929      0.000       0.000       0.000\n",
            "Requiring Inpatient Care -3.341e-05      6e-07    -55.657      0.000   -3.46e-05   -3.22e-05\n",
            "==============================================================================\n",
            "Omnibus:                      222.495   Durbin-Watson:                   0.450\n",
            "Prob(Omnibus):                  0.000   Jarque-Bera (JB):             3374.416\n",
            "Skew:                           1.267   Prob(JB):                         0.00\n",
            "Kurtosis:                      14.552   Cond. No.                     8.35e+06\n",
            "==============================================================================\n",
            "\n",
            "Notes:\n",
            "[1] Standard Errors assume that the covariance matrix of the errors is correctly specified.\n",
            "[2] The condition number is large, 8.35e+06. This might indicate that there are\n",
            "strong multicollinearity or other numerical problems.\n"
          ]
        }
      ],
      "source": [
        "X = data_covid[['Cases per Day', 'Discharged per Day', 'Requiring Inpatient Care']]\n",
        "Y = data_covid['Deaths per Day']\n",
        "X = sm.add_constant(X)\n",
        "res = sm.OLS(Y,X).fit()\n",
        "print(res.summary())"
      ]
    },
    {
      "cell_type": "markdown",
      "id": "B4HXiM4rNFt2",
      "metadata": {
        "id": "B4HXiM4rNFt2"
      },
      "source": [
        "<p align = \"justify\"> Looking into the various coefficients of the model, a lot of factors need to be considered when analyzing multiple regression models. The partial regression coefficient of number of cases per day is 0.0002 on the condition that the influence\n",
        "of the other independent variables on the dependent variable are held constant. Deaths per Day increases by 2 units for every 10,000 unit increase in cases per day. The partial regression coefficient of the number of patients discharged from\n",
        "the hospital per day is 0.0002 on the condition that the influence of the other independent variables on the dependent variable are held constant. The partial regression coefficient for the number of patients requiring inpatient care is -0.00003341 on the condition that the influence of the other independent variables on the dependent variable are held constant. The p-values, denoted by of the number of cases per day (0.000), the number of patients discharged per day (0.000), and the number of patients requiring inpatient care (0.000), are all statistically significant. Based on the p-values of these variables, the null hypothesis can be rejected. In addition, looking into the R-squared value, 0.988, 98.8% of the variation in the dependent variable (deaths per day) is explained by the independent variables.\n",
        "\n",
        "<p align = \"justify\"> One way to determine the validity of the model is to assess whether or not it satisfies OLS assumptions.\n",
        "The Gauss-Markov Theorem has 3 assumptions:\n",
        "1. Unbiased, where the expected value of the estimator E[β1] is equal to the true value of the parameter, β1 E(εi|Xi) = 0\n",
        "2. Minimum Variance in the class of all such linear unbiased estimators, or that the estimator is an efficient estimator. var(εi|Xi) = 0\n",
        "3. Error covariances are zero E(εi,εj|X1,...,Xn) = 0\n",
        "\n",
        "<p align = \"justify\"> With these assumptions, the OLS estimator is expected to be the best linear unbiased estimator. The OLS linear regression should possess all the characteristics listed in the assumptions above.\n",
        "\n",
        "<p align = \"justify\"> Applying this to the model, E(εi|Xi) is close, but not equal to 0. The variance of the OLS linear regression model is close, but not at minimum. Moreover, referring to the computations for the standard error of the beta coefficients, the error covariances are close, but not equal to zero. In addition, there is a possible autocorrelation between the variables. A correlation of the same variables exists, given that data was obtained on successive time intervals. There is also possible\n",
        "multicollinearity between these variables since it's possible that the independent variables are correlated. Based on these assumptions, biasedness exists in the model. However, on a practical note, it makes sense that the independent variables are statistically significant, given that these variables are factors to consider in predicting deaths per day.\n",
        "\n",
        "<p align = \"justify\"> Overall, there are various factors to consider to understand whether or not the model is unbiased and makes sense. Other regression diagnostic tests need to be conducted to assess the validity of the model.\n"
      ]
    },
    {
      "cell_type": "code",
      "execution_count": 57,
      "id": "dTbb8RIrOd1c",
      "metadata": {
        "colab": {
          "base_uri": "https://localhost:8080/"
        },
        "id": "dTbb8RIrOd1c",
        "outputId": "f3fee118-45a3-4111-d181-24fb0edd5c04"
      },
      "outputs": [
        {
          "output_type": "stream",
          "name": "stdout",
          "text": [
            "                    feature        VIF\n",
            "0                     const   1.318148\n",
            "1             Cases per Day  28.913968\n",
            "2        Discharged per Day  29.239637\n",
            "3  Requiring Inpatient Care   1.116732\n"
          ]
        }
      ],
      "source": [
        "from statsmodels.stats.outliers_influence import variance_inflation_factor\n",
        "vif_data = pd.DataFrame()\n",
        "X = data_covid[['Cases per Day', 'Discharged per Day', 'Requiring Inpatient Care']]\n",
        "X = sm.add_constant (X)\n",
        "vif_data[\"feature\"] = X.columns\n",
        "vif_data[\"VIF\"]=[variance_inflation_factor(X.values, i) for i in range (len(X.columns))]\n",
        "print(vif_data)"
      ]
    },
    {
      "cell_type": "markdown",
      "id": "lMpUHZC2Pau1",
      "metadata": {
        "id": "lMpUHZC2Pau1"
      },
      "source": [
        "Given that the VIF coefficients for cases per day and discharged per day are 28.913968 and 29.239637 respectively, there is multicollinearity between these variables. Cases per day and discharged per day and highly correlated."
      ]
    },
    {
      "cell_type": "code",
      "execution_count": 58,
      "id": "XDMFQJCzO3iC",
      "metadata": {
        "colab": {
          "base_uri": "https://localhost:8080/"
        },
        "id": "XDMFQJCzO3iC",
        "outputId": "af947a35-8fec-4335-b2a5-1f861f3c5062"
      },
      "outputs": [
        {
          "output_type": "execute_result",
          "data": {
            "text/plain": [
              "[('Breusch Pagan Lagrange Multiplier Statistic', 92.78782527487395),\n",
              " ('p-value', 5.516611512057561e-20),\n",
              " ('f-value', 36.577309459061425),\n",
              " ('f p-value', 1.2049712401112679e-21)]"
            ]
          },
          "metadata": {},
          "execution_count": 58
        }
      ],
      "source": [
        "name = [\"Breusch Pagan Lagrange Multiplier Statistic\", \"p-value\", \"f-value\", \"f p-value\"]\n",
        "test = sms.het_breuschpagan(res.resid, res.model.exog)\n",
        "lzip(name, test)"
      ]
    },
    {
      "cell_type": "markdown",
      "id": "olOyPigvRPBH",
      "metadata": {
        "id": "olOyPigvRPBH"
      },
      "source": [
        "<p align = \"justify\">To interpret the presence of heteroscedasticity for the model, a null and alternate hypothesis will be formed. The null hypothesis is: Homoscedasticity is present in the model. The alternate hypothesis is: Heteroscedasticity ispresent in the model. The Breusch Pagan lagrange multiplier statistic is about 92.787825 and the corresponding p-value is 5.516611512057561e-20. Based on the Breusch Pagan test results, the p-value for the test statistic, 5.516611512057561e-20, is statistically significant. The null hypothesis is rejected on this basis. Heteroscedasticity is present in the model.\n"
      ]
    },
    {
      "cell_type": "code",
      "execution_count": 58,
      "id": "n5k0SQkwPAPn",
      "metadata": {
        "id": "n5k0SQkwPAPn"
      },
      "outputs": [],
      "source": [
        ""
      ]
    },
    {
      "cell_type": "markdown",
      "id": "qXI0tKpZNo9M",
      "metadata": {
        "id": "qXI0tKpZNo9M"
      },
      "source": [
        "## Time-Series Analysis"
      ]
    },
    {
      "cell_type": "code",
      "execution_count": 59,
      "id": "00bc2964-6042-4069-8e03-f9e36997dadb",
      "metadata": {
        "colab": {
          "base_uri": "https://localhost:8080/",
          "height": 486
        },
        "id": "00bc2964-6042-4069-8e03-f9e36997dadb",
        "outputId": "80aa965c-1e39-4df5-e7da-44fd7298d5cc"
      },
      "outputs": [
        {
          "output_type": "execute_result",
          "data": {
            "text/plain": [
              "            Units                         Price                    \n",
              "Product         Q           R           S     Q         R         S\n",
              "Date                                                               \n",
              "2019-01-01  478.0  359.000000  221.000000  1.78  1.370000  1.610000\n",
              "2019-01-10  201.0  220.000000  153.382307  2.03  1.950000  1.361995\n",
              "2019-01-15  246.0  127.000000  120.000000  2.09  1.510000  1.590000\n",
              "2019-01-22  811.0  174.000000   92.000000  0.95  1.860000  2.100000\n",
              "2019-01-29  174.0  149.000000  144.000000  1.47  1.620000  1.750000\n",
              "...           ...         ...         ...   ...       ...       ...\n",
              "2020-12-01  355.0  242.923574  208.872980  1.56  1.361222  1.510183\n",
              "2020-12-05  428.0  197.000000  120.000000  1.28  1.390000  1.610000\n",
              "2020-12-08  373.0  153.852846   94.329412  1.31  1.512401  1.651221\n",
              "2020-12-15  398.0   82.000000  120.000000  1.49  1.850000  1.680000\n",
              "2020-12-22  276.0  187.000000  145.000000  1.46  1.590000  1.720000\n",
              "\n",
              "[115 rows x 6 columns]"
            ],
            "text/html": [
              "\n",
              "  <div id=\"df-604a1843-7f77-4f9d-acc9-8843be7cb4db\">\n",
              "    <div class=\"colab-df-container\">\n",
              "      <div>\n",
              "<style scoped>\n",
              "    .dataframe tbody tr th:only-of-type {\n",
              "        vertical-align: middle;\n",
              "    }\n",
              "\n",
              "    .dataframe tbody tr th {\n",
              "        vertical-align: top;\n",
              "    }\n",
              "\n",
              "    .dataframe thead tr th {\n",
              "        text-align: left;\n",
              "    }\n",
              "\n",
              "    .dataframe thead tr:last-of-type th {\n",
              "        text-align: right;\n",
              "    }\n",
              "</style>\n",
              "<table border=\"1\" class=\"dataframe\">\n",
              "  <thead>\n",
              "    <tr>\n",
              "      <th></th>\n",
              "      <th colspan=\"3\" halign=\"left\">Units</th>\n",
              "      <th colspan=\"3\" halign=\"left\">Price</th>\n",
              "    </tr>\n",
              "    <tr>\n",
              "      <th>Product</th>\n",
              "      <th>Q</th>\n",
              "      <th>R</th>\n",
              "      <th>S</th>\n",
              "      <th>Q</th>\n",
              "      <th>R</th>\n",
              "      <th>S</th>\n",
              "    </tr>\n",
              "    <tr>\n",
              "      <th>Date</th>\n",
              "      <th></th>\n",
              "      <th></th>\n",
              "      <th></th>\n",
              "      <th></th>\n",
              "      <th></th>\n",
              "      <th></th>\n",
              "    </tr>\n",
              "  </thead>\n",
              "  <tbody>\n",
              "    <tr>\n",
              "      <th>2019-01-01</th>\n",
              "      <td>478.0</td>\n",
              "      <td>359.000000</td>\n",
              "      <td>221.000000</td>\n",
              "      <td>1.78</td>\n",
              "      <td>1.370000</td>\n",
              "      <td>1.610000</td>\n",
              "    </tr>\n",
              "    <tr>\n",
              "      <th>2019-01-10</th>\n",
              "      <td>201.0</td>\n",
              "      <td>220.000000</td>\n",
              "      <td>153.382307</td>\n",
              "      <td>2.03</td>\n",
              "      <td>1.950000</td>\n",
              "      <td>1.361995</td>\n",
              "    </tr>\n",
              "    <tr>\n",
              "      <th>2019-01-15</th>\n",
              "      <td>246.0</td>\n",
              "      <td>127.000000</td>\n",
              "      <td>120.000000</td>\n",
              "      <td>2.09</td>\n",
              "      <td>1.510000</td>\n",
              "      <td>1.590000</td>\n",
              "    </tr>\n",
              "    <tr>\n",
              "      <th>2019-01-22</th>\n",
              "      <td>811.0</td>\n",
              "      <td>174.000000</td>\n",
              "      <td>92.000000</td>\n",
              "      <td>0.95</td>\n",
              "      <td>1.860000</td>\n",
              "      <td>2.100000</td>\n",
              "    </tr>\n",
              "    <tr>\n",
              "      <th>2019-01-29</th>\n",
              "      <td>174.0</td>\n",
              "      <td>149.000000</td>\n",
              "      <td>144.000000</td>\n",
              "      <td>1.47</td>\n",
              "      <td>1.620000</td>\n",
              "      <td>1.750000</td>\n",
              "    </tr>\n",
              "    <tr>\n",
              "      <th>...</th>\n",
              "      <td>...</td>\n",
              "      <td>...</td>\n",
              "      <td>...</td>\n",
              "      <td>...</td>\n",
              "      <td>...</td>\n",
              "      <td>...</td>\n",
              "    </tr>\n",
              "    <tr>\n",
              "      <th>2020-12-01</th>\n",
              "      <td>355.0</td>\n",
              "      <td>242.923574</td>\n",
              "      <td>208.872980</td>\n",
              "      <td>1.56</td>\n",
              "      <td>1.361222</td>\n",
              "      <td>1.510183</td>\n",
              "    </tr>\n",
              "    <tr>\n",
              "      <th>2020-12-05</th>\n",
              "      <td>428.0</td>\n",
              "      <td>197.000000</td>\n",
              "      <td>120.000000</td>\n",
              "      <td>1.28</td>\n",
              "      <td>1.390000</td>\n",
              "      <td>1.610000</td>\n",
              "    </tr>\n",
              "    <tr>\n",
              "      <th>2020-12-08</th>\n",
              "      <td>373.0</td>\n",
              "      <td>153.852846</td>\n",
              "      <td>94.329412</td>\n",
              "      <td>1.31</td>\n",
              "      <td>1.512401</td>\n",
              "      <td>1.651221</td>\n",
              "    </tr>\n",
              "    <tr>\n",
              "      <th>2020-12-15</th>\n",
              "      <td>398.0</td>\n",
              "      <td>82.000000</td>\n",
              "      <td>120.000000</td>\n",
              "      <td>1.49</td>\n",
              "      <td>1.850000</td>\n",
              "      <td>1.680000</td>\n",
              "    </tr>\n",
              "    <tr>\n",
              "      <th>2020-12-22</th>\n",
              "      <td>276.0</td>\n",
              "      <td>187.000000</td>\n",
              "      <td>145.000000</td>\n",
              "      <td>1.46</td>\n",
              "      <td>1.590000</td>\n",
              "      <td>1.720000</td>\n",
              "    </tr>\n",
              "  </tbody>\n",
              "</table>\n",
              "<p>115 rows × 6 columns</p>\n",
              "</div>\n",
              "      <button class=\"colab-df-convert\" onclick=\"convertToInteractive('df-604a1843-7f77-4f9d-acc9-8843be7cb4db')\"\n",
              "              title=\"Convert this dataframe to an interactive table.\"\n",
              "              style=\"display:none;\">\n",
              "        \n",
              "  <svg xmlns=\"http://www.w3.org/2000/svg\" height=\"24px\"viewBox=\"0 0 24 24\"\n",
              "       width=\"24px\">\n",
              "    <path d=\"M0 0h24v24H0V0z\" fill=\"none\"/>\n",
              "    <path d=\"M18.56 5.44l.94 2.06.94-2.06 2.06-.94-2.06-.94-.94-2.06-.94 2.06-2.06.94zm-11 1L8.5 8.5l.94-2.06 2.06-.94-2.06-.94L8.5 2.5l-.94 2.06-2.06.94zm10 10l.94 2.06.94-2.06 2.06-.94-2.06-.94-.94-2.06-.94 2.06-2.06.94z\"/><path d=\"M17.41 7.96l-1.37-1.37c-.4-.4-.92-.59-1.43-.59-.52 0-1.04.2-1.43.59L10.3 9.45l-7.72 7.72c-.78.78-.78 2.05 0 2.83L4 21.41c.39.39.9.59 1.41.59.51 0 1.02-.2 1.41-.59l7.78-7.78 2.81-2.81c.8-.78.8-2.07 0-2.86zM5.41 20L4 18.59l7.72-7.72 1.47 1.35L5.41 20z\"/>\n",
              "  </svg>\n",
              "      </button>\n",
              "      \n",
              "  <style>\n",
              "    .colab-df-container {\n",
              "      display:flex;\n",
              "      flex-wrap:wrap;\n",
              "      gap: 12px;\n",
              "    }\n",
              "\n",
              "    .colab-df-convert {\n",
              "      background-color: #E8F0FE;\n",
              "      border: none;\n",
              "      border-radius: 50%;\n",
              "      cursor: pointer;\n",
              "      display: none;\n",
              "      fill: #1967D2;\n",
              "      height: 32px;\n",
              "      padding: 0 0 0 0;\n",
              "      width: 32px;\n",
              "    }\n",
              "\n",
              "    .colab-df-convert:hover {\n",
              "      background-color: #E2EBFA;\n",
              "      box-shadow: 0px 1px 2px rgba(60, 64, 67, 0.3), 0px 1px 3px 1px rgba(60, 64, 67, 0.15);\n",
              "      fill: #174EA6;\n",
              "    }\n",
              "\n",
              "    [theme=dark] .colab-df-convert {\n",
              "      background-color: #3B4455;\n",
              "      fill: #D2E3FC;\n",
              "    }\n",
              "\n",
              "    [theme=dark] .colab-df-convert:hover {\n",
              "      background-color: #434B5C;\n",
              "      box-shadow: 0px 1px 3px 1px rgba(0, 0, 0, 0.15);\n",
              "      filter: drop-shadow(0px 1px 2px rgba(0, 0, 0, 0.3));\n",
              "      fill: #FFFFFF;\n",
              "    }\n",
              "  </style>\n",
              "\n",
              "      <script>\n",
              "        const buttonEl =\n",
              "          document.querySelector('#df-604a1843-7f77-4f9d-acc9-8843be7cb4db button.colab-df-convert');\n",
              "        buttonEl.style.display =\n",
              "          google.colab.kernel.accessAllowed ? 'block' : 'none';\n",
              "\n",
              "        async function convertToInteractive(key) {\n",
              "          const element = document.querySelector('#df-604a1843-7f77-4f9d-acc9-8843be7cb4db');\n",
              "          const dataTable =\n",
              "            await google.colab.kernel.invokeFunction('convertToInteractive',\n",
              "                                                     [key], {});\n",
              "          if (!dataTable) return;\n",
              "\n",
              "          const docLinkHtml = 'Like what you see? Visit the ' +\n",
              "            '<a target=\"_blank\" href=https://colab.research.google.com/notebooks/data_table.ipynb>data table notebook</a>'\n",
              "            + ' to learn more about interactive tables.';\n",
              "          element.innerHTML = '';\n",
              "          dataTable['output_type'] = 'display_data';\n",
              "          await google.colab.output.renderOutput(dataTable, element);\n",
              "          const docLink = document.createElement('div');\n",
              "          docLink.innerHTML = docLinkHtml;\n",
              "          element.appendChild(docLink);\n",
              "        }\n",
              "      </script>\n",
              "    </div>\n",
              "  </div>\n",
              "  "
            ]
          },
          "metadata": {},
          "execution_count": 59
        }
      ],
      "source": [
        "# Initial Data Cleaning \n",
        "df = pd.read_csv('RetailDataUnited.csv')\n",
        "df['Date'] = pd.to_datetime(df['WeekStarting'], errors='coerce') \n",
        "df['Product'] = df['Product'].str.upper() \n",
        "df = df.loc[:,['Date', 'Product', 'Units', 'Price']].drop_duplicates() \n",
        "df = df.pivot(index = 'Date',columns = 'Product') \n",
        "df = df.interpolate(method='polynomial', order=2) \n",
        "df "
      ]
    },
    {
      "cell_type": "code",
      "source": [
        "data_retail = pd.read_csv('RetailDataUnited_Set.csv')\n",
        "data_retail = pd.read_csv('RetailDataUnited_Set.csv', index_col=0).dropna()\n",
        "data_retail = data_retail.reset_index()\n",
        "data_retail.dropna()"
      ],
      "metadata": {
        "colab": {
          "base_uri": "https://localhost:8080/",
          "height": 505
        },
        "id": "meZzenTaRdLU",
        "outputId": "6c1ce097-f824-4dae-e238-b1269d620959"
      },
      "id": "meZzenTaRdLU",
      "execution_count": 60,
      "outputs": [
        {
          "output_type": "execute_result",
          "data": {
            "text/plain": [
              "           Date  Quantity Q  Quantity R  Quantity S   Price Q   Price R  \\\n",
              "0    01/01/2019   478.00000  359.000000  221.000000  1.780000  1.370000   \n",
              "1    08/01/2019   452.00000  193.000000  183.000000  1.360000  1.530000   \n",
              "2    10/01/2019   201.00000  162.427914  165.987663  2.030000  1.519654   \n",
              "3    15/01/2019   246.00000  127.000000  120.000000  2.090000  1.510000   \n",
              "4    22/01/2019   811.00000  174.000000   92.000000  0.950000  1.860000   \n",
              "..          ...         ...         ...         ...       ...       ...   \n",
              "113  24/11/2020   277.00000  247.000000  344.000000  1.640000  1.560000   \n",
              "114  01/12/2020   355.00000  240.575914  117.000000  1.560000  1.248257   \n",
              "115  05/12/2020   366.80724  197.000000   50.289321  1.394915  1.390000   \n",
              "116  08/12/2020   373.00000  159.000000   58.985806  1.310000  1.700000   \n",
              "117  15/12/2020   398.00000   82.000000  120.000000  1.490000  1.850000   \n",
              "\n",
              "      Price S   Revenue Q  Revenue R   Revenue S  ...  LN(PriceS)  \\\n",
              "0    1.610000  850.840000  491.83000  355.810000  ...    0.476234   \n",
              "1    1.670000  614.720000  295.29000  305.610000  ...    0.512824   \n",
              "2    1.629314  408.030000  246.83425  270.446104  ...    0.488159   \n",
              "3    1.590000  514.140000  191.77000  190.800000  ...    0.463734   \n",
              "4    2.100000  770.450000  323.64000  193.200000  ...    0.741937   \n",
              "..        ...         ...        ...         ...  ...         ...   \n",
              "113  1.400000  454.280000  385.32000  481.600000  ...    0.336472   \n",
              "114  1.740000  553.800000  300.30045  203.580000  ...    0.553885   \n",
              "115  1.827752  511.665101  273.83000   91.916424  ...    0.603087   \n",
              "116  1.791377  488.630000  270.30000  105.665814  ...    0.582985   \n",
              "117  1.680000  593.020000  151.70000  201.600000  ...    0.518794   \n",
              "\n",
              "     LN(QuantityQ)  LN(QuantityR)  LN(QuantityS) Log(PriceQ) Log(PriceR)  \\\n",
              "0         6.169611    5.883322388    5.398162702    0.250420    0.136721   \n",
              "1         6.113682    5.262690189    5.209486153    0.133539    0.184691   \n",
              "2         5.303305    5.090234296    5.111913468    0.307496    0.181745   \n",
              "3         5.505332    4.844187086    4.787491743    0.320146    0.178977   \n",
              "4         6.698268    5.159055299    4.521788577   -0.022276    0.269513   \n",
              "..             ...            ...            ...         ...         ...   \n",
              "113       5.624018    5.509388337    5.840641657    0.214844    0.193125   \n",
              "114       5.872118    5.483035691    4.762173935    0.193125    0.096304   \n",
              "115       5.904836    5.283203729    3.917792756    0.144548    0.143015   \n",
              "116       5.921578    5.068904202    4.077296838    0.117271    0.230449   \n",
              "117       5.986452    4.406719247    4.787491743    0.173186    0.267172   \n",
              "\n",
              "     Log(PriceS)  Log(QuantityQ)  Log(QuantityR)  Log(QuantityS)  \n",
              "0       0.206826        2.679428     2.555094449     2.344392274  \n",
              "1       0.222716        2.655138     2.285557309      2.26245109  \n",
              "2       0.212005        2.303196     2.210660666     2.220075811  \n",
              "3       0.201397        2.390935     2.103803721     2.079181246  \n",
              "4       0.322219        2.909021     2.240549248     1.963787827  \n",
              "..           ...             ...             ...             ...  \n",
              "113     0.146128        2.442480     2.392696953     2.536558443  \n",
              "114     0.240549        2.550228     2.381252145     2.068185862  \n",
              "115     0.261917        2.564438     2.294466226     1.701475775  \n",
              "116     0.253187        2.571709     2.201397124     1.770747518  \n",
              "117     0.225309        2.599883     1.913813852     2.079181246  \n",
              "\n",
              "[118 rows x 22 columns]"
            ],
            "text/html": [
              "\n",
              "  <div id=\"df-6fb9ea72-7afe-40b2-a3c1-98f35243588e\">\n",
              "    <div class=\"colab-df-container\">\n",
              "      <div>\n",
              "<style scoped>\n",
              "    .dataframe tbody tr th:only-of-type {\n",
              "        vertical-align: middle;\n",
              "    }\n",
              "\n",
              "    .dataframe tbody tr th {\n",
              "        vertical-align: top;\n",
              "    }\n",
              "\n",
              "    .dataframe thead th {\n",
              "        text-align: right;\n",
              "    }\n",
              "</style>\n",
              "<table border=\"1\" class=\"dataframe\">\n",
              "  <thead>\n",
              "    <tr style=\"text-align: right;\">\n",
              "      <th></th>\n",
              "      <th>Date</th>\n",
              "      <th>Quantity Q</th>\n",
              "      <th>Quantity R</th>\n",
              "      <th>Quantity S</th>\n",
              "      <th>Price Q</th>\n",
              "      <th>Price R</th>\n",
              "      <th>Price S</th>\n",
              "      <th>Revenue Q</th>\n",
              "      <th>Revenue R</th>\n",
              "      <th>Revenue S</th>\n",
              "      <th>...</th>\n",
              "      <th>LN(PriceS)</th>\n",
              "      <th>LN(QuantityQ)</th>\n",
              "      <th>LN(QuantityR)</th>\n",
              "      <th>LN(QuantityS)</th>\n",
              "      <th>Log(PriceQ)</th>\n",
              "      <th>Log(PriceR)</th>\n",
              "      <th>Log(PriceS)</th>\n",
              "      <th>Log(QuantityQ)</th>\n",
              "      <th>Log(QuantityR)</th>\n",
              "      <th>Log(QuantityS)</th>\n",
              "    </tr>\n",
              "  </thead>\n",
              "  <tbody>\n",
              "    <tr>\n",
              "      <th>0</th>\n",
              "      <td>01/01/2019</td>\n",
              "      <td>478.00000</td>\n",
              "      <td>359.000000</td>\n",
              "      <td>221.000000</td>\n",
              "      <td>1.780000</td>\n",
              "      <td>1.370000</td>\n",
              "      <td>1.610000</td>\n",
              "      <td>850.840000</td>\n",
              "      <td>491.83000</td>\n",
              "      <td>355.810000</td>\n",
              "      <td>...</td>\n",
              "      <td>0.476234</td>\n",
              "      <td>6.169611</td>\n",
              "      <td>5.883322388</td>\n",
              "      <td>5.398162702</td>\n",
              "      <td>0.250420</td>\n",
              "      <td>0.136721</td>\n",
              "      <td>0.206826</td>\n",
              "      <td>2.679428</td>\n",
              "      <td>2.555094449</td>\n",
              "      <td>2.344392274</td>\n",
              "    </tr>\n",
              "    <tr>\n",
              "      <th>1</th>\n",
              "      <td>08/01/2019</td>\n",
              "      <td>452.00000</td>\n",
              "      <td>193.000000</td>\n",
              "      <td>183.000000</td>\n",
              "      <td>1.360000</td>\n",
              "      <td>1.530000</td>\n",
              "      <td>1.670000</td>\n",
              "      <td>614.720000</td>\n",
              "      <td>295.29000</td>\n",
              "      <td>305.610000</td>\n",
              "      <td>...</td>\n",
              "      <td>0.512824</td>\n",
              "      <td>6.113682</td>\n",
              "      <td>5.262690189</td>\n",
              "      <td>5.209486153</td>\n",
              "      <td>0.133539</td>\n",
              "      <td>0.184691</td>\n",
              "      <td>0.222716</td>\n",
              "      <td>2.655138</td>\n",
              "      <td>2.285557309</td>\n",
              "      <td>2.26245109</td>\n",
              "    </tr>\n",
              "    <tr>\n",
              "      <th>2</th>\n",
              "      <td>10/01/2019</td>\n",
              "      <td>201.00000</td>\n",
              "      <td>162.427914</td>\n",
              "      <td>165.987663</td>\n",
              "      <td>2.030000</td>\n",
              "      <td>1.519654</td>\n",
              "      <td>1.629314</td>\n",
              "      <td>408.030000</td>\n",
              "      <td>246.83425</td>\n",
              "      <td>270.446104</td>\n",
              "      <td>...</td>\n",
              "      <td>0.488159</td>\n",
              "      <td>5.303305</td>\n",
              "      <td>5.090234296</td>\n",
              "      <td>5.111913468</td>\n",
              "      <td>0.307496</td>\n",
              "      <td>0.181745</td>\n",
              "      <td>0.212005</td>\n",
              "      <td>2.303196</td>\n",
              "      <td>2.210660666</td>\n",
              "      <td>2.220075811</td>\n",
              "    </tr>\n",
              "    <tr>\n",
              "      <th>3</th>\n",
              "      <td>15/01/2019</td>\n",
              "      <td>246.00000</td>\n",
              "      <td>127.000000</td>\n",
              "      <td>120.000000</td>\n",
              "      <td>2.090000</td>\n",
              "      <td>1.510000</td>\n",
              "      <td>1.590000</td>\n",
              "      <td>514.140000</td>\n",
              "      <td>191.77000</td>\n",
              "      <td>190.800000</td>\n",
              "      <td>...</td>\n",
              "      <td>0.463734</td>\n",
              "      <td>5.505332</td>\n",
              "      <td>4.844187086</td>\n",
              "      <td>4.787491743</td>\n",
              "      <td>0.320146</td>\n",
              "      <td>0.178977</td>\n",
              "      <td>0.201397</td>\n",
              "      <td>2.390935</td>\n",
              "      <td>2.103803721</td>\n",
              "      <td>2.079181246</td>\n",
              "    </tr>\n",
              "    <tr>\n",
              "      <th>4</th>\n",
              "      <td>22/01/2019</td>\n",
              "      <td>811.00000</td>\n",
              "      <td>174.000000</td>\n",
              "      <td>92.000000</td>\n",
              "      <td>0.950000</td>\n",
              "      <td>1.860000</td>\n",
              "      <td>2.100000</td>\n",
              "      <td>770.450000</td>\n",
              "      <td>323.64000</td>\n",
              "      <td>193.200000</td>\n",
              "      <td>...</td>\n",
              "      <td>0.741937</td>\n",
              "      <td>6.698268</td>\n",
              "      <td>5.159055299</td>\n",
              "      <td>4.521788577</td>\n",
              "      <td>-0.022276</td>\n",
              "      <td>0.269513</td>\n",
              "      <td>0.322219</td>\n",
              "      <td>2.909021</td>\n",
              "      <td>2.240549248</td>\n",
              "      <td>1.963787827</td>\n",
              "    </tr>\n",
              "    <tr>\n",
              "      <th>...</th>\n",
              "      <td>...</td>\n",
              "      <td>...</td>\n",
              "      <td>...</td>\n",
              "      <td>...</td>\n",
              "      <td>...</td>\n",
              "      <td>...</td>\n",
              "      <td>...</td>\n",
              "      <td>...</td>\n",
              "      <td>...</td>\n",
              "      <td>...</td>\n",
              "      <td>...</td>\n",
              "      <td>...</td>\n",
              "      <td>...</td>\n",
              "      <td>...</td>\n",
              "      <td>...</td>\n",
              "      <td>...</td>\n",
              "      <td>...</td>\n",
              "      <td>...</td>\n",
              "      <td>...</td>\n",
              "      <td>...</td>\n",
              "      <td>...</td>\n",
              "    </tr>\n",
              "    <tr>\n",
              "      <th>113</th>\n",
              "      <td>24/11/2020</td>\n",
              "      <td>277.00000</td>\n",
              "      <td>247.000000</td>\n",
              "      <td>344.000000</td>\n",
              "      <td>1.640000</td>\n",
              "      <td>1.560000</td>\n",
              "      <td>1.400000</td>\n",
              "      <td>454.280000</td>\n",
              "      <td>385.32000</td>\n",
              "      <td>481.600000</td>\n",
              "      <td>...</td>\n",
              "      <td>0.336472</td>\n",
              "      <td>5.624018</td>\n",
              "      <td>5.509388337</td>\n",
              "      <td>5.840641657</td>\n",
              "      <td>0.214844</td>\n",
              "      <td>0.193125</td>\n",
              "      <td>0.146128</td>\n",
              "      <td>2.442480</td>\n",
              "      <td>2.392696953</td>\n",
              "      <td>2.536558443</td>\n",
              "    </tr>\n",
              "    <tr>\n",
              "      <th>114</th>\n",
              "      <td>01/12/2020</td>\n",
              "      <td>355.00000</td>\n",
              "      <td>240.575914</td>\n",
              "      <td>117.000000</td>\n",
              "      <td>1.560000</td>\n",
              "      <td>1.248257</td>\n",
              "      <td>1.740000</td>\n",
              "      <td>553.800000</td>\n",
              "      <td>300.30045</td>\n",
              "      <td>203.580000</td>\n",
              "      <td>...</td>\n",
              "      <td>0.553885</td>\n",
              "      <td>5.872118</td>\n",
              "      <td>5.483035691</td>\n",
              "      <td>4.762173935</td>\n",
              "      <td>0.193125</td>\n",
              "      <td>0.096304</td>\n",
              "      <td>0.240549</td>\n",
              "      <td>2.550228</td>\n",
              "      <td>2.381252145</td>\n",
              "      <td>2.068185862</td>\n",
              "    </tr>\n",
              "    <tr>\n",
              "      <th>115</th>\n",
              "      <td>05/12/2020</td>\n",
              "      <td>366.80724</td>\n",
              "      <td>197.000000</td>\n",
              "      <td>50.289321</td>\n",
              "      <td>1.394915</td>\n",
              "      <td>1.390000</td>\n",
              "      <td>1.827752</td>\n",
              "      <td>511.665101</td>\n",
              "      <td>273.83000</td>\n",
              "      <td>91.916424</td>\n",
              "      <td>...</td>\n",
              "      <td>0.603087</td>\n",
              "      <td>5.904836</td>\n",
              "      <td>5.283203729</td>\n",
              "      <td>3.917792756</td>\n",
              "      <td>0.144548</td>\n",
              "      <td>0.143015</td>\n",
              "      <td>0.261917</td>\n",
              "      <td>2.564438</td>\n",
              "      <td>2.294466226</td>\n",
              "      <td>1.701475775</td>\n",
              "    </tr>\n",
              "    <tr>\n",
              "      <th>116</th>\n",
              "      <td>08/12/2020</td>\n",
              "      <td>373.00000</td>\n",
              "      <td>159.000000</td>\n",
              "      <td>58.985806</td>\n",
              "      <td>1.310000</td>\n",
              "      <td>1.700000</td>\n",
              "      <td>1.791377</td>\n",
              "      <td>488.630000</td>\n",
              "      <td>270.30000</td>\n",
              "      <td>105.665814</td>\n",
              "      <td>...</td>\n",
              "      <td>0.582985</td>\n",
              "      <td>5.921578</td>\n",
              "      <td>5.068904202</td>\n",
              "      <td>4.077296838</td>\n",
              "      <td>0.117271</td>\n",
              "      <td>0.230449</td>\n",
              "      <td>0.253187</td>\n",
              "      <td>2.571709</td>\n",
              "      <td>2.201397124</td>\n",
              "      <td>1.770747518</td>\n",
              "    </tr>\n",
              "    <tr>\n",
              "      <th>117</th>\n",
              "      <td>15/12/2020</td>\n",
              "      <td>398.00000</td>\n",
              "      <td>82.000000</td>\n",
              "      <td>120.000000</td>\n",
              "      <td>1.490000</td>\n",
              "      <td>1.850000</td>\n",
              "      <td>1.680000</td>\n",
              "      <td>593.020000</td>\n",
              "      <td>151.70000</td>\n",
              "      <td>201.600000</td>\n",
              "      <td>...</td>\n",
              "      <td>0.518794</td>\n",
              "      <td>5.986452</td>\n",
              "      <td>4.406719247</td>\n",
              "      <td>4.787491743</td>\n",
              "      <td>0.173186</td>\n",
              "      <td>0.267172</td>\n",
              "      <td>0.225309</td>\n",
              "      <td>2.599883</td>\n",
              "      <td>1.913813852</td>\n",
              "      <td>2.079181246</td>\n",
              "    </tr>\n",
              "  </tbody>\n",
              "</table>\n",
              "<p>118 rows × 22 columns</p>\n",
              "</div>\n",
              "      <button class=\"colab-df-convert\" onclick=\"convertToInteractive('df-6fb9ea72-7afe-40b2-a3c1-98f35243588e')\"\n",
              "              title=\"Convert this dataframe to an interactive table.\"\n",
              "              style=\"display:none;\">\n",
              "        \n",
              "  <svg xmlns=\"http://www.w3.org/2000/svg\" height=\"24px\"viewBox=\"0 0 24 24\"\n",
              "       width=\"24px\">\n",
              "    <path d=\"M0 0h24v24H0V0z\" fill=\"none\"/>\n",
              "    <path d=\"M18.56 5.44l.94 2.06.94-2.06 2.06-.94-2.06-.94-.94-2.06-.94 2.06-2.06.94zm-11 1L8.5 8.5l.94-2.06 2.06-.94-2.06-.94L8.5 2.5l-.94 2.06-2.06.94zm10 10l.94 2.06.94-2.06 2.06-.94-2.06-.94-.94-2.06-.94 2.06-2.06.94z\"/><path d=\"M17.41 7.96l-1.37-1.37c-.4-.4-.92-.59-1.43-.59-.52 0-1.04.2-1.43.59L10.3 9.45l-7.72 7.72c-.78.78-.78 2.05 0 2.83L4 21.41c.39.39.9.59 1.41.59.51 0 1.02-.2 1.41-.59l7.78-7.78 2.81-2.81c.8-.78.8-2.07 0-2.86zM5.41 20L4 18.59l7.72-7.72 1.47 1.35L5.41 20z\"/>\n",
              "  </svg>\n",
              "      </button>\n",
              "      \n",
              "  <style>\n",
              "    .colab-df-container {\n",
              "      display:flex;\n",
              "      flex-wrap:wrap;\n",
              "      gap: 12px;\n",
              "    }\n",
              "\n",
              "    .colab-df-convert {\n",
              "      background-color: #E8F0FE;\n",
              "      border: none;\n",
              "      border-radius: 50%;\n",
              "      cursor: pointer;\n",
              "      display: none;\n",
              "      fill: #1967D2;\n",
              "      height: 32px;\n",
              "      padding: 0 0 0 0;\n",
              "      width: 32px;\n",
              "    }\n",
              "\n",
              "    .colab-df-convert:hover {\n",
              "      background-color: #E2EBFA;\n",
              "      box-shadow: 0px 1px 2px rgba(60, 64, 67, 0.3), 0px 1px 3px 1px rgba(60, 64, 67, 0.15);\n",
              "      fill: #174EA6;\n",
              "    }\n",
              "\n",
              "    [theme=dark] .colab-df-convert {\n",
              "      background-color: #3B4455;\n",
              "      fill: #D2E3FC;\n",
              "    }\n",
              "\n",
              "    [theme=dark] .colab-df-convert:hover {\n",
              "      background-color: #434B5C;\n",
              "      box-shadow: 0px 1px 3px 1px rgba(0, 0, 0, 0.15);\n",
              "      filter: drop-shadow(0px 1px 2px rgba(0, 0, 0, 0.3));\n",
              "      fill: #FFFFFF;\n",
              "    }\n",
              "  </style>\n",
              "\n",
              "      <script>\n",
              "        const buttonEl =\n",
              "          document.querySelector('#df-6fb9ea72-7afe-40b2-a3c1-98f35243588e button.colab-df-convert');\n",
              "        buttonEl.style.display =\n",
              "          google.colab.kernel.accessAllowed ? 'block' : 'none';\n",
              "\n",
              "        async function convertToInteractive(key) {\n",
              "          const element = document.querySelector('#df-6fb9ea72-7afe-40b2-a3c1-98f35243588e');\n",
              "          const dataTable =\n",
              "            await google.colab.kernel.invokeFunction('convertToInteractive',\n",
              "                                                     [key], {});\n",
              "          if (!dataTable) return;\n",
              "\n",
              "          const docLinkHtml = 'Like what you see? Visit the ' +\n",
              "            '<a target=\"_blank\" href=https://colab.research.google.com/notebooks/data_table.ipynb>data table notebook</a>'\n",
              "            + ' to learn more about interactive tables.';\n",
              "          element.innerHTML = '';\n",
              "          dataTable['output_type'] = 'display_data';\n",
              "          await google.colab.output.renderOutput(dataTable, element);\n",
              "          const docLink = document.createElement('div');\n",
              "          docLink.innerHTML = docLinkHtml;\n",
              "          element.appendChild(docLink);\n",
              "        }\n",
              "      </script>\n",
              "    </div>\n",
              "  </div>\n",
              "  "
            ]
          },
          "metadata": {},
          "execution_count": 60
        }
      ]
    },
    {
      "cell_type": "code",
      "execution_count": 61,
      "id": "13a8a573-8897-4b9b-9591-80cc40f9f258",
      "metadata": {
        "colab": {
          "base_uri": "https://localhost:8080/",
          "height": 1000
        },
        "id": "13a8a573-8897-4b9b-9591-80cc40f9f258",
        "outputId": "c82def13-063f-4a5b-da89-5054b0c0fb8a"
      },
      "outputs": [
        {
          "output_type": "display_data",
          "data": {
            "text/plain": [
              "<Figure size 1080x720 with 1 Axes>"
            ],
            "image/png": "[encoded data removed]"
          },
          "metadata": {
            "needs_background": "light"
          }
        },
        {
          "output_type": "stream",
          "name": "stderr",
          "text": [
            "/usr/local/lib/python3.7/dist-packages/ipykernel_launcher.py:9: UserWarning: To output multiple subplots, the figure containing the passed axes is being cleared\n",
            "  if __name__ == '__main__':\n"
          ]
        },
        {
          "output_type": "display_data",
          "data": {
            "text/plain": [
              "<Figure size 720x576 with 4 Axes>"
            ],
            "image/png": "[encoded data removed]"
          },
          "metadata": {
            "needs_background": "light"
          }
        }
      ],
      "source": [
        "# Line plots of time series\n",
        "fig, ax = plt.subplots(figsize=(15,10))\n",
        "fig.suptitle('Time Series Data - Volumes for Product Q, R, and S')\n",
        "df.iloc[:,:3].plot(ax=ax)\n",
        "plt.show()\n",
        "#Historgram\n",
        "fig, ax = plt.subplots(figsize=(10,8))\n",
        "fig.suptitle('Histogram')\n",
        "df.iloc[:,:3].hist(ax=ax)\n",
        "plt.show()"
      ]
    },
    {
      "cell_type": "code",
      "execution_count": 62,
      "id": "7wsaDJHzC8ut",
      "metadata": {
        "id": "7wsaDJHzC8ut"
      },
      "outputs": [],
      "source": [
        "## Constructing a Regression Model"
      ]
    },
    {
      "cell_type": "code",
      "execution_count": 63,
      "id": "q6TreOBMFOXC",
      "metadata": {
        "colab": {
          "base_uri": "https://localhost:8080/"
        },
        "id": "q6TreOBMFOXC",
        "outputId": "e6905fc7-6010-4959-a564-ee60738411a2"
      },
      "outputs": [
        {
          "output_type": "stream",
          "name": "stdout",
          "text": [
            "                            OLS Regression Results                            \n",
            "==============================================================================\n",
            "Dep. Variable:         ('Units', 'Q')   R-squared:                       0.322\n",
            "Model:                            OLS   Adj. R-squared:                  0.304\n",
            "Method:                 Least Squares   F-statistic:                     17.59\n",
            "Date:                Fri, 17 Jun 2022   Prob (F-statistic):           2.07e-09\n",
            "Time:                        15:26:46   Log-Likelihood:                -745.17\n",
            "No. Observations:                 115   AIC:                             1498.\n",
            "Df Residuals:                     111   BIC:                             1509.\n",
            "Df Model:                           3                                         \n",
            "Covariance Type:            nonrobust                                         \n",
            "==================================================================================\n",
            "                     coef    std err          t      P>|t|      [0.025      0.975]\n",
            "----------------------------------------------------------------------------------\n",
            "const            693.0175    117.632      5.891      0.000     459.922     926.113\n",
            "('Price', 'Q')  -319.7453     45.017     -7.103      0.000    -408.949    -230.542\n",
            "('Price', 'R')    82.9298     68.164      1.217      0.226     -52.141     218.000\n",
            "('Price', 'S')    53.8924     75.184      0.717      0.475     -95.089     202.874\n",
            "==============================================================================\n",
            "Omnibus:                       53.948   Durbin-Watson:                   1.948\n",
            "Prob(Omnibus):                  0.000   Jarque-Bera (JB):              237.993\n",
            "Skew:                           1.544   Prob(JB):                     2.09e-52\n",
            "Kurtosis:                       9.335   Cond. No.                         27.4\n",
            "==============================================================================\n",
            "\n",
            "Notes:\n",
            "[1] Standard Errors assume that the covariance matrix of the errors is correctly specified.\n"
          ]
        }
      ],
      "source": [
        "import statsmodels.api as sm \n",
        "x = df.iloc[:,-3:] \n",
        "y = df.iloc[:,0] \n",
        "x = sm.add_constant(x) \n",
        "modelres = sm.OLS(y, x).fit() \n",
        "print(modelres.summary()) "
      ]
    },
    {
      "cell_type": "markdown",
      "id": "k0F3ihmubO-N",
      "metadata": {
        "id": "k0F3ihmubO-N"
      },
      "source": [
        "<p align = \"justify\"> Looking into the various coefficients of the model, a lot of factors need to be considered when analyzing multiple regression models. The partial regression coefficient of number of ('Price', 'Q') is -319.7453 on the condition that the influence of the other independent variables on the dependent variable are held constant. One unit increase in price will decrease the quantity demanded of product Q by about 319 units. The partial regression coefficient of ('Price', 'R') is 82.9298 on the condition that the influence of the other independent variables on the dependent variable are held constant. One unit increase in the price of product R will increase the quantity demanded of product Q by about 83 units. The partial regression coefficient of ('Price', 'S') is 53.8924 on the condition that the influence of the other independent variables on the dependent variable are held constant. One unit increase in the price of product S will increase the quantity demanded of product Q by about 54 units. The p-value, denoted by $P>|t|$ of LN (Price Q), 0.000, is statistically significant. Based solely on the p-value of this variable, the null hypothesis can be rejected. The other p-values are not statistically significant, given that they are above the 0.05 confidence interval. The R-squared value is 0.322. 32.2% of the change in Quantity Q can be attributed to the independent variables.This is atyipical for time series models.\n",
        "\n",
        "<p align = justify> One way to determine the validity of the model is to assess whether or not it satisfies OLS assumptions.\n",
        "\n",
        "<p align = \"justify\"> The Gauss-Markov Theorem has 3 assumptions: \n",
        "\n",
        "1. Unbiased, where the expected value of the estimator E[β1] is equal to the true value of the parameter, β1\n",
        "E(εi|Xi) = 0\n",
        "2. Minimum Variance in the class of all such linear unbiased estimators, or that the estimator is an\n",
        "efficient estimator.\n",
        "var(εi|Xi) = 0\n",
        "3. Error covariances are zero\n",
        "E(εi,εj|X1,...,Xn) = 0 \n",
        "\n",
        "With these assumptions, the OLS estimator is expected to be the best linear unbiased estimator. The OLS linear regression should possess all the characteristics listed in the assumptions above.\n",
        "\n",
        "<p align = \"justify\"> Applying this to the model in (a), E(εi|Xi) is close, but not equal to 0. The variance of the OLS linear regression model is close, but not at minimum. Moreover, referring to the computations for the standard error of the beta coefficients, the error covariances are close, but not equal to zero. In addition, there is a possible autocorrelation between the variables. A correlation of the same variables exists, given that data was obtained on successive time intervals. There is also possible multicollinearity between these variables since it's possible that the independent variables are correlated. Based on these assumptions, biasedness exists in the model. However, on a practical note, it makes sense that the independent variables are statistically significant, given that cross price elasticities measure the price elasticitites of competitor companies.\n",
        "\n",
        "<p align = \"justify\">  Overall, there are various factors to consider to understand whether or not the model is unbiased and makes sense. Other regression diagnostic tests need to be conducted to assert the validity of the model."
      ]
    },
    {
      "cell_type": "code",
      "execution_count": 64,
      "id": "tJ5_80WUS9-u",
      "metadata": {
        "id": "tJ5_80WUS9-u"
      },
      "outputs": [],
      "source": [
        "## Breusch Godfrey test "
      ]
    },
    {
      "cell_type": "code",
      "execution_count": 65,
      "id": "ctxAd5ifQPBG",
      "metadata": {
        "colab": {
          "base_uri": "https://localhost:8080/"
        },
        "id": "ctxAd5ifQPBG",
        "outputId": "85e1db9b-e21c-402a-aa4c-2dc5479940e8"
      },
      "outputs": [
        {
          "output_type": "execute_result",
          "data": {
            "text/plain": [
              "(5.975141410607656, 0.5426549566553106, 0.8142503524206817, 0.5774625015798123)"
            ]
          },
          "metadata": {},
          "execution_count": 65
        }
      ],
      "source": [
        "import statsmodels.stats.diagnostic as dg\n",
        "dg.acorr_breusch_godfrey(modelres, nlags=7)"
      ]
    },
    {
      "cell_type": "markdown",
      "id": "2cOKmgO6dNmB",
      "metadata": {
        "id": "2cOKmgO6dNmB"
      },
      "source": [
        "To interpret the presence of autocorrelation, a null and alternate hypothesis will be formed. The null hypothesis $(H_{0})$ is: Autocorrelation does not exist in the model. The alternate hypothesis $(H_{A})$ is: Autocorrelation exists in the model. For this model, the test statistic is about 5.975141410607656 and the corresponding p-value is about 0.5426549566553106. Based on the Breusch Godfrey test results, the p-value for the test statistic, 0.5426549566553106, is not statistically significant. We fail to reject the null hypothesis on this basis. Autocorrelation is notpresent in the model. "
      ]
    },
    {
      "cell_type": "code",
      "execution_count": 66,
      "id": "lpb-Y1DuTLOU",
      "metadata": {
        "id": "lpb-Y1DuTLOU"
      },
      "outputs": [],
      "source": [
        "## Durbin Watson Test"
      ]
    },
    {
      "cell_type": "code",
      "execution_count": 67,
      "id": "TDsAH5WhN-Nq",
      "metadata": {
        "colab": {
          "base_uri": "https://localhost:8080/"
        },
        "id": "TDsAH5WhN-Nq",
        "outputId": "6f9c11ea-b9c2-4dc9-8bb2-53c4633b890d"
      },
      "outputs": [
        {
          "output_type": "execute_result",
          "data": {
            "text/plain": [
              "array([ 153.74852704,  -78.04882073,   10.33725853,  154.31700978,\n",
              "       -277.64991561,   46.59262181,   41.40167121,  -25.67164966,\n",
              "        219.78624308,  -77.27720647,  -85.73649783,   88.46669654,\n",
              "        -38.43285272,  -96.67395632,    8.57086471,  -92.05713384,\n",
              "          2.12742468,  -85.65171506, -193.32750229,  -68.66956917,\n",
              "         33.88733291,  102.16595454,  179.59949327,    3.93101722,\n",
              "        461.0896799 ,   63.27443332, -139.19796434,  101.04711109,\n",
              "         46.03341587, -393.85852521, -205.60436016,   44.01487001,\n",
              "        -23.04682706,  118.33922832,   62.15864009, -234.55571926,\n",
              "         49.31863371,  788.60073234, -101.09147953,  140.6392797 ,\n",
              "        143.43382049, -234.8709283 ,  -48.75212601,  206.02780876,\n",
              "         72.18669503,  -19.66993592, -241.99547876,   88.03863358,\n",
              "        -33.74084618,  -94.31198386,  117.63210215,  114.40054458,\n",
              "        -80.34527548,  -69.51913686,  117.47058734,  101.27971638,\n",
              "         69.80561454,   31.36638357,   70.74164352,  110.85955274,\n",
              "         50.9485613 ,  -52.13774765,   85.82145239,   51.361405  ,\n",
              "       -227.3691428 ,   41.73397348, -183.70669584,  106.12569815,\n",
              "        -18.45650865,  270.63052615,  -68.90503665,   57.43171605,\n",
              "         80.80064802,  -73.32768051,  140.64879706,  -56.3233186 ,\n",
              "        231.28821896,  -44.4491256 ,    4.43780802,   96.68067727,\n",
              "       -300.39155672, -239.67873734, -132.4873671 ,  -68.24671789,\n",
              "        -93.23766516,   17.73519772,   81.09433133,  187.75306191,\n",
              "         19.79588793,  -59.67351469,  -25.39099646,  -78.48318211,\n",
              "        -46.92363183,  -37.14974116,  -85.94744183,  -93.77346312,\n",
              "        -64.95122702,  -13.37603829, -108.75908011, -116.69245851,\n",
              "       -125.08360094,  -44.21491228,   -2.81287084, -163.97377562,\n",
              "        -92.98076458,   -8.89182887,  623.56398726,   -0.95586456,\n",
              "         -1.44648784,  -96.45507194,  -33.48812595,  -57.78273714,\n",
              "       -115.5625731 ,  -62.55639205, -174.74270237])"
            ]
          },
          "metadata": {},
          "execution_count": 67
        }
      ],
      "source": [
        "residuals = np.array(modelres.resid)\n",
        "residuals"
      ]
    },
    {
      "cell_type": "code",
      "execution_count": 68,
      "id": "hOI_bDvOOVjE",
      "metadata": {
        "colab": {
          "base_uri": "https://localhost:8080/"
        },
        "id": "hOI_bDvOOVjE",
        "outputId": "a5ad11c6-17a3-4551-90e0-30f8e3741718"
      },
      "outputs": [
        {
          "output_type": "execute_result",
          "data": {
            "text/plain": [
              "array([ 693.01754828, -319.74533655,   82.92979528,   53.89242497])"
            ]
          },
          "metadata": {},
          "execution_count": 68
        }
      ],
      "source": [
        "x = df.iloc[:,-3:] \n",
        "y = df.iloc[:,0] \n",
        "x = sm.add_constant(x)\n",
        "beta = np.linalg.inv (x.T.astype(float)@x.astype(float))@(x.T.astype(float)@y.astype(float))\n",
        "beta"
      ]
    },
    {
      "cell_type": "code",
      "execution_count": 69,
      "id": "V8stiC-aOfLJ",
      "metadata": {
        "colab": {
          "base_uri": "https://localhost:8080/"
        },
        "id": "V8stiC-aOfLJ",
        "outputId": "e68b3abb-cd01-4a82-d708-a2c1427dc753"
      },
      "outputs": [
        {
          "output_type": "execute_result",
          "data": {
            "text/plain": [
              "array([ 153.74852704,  -78.04882073,   10.33725853,  154.31700978,\n",
              "       -277.64991561,   46.59262181,   41.40167121,  -25.67164966,\n",
              "        219.78624308,  -77.27720647,  -85.73649783,   88.46669654,\n",
              "        -38.43285272,  -96.67395632,    8.57086471,  -92.05713384,\n",
              "          2.12742468,  -85.65171506, -193.32750229,  -68.66956917,\n",
              "         33.88733291,  102.16595454,  179.59949327,    3.93101722,\n",
              "        461.0896799 ,   63.27443332, -139.19796434,  101.04711109,\n",
              "         46.03341587, -393.85852521, -205.60436016,   44.01487001,\n",
              "        -23.04682706,  118.33922832,   62.15864009, -234.55571926,\n",
              "         49.31863371,  788.60073234, -101.09147953,  140.6392797 ,\n",
              "        143.43382049, -234.8709283 ,  -48.75212601,  206.02780876,\n",
              "         72.18669503,  -19.66993592, -241.99547876,   88.03863358,\n",
              "        -33.74084618,  -94.31198386,  117.63210215,  114.40054458,\n",
              "        -80.34527548,  -69.51913686,  117.47058734,  101.27971638,\n",
              "         69.80561454,   31.36638357,   70.74164352,  110.85955274,\n",
              "         50.9485613 ,  -52.13774765,   85.82145239,   51.361405  ,\n",
              "       -227.3691428 ,   41.73397348, -183.70669584,  106.12569815,\n",
              "        -18.45650865,  270.63052615,  -68.90503665,   57.43171605,\n",
              "         80.80064802,  -73.32768051,  140.64879706,  -56.3233186 ,\n",
              "        231.28821896,  -44.4491256 ,    4.43780802,   96.68067727,\n",
              "       -300.39155672, -239.67873734, -132.4873671 ,  -68.24671789,\n",
              "        -93.23766516,   17.73519772,   81.09433133,  187.75306191,\n",
              "         19.79588793,  -59.67351469,  -25.39099646,  -78.48318211,\n",
              "        -46.92363183,  -37.14974116,  -85.94744183,  -93.77346312,\n",
              "        -64.95122702,  -13.37603829, -108.75908011, -116.69245851,\n",
              "       -125.08360094,  -44.21491228,   -2.81287084, -163.97377562,\n",
              "        -92.98076458,   -8.89182887,  623.56398726,   -0.95586456,\n",
              "         -1.44648784,  -96.45507194,  -33.48812595,  -57.78273714,\n",
              "       -115.5625731 ,  -62.55639205, -174.74270237])"
            ]
          },
          "metadata": {},
          "execution_count": 69
        }
      ],
      "source": [
        "yhat = np.sum(beta.T.astype(float)*x.astype(float), axis = 1)\n",
        "eps_hat = np.array((y.T.astype(float) - yhat.T.astype(float)))\n",
        "eps_hat"
      ]
    },
    {
      "cell_type": "code",
      "execution_count": 70,
      "id": "NAugWEalOoUN",
      "metadata": {
        "colab": {
          "base_uri": "https://localhost:8080/"
        },
        "id": "NAugWEalOoUN",
        "outputId": "55176311-9847-49c3-f1df-3e718ae9f809"
      },
      "outputs": [
        {
          "output_type": "execute_result",
          "data": {
            "text/plain": [
              "array([ -78.04882073,   10.33725853,  154.31700978, -277.64991561,\n",
              "         46.59262181,   41.40167121,  -25.67164966,  219.78624308,\n",
              "        -77.27720647,  -85.73649783,   88.46669654,  -38.43285272,\n",
              "        -96.67395632,    8.57086471,  -92.05713384,    2.12742468,\n",
              "        -85.65171506, -193.32750229,  -68.66956917,   33.88733291,\n",
              "        102.16595454,  179.59949327,    3.93101722,  461.0896799 ,\n",
              "         63.27443332, -139.19796434,  101.04711109,   46.03341587,\n",
              "       -393.85852521, -205.60436016,   44.01487001,  -23.04682706,\n",
              "        118.33922832,   62.15864009, -234.55571926,   49.31863371,\n",
              "        788.60073234, -101.09147953,  140.6392797 ,  143.43382049,\n",
              "       -234.8709283 ,  -48.75212601,  206.02780876,   72.18669503,\n",
              "        -19.66993592, -241.99547876,   88.03863358,  -33.74084618,\n",
              "        -94.31198386,  117.63210215,  114.40054458,  -80.34527548,\n",
              "        -69.51913686,  117.47058734,  101.27971638,   69.80561454,\n",
              "         31.36638357,   70.74164352,  110.85955274,   50.9485613 ,\n",
              "        -52.13774765,   85.82145239,   51.361405  , -227.3691428 ,\n",
              "         41.73397348, -183.70669584,  106.12569815,  -18.45650865,\n",
              "        270.63052615,  -68.90503665,   57.43171605,   80.80064802,\n",
              "        -73.32768051,  140.64879706,  -56.3233186 ,  231.28821896,\n",
              "        -44.4491256 ,    4.43780802,   96.68067727, -300.39155672,\n",
              "       -239.67873734, -132.4873671 ,  -68.24671789,  -93.23766516,\n",
              "         17.73519772,   81.09433133,  187.75306191,   19.79588793,\n",
              "        -59.67351469,  -25.39099646,  -78.48318211,  -46.92363183,\n",
              "        -37.14974116,  -85.94744183,  -93.77346312,  -64.95122702,\n",
              "        -13.37603829, -108.75908011, -116.69245851, -125.08360094,\n",
              "        -44.21491228,   -2.81287084, -163.97377562,  -92.98076458,\n",
              "         -8.89182887,  623.56398726,   -0.95586456,   -1.44648784,\n",
              "        -96.45507194,  -33.48812595,  -57.78273714, -115.5625731 ,\n",
              "        -62.55639205, -174.74270237])"
            ]
          },
          "metadata": {},
          "execution_count": 70
        }
      ],
      "source": [
        "resid_2 = np.array([-78.04882073,   10.33725853,  154.31700978,\n",
        "       -277.64991561,   46.59262181,   41.40167121,  -25.67164966,\n",
        "        219.78624308,  -77.27720647,  -85.73649783,   88.46669654,\n",
        "        -38.43285272,  -96.67395632,    8.57086471,  -92.05713384,\n",
        "          2.12742468,  -85.65171506, -193.32750229,  -68.66956917,\n",
        "         33.88733291,  102.16595454,  179.59949327,    3.93101722,\n",
        "        461.0896799 ,   63.27443332, -139.19796434,  101.04711109,\n",
        "         46.03341587, -393.85852521, -205.60436016,   44.01487001,\n",
        "        -23.04682706,  118.33922832,   62.15864009, -234.55571926,\n",
        "         49.31863371,  788.60073234, -101.09147953,  140.6392797 ,\n",
        "        143.43382049, -234.8709283 ,  -48.75212601,  206.02780876,\n",
        "         72.18669503,  -19.66993592, -241.99547876,   88.03863358,\n",
        "        -33.74084618,  -94.31198386,  117.63210215,  114.40054458,\n",
        "        -80.34527548,  -69.51913686,  117.47058734,  101.27971638,\n",
        "         69.80561454,   31.36638357,   70.74164352,  110.85955274,\n",
        "         50.9485613 ,  -52.13774765,   85.82145239,   51.361405  ,\n",
        "       -227.3691428 ,   41.73397348, -183.70669584,  106.12569815,\n",
        "        -18.45650865,  270.63052615,  -68.90503665,   57.43171605,\n",
        "         80.80064802,  -73.32768051,  140.64879706,  -56.3233186 ,\n",
        "        231.28821896,  -44.4491256 ,    4.43780802,   96.68067727,\n",
        "       -300.39155672, -239.67873734, -132.4873671 ,  -68.24671789,\n",
        "        -93.23766516,   17.73519772,   81.09433133,  187.75306191,\n",
        "         19.79588793,  -59.67351469,  -25.39099646,  -78.48318211,\n",
        "        -46.92363183,  -37.14974116,  -85.94744183,  -93.77346312,\n",
        "        -64.95122702,  -13.37603829, -108.75908011, -116.69245851,\n",
        "       -125.08360094,  -44.21491228,   -2.81287084, -163.97377562,\n",
        "        -92.98076458,   -8.89182887,  623.56398726,   -0.95586456,\n",
        "         -1.44648784,  -96.45507194,  -33.48812595,  -57.78273714,\n",
        "       -115.5625731 ,  -62.55639205, -174.74270237])\n",
        "resid_2"
      ]
    },
    {
      "cell_type": "code",
      "execution_count": 71,
      "id": "_TWKV3V7O72i",
      "metadata": {
        "colab": {
          "base_uri": "https://localhost:8080/"
        },
        "id": "_TWKV3V7O72i",
        "outputId": "856cb32d-7b93-4b63-9fb4-654338228f25"
      },
      "outputs": [
        {
          "output_type": "execute_result",
          "data": {
            "text/plain": [
              "array([ 153.74852704,  -78.04882073,   10.33725853,  154.31700978,\n",
              "       -277.64991561,   46.59262181,   41.40167121,  -25.67164966,\n",
              "        219.78624308,  -77.27720647,  -85.73649783,   88.46669654,\n",
              "        -38.43285272,  -96.67395632,    8.57086471,  -92.05713384,\n",
              "          2.12742468,  -85.65171506, -193.32750229,  -68.66956917,\n",
              "         33.88733291,  102.16595454,  179.59949327,    3.93101722,\n",
              "        461.0896799 ,   63.27443332, -139.19796434,  101.04711109,\n",
              "         46.03341587, -393.85852521, -205.60436016,   44.01487001,\n",
              "        -23.04682706,  118.33922832,   62.15864009, -234.55571926,\n",
              "         49.31863371,  788.60073234, -101.09147953,  140.6392797 ,\n",
              "        143.43382049, -234.8709283 ,  -48.75212601,  206.02780876,\n",
              "         72.18669503,  -19.66993592, -241.99547876,   88.03863358,\n",
              "        -33.74084618,  -94.31198386,  117.63210215,  114.40054458,\n",
              "        -80.34527548,  -69.51913686,  117.47058734,  101.27971638,\n",
              "         69.80561454,   31.36638357,   70.74164352,  110.85955274,\n",
              "         50.9485613 ,  -52.13774765,   85.82145239,   51.361405  ,\n",
              "       -227.3691428 ,   41.73397348, -183.70669584,  106.12569815,\n",
              "        -18.45650865,  270.63052615,  -68.90503665,   57.43171605,\n",
              "         80.80064802,  -73.32768051,  140.64879706,  -56.3233186 ,\n",
              "        231.28821896,  -44.4491256 ,    4.43780802,   96.68067727,\n",
              "       -300.39155672, -239.67873734, -132.4873671 ,  -68.24671789,\n",
              "        -93.23766516,   17.73519772,   81.09433133,  187.75306191,\n",
              "         19.79588793,  -59.67351469,  -25.39099646,  -78.48318211,\n",
              "        -46.92363183,  -37.14974116,  -85.94744183,  -93.77346312,\n",
              "        -64.95122702,  -13.37603829, -108.75908011, -116.69245851,\n",
              "       -125.08360094,  -44.21491228,   -2.81287084, -163.97377562,\n",
              "        -92.98076458,   -8.89182887,  623.56398726,   -0.95586456,\n",
              "         -1.44648784,  -96.45507194,  -33.48812595,  -57.78273714,\n",
              "       -115.5625731 ,  -62.55639205])"
            ]
          },
          "metadata": {},
          "execution_count": 71
        }
      ],
      "source": [
        "resid_1 = np.array([153.74852704,  -78.04882073,   10.33725853,  154.31700978,\n",
        "       -277.64991561,   46.59262181,   41.40167121,  -25.67164966,\n",
        "        219.78624308,  -77.27720647,  -85.73649783,   88.46669654,\n",
        "        -38.43285272,  -96.67395632,    8.57086471,  -92.05713384,\n",
        "          2.12742468,  -85.65171506, -193.32750229,  -68.66956917,\n",
        "         33.88733291,  102.16595454,  179.59949327,    3.93101722,\n",
        "        461.0896799 ,   63.27443332, -139.19796434,  101.04711109,\n",
        "         46.03341587, -393.85852521, -205.60436016,   44.01487001,\n",
        "        -23.04682706,  118.33922832,   62.15864009, -234.55571926,\n",
        "         49.31863371,  788.60073234, -101.09147953,  140.6392797 ,\n",
        "        143.43382049, -234.8709283 ,  -48.75212601,  206.02780876,\n",
        "         72.18669503,  -19.66993592, -241.99547876,   88.03863358,\n",
        "        -33.74084618,  -94.31198386,  117.63210215,  114.40054458,\n",
        "        -80.34527548,  -69.51913686,  117.47058734,  101.27971638,\n",
        "         69.80561454,   31.36638357,   70.74164352,  110.85955274,\n",
        "         50.9485613 ,  -52.13774765,   85.82145239,   51.361405  ,\n",
        "       -227.3691428 ,   41.73397348, -183.70669584,  106.12569815,\n",
        "        -18.45650865,  270.63052615,  -68.90503665,   57.43171605,\n",
        "         80.80064802,  -73.32768051,  140.64879706,  -56.3233186 ,\n",
        "        231.28821896,  -44.4491256 ,    4.43780802,   96.68067727,\n",
        "       -300.39155672, -239.67873734, -132.4873671 ,  -68.24671789,\n",
        "        -93.23766516,   17.73519772,   81.09433133,  187.75306191,\n",
        "         19.79588793,  -59.67351469,  -25.39099646,  -78.48318211,\n",
        "        -46.92363183,  -37.14974116,  -85.94744183,  -93.77346312,\n",
        "        -64.95122702,  -13.37603829, -108.75908011, -116.69245851,\n",
        "       -125.08360094,  -44.21491228,   -2.81287084, -163.97377562,\n",
        "        -92.98076458,   -8.89182887,  623.56398726,   -0.95586456,\n",
        "         -1.44648784,  -96.45507194,  -33.48812595,  -57.78273714,\n",
        "       -115.5625731 ,  -62.55639205])\n",
        "resid_1"
      ]
    },
    {
      "cell_type": "code",
      "execution_count": 72,
      "id": "_d-UMo3tPMeL",
      "metadata": {
        "colab": {
          "base_uri": "https://localhost:8080/"
        },
        "id": "_d-UMo3tPMeL",
        "outputId": "7ef6124b-35ca-4f35-8321-a6aac2717ff4"
      },
      "outputs": [
        {
          "output_type": "execute_result",
          "data": {
            "text/plain": [
              "array([-2.31797348e+02,  8.83860793e+01,  1.43979751e+02, -4.31966925e+02,\n",
              "        3.24242537e+02, -5.19095060e+00, -6.70733209e+01,  2.45457893e+02,\n",
              "       -2.97063450e+02, -8.45929136e+00,  1.74203194e+02, -1.26899549e+02,\n",
              "       -5.82411036e+01,  1.05244821e+02, -1.00627999e+02,  9.41845585e+01,\n",
              "       -8.77791397e+01, -1.07675787e+02,  1.24657933e+02,  1.02556902e+02,\n",
              "        6.82786216e+01,  7.74335387e+01, -1.75668476e+02,  4.57158663e+02,\n",
              "       -3.97815247e+02, -2.02472398e+02,  2.40245075e+02, -5.50136952e+01,\n",
              "       -4.39891941e+02,  1.88254165e+02,  2.49619230e+02, -6.70616971e+01,\n",
              "        1.41386055e+02, -5.61805882e+01, -2.96714359e+02,  2.83874353e+02,\n",
              "        7.39282099e+02, -8.89692212e+02,  2.41730759e+02,  2.79454079e+00,\n",
              "       -3.78304749e+02,  1.86118802e+02,  2.54779935e+02, -1.33841114e+02,\n",
              "       -9.18566309e+01, -2.22325543e+02,  3.30034112e+02, -1.21779480e+02,\n",
              "       -6.05711377e+01,  2.11944086e+02, -3.23155757e+00, -1.94745820e+02,\n",
              "        1.08261386e+01,  1.86989724e+02, -1.61908710e+01, -3.14741018e+01,\n",
              "       -3.84392310e+01,  3.93752600e+01,  4.01179092e+01, -5.99109914e+01,\n",
              "       -1.03086309e+02,  1.37959200e+02, -3.44600474e+01, -2.78730548e+02,\n",
              "        2.69103116e+02, -2.25440669e+02,  2.89832394e+02, -1.24582207e+02,\n",
              "        2.89087035e+02, -3.39535563e+02,  1.26336753e+02,  2.33689320e+01,\n",
              "       -1.54128329e+02,  2.13976478e+02, -1.96972116e+02,  2.87611538e+02,\n",
              "       -2.75737345e+02,  4.88869336e+01,  9.22428692e+01, -3.97072234e+02,\n",
              "        6.07128194e+01,  1.07191370e+02,  6.42406492e+01, -2.49909473e+01,\n",
              "        1.10972863e+02,  6.33591336e+01,  1.06658731e+02, -1.67957174e+02,\n",
              "       -7.94694026e+01,  3.42825182e+01, -5.30921857e+01,  3.15595503e+01,\n",
              "        9.77389067e+00, -4.87977007e+01, -7.82602129e+00,  2.88222361e+01,\n",
              "        5.15751887e+01, -9.53830418e+01, -7.93337840e+00, -8.39114243e+00,\n",
              "        8.08686887e+01,  4.14020414e+01, -1.61160905e+02,  7.09930110e+01,\n",
              "        8.40889357e+01,  6.32455816e+02, -6.24519852e+02, -4.90623280e-01,\n",
              "       -9.50085841e+01,  6.29669460e+01, -2.42946112e+01, -5.77798360e+01,\n",
              "        5.30061810e+01, -1.12186310e+02])"
            ]
          },
          "metadata": {},
          "execution_count": 72
        }
      ],
      "source": [
        "diff_resid = resid_2 - resid_1\n",
        "diff_resid"
      ]
    },
    {
      "cell_type": "code",
      "execution_count": 73,
      "id": "_hVzjGnEPUKE",
      "metadata": {
        "colab": {
          "base_uri": "https://localhost:8080/"
        },
        "id": "_hVzjGnEPUKE",
        "outputId": "5d05777e-5f28-48d8-f519-7f472aa840ee"
      },
      "outputs": [
        {
          "output_type": "execute_result",
          "data": {
            "text/plain": [
              "5573622.51061788"
            ]
          },
          "metadata": {},
          "execution_count": 73
        }
      ],
      "source": [
        "ssq_diffresid = np.sum(diff_resid**2)\n",
        "ssq_diffresid"
      ]
    },
    {
      "cell_type": "code",
      "execution_count": 74,
      "id": "rHMz-SrhPqzs",
      "metadata": {
        "colab": {
          "base_uri": "https://localhost:8080/"
        },
        "id": "rHMz-SrhPqzs",
        "outputId": "6b36607d-2f34-436b-89b9-a9860d96fc42"
      },
      "outputs": [
        {
          "output_type": "execute_result",
          "data": {
            "text/plain": [
              "2860515.2055869154"
            ]
          },
          "metadata": {},
          "execution_count": 74
        }
      ],
      "source": [
        "ssq_resid = np.sum(residuals**2)\n",
        "ssq_resid"
      ]
    },
    {
      "cell_type": "code",
      "execution_count": 75,
      "id": "5qoZZRbvQF1P",
      "metadata": {
        "id": "5qoZZRbvQF1P"
      },
      "outputs": [],
      "source": [
        "## Final Answer for the Durbin Watson Statistic of Model A Assumption 1"
      ]
    },
    {
      "cell_type": "code",
      "execution_count": 76,
      "id": "IQ5OlpMfP0Mt",
      "metadata": {
        "colab": {
          "base_uri": "https://localhost:8080/"
        },
        "id": "IQ5OlpMfP0Mt",
        "outputId": "aceae5b2-788c-4a67-a3a1-b657f7825f37"
      },
      "outputs": [
        {
          "output_type": "execute_result",
          "data": {
            "text/plain": [
              "1.9484680590866827"
            ]
          },
          "metadata": {},
          "execution_count": 76
        }
      ],
      "source": [
        "ssq_diffresid/ssq_resid"
      ]
    },
    {
      "cell_type": "code",
      "execution_count": 76,
      "id": "UYy9KA1JP4hC",
      "metadata": {
        "id": "UYy9KA1JP4hC"
      },
      "outputs": [],
      "source": [
        ""
      ]
    },
    {
      "cell_type": "markdown",
      "id": "78d8db2a",
      "metadata": {
        "id": "78d8db2a"
      },
      "source": [
        "Based on the Durbin-Watson Statistic, there is little to no autocorrelation between the variables."
      ]
    },
    {
      "cell_type": "code",
      "execution_count": 76,
      "id": "ef6f5a73",
      "metadata": {
        "id": "ef6f5a73"
      },
      "outputs": [],
      "source": [
        ""
      ]
    },
    {
      "cell_type": "code",
      "execution_count": 77,
      "id": "17b9CbfDGiEQ",
      "metadata": {
        "colab": {
          "base_uri": "https://localhost:8080/",
          "height": 455
        },
        "id": "17b9CbfDGiEQ",
        "outputId": "0d28838a-9b99-4e57-fb8c-e8d1d3ca41e8"
      },
      "outputs": [
        {
          "output_type": "execute_result",
          "data": {
            "text/plain": [
              "            Quantity Q\n",
              "Date                  \n",
              "2019-01-01   478.00000\n",
              "2019-01-08   452.00000\n",
              "2019-01-10   201.00000\n",
              "2019-01-15   246.00000\n",
              "2019-01-22   811.00000\n",
              "...                ...\n",
              "2020-12-01   355.00000\n",
              "2020-12-05   366.80724\n",
              "2020-12-08   373.00000\n",
              "2020-12-15   398.00000\n",
              "2020-12-22   276.00000\n",
              "\n",
              "[121 rows x 1 columns]"
            ],
            "text/html": [
              "\n",
              "  <div id=\"df-d7ee590c-8b97-4436-ad16-e3ff0416ca1d\">\n",
              "    <div class=\"colab-df-container\">\n",
              "      <div>\n",
              "<style scoped>\n",
              "    .dataframe tbody tr th:only-of-type {\n",
              "        vertical-align: middle;\n",
              "    }\n",
              "\n",
              "    .dataframe tbody tr th {\n",
              "        vertical-align: top;\n",
              "    }\n",
              "\n",
              "    .dataframe thead th {\n",
              "        text-align: right;\n",
              "    }\n",
              "</style>\n",
              "<table border=\"1\" class=\"dataframe\">\n",
              "  <thead>\n",
              "    <tr style=\"text-align: right;\">\n",
              "      <th></th>\n",
              "      <th>Quantity Q</th>\n",
              "    </tr>\n",
              "    <tr>\n",
              "      <th>Date</th>\n",
              "      <th></th>\n",
              "    </tr>\n",
              "  </thead>\n",
              "  <tbody>\n",
              "    <tr>\n",
              "      <th>2019-01-01</th>\n",
              "      <td>478.00000</td>\n",
              "    </tr>\n",
              "    <tr>\n",
              "      <th>2019-01-08</th>\n",
              "      <td>452.00000</td>\n",
              "    </tr>\n",
              "    <tr>\n",
              "      <th>2019-01-10</th>\n",
              "      <td>201.00000</td>\n",
              "    </tr>\n",
              "    <tr>\n",
              "      <th>2019-01-15</th>\n",
              "      <td>246.00000</td>\n",
              "    </tr>\n",
              "    <tr>\n",
              "      <th>2019-01-22</th>\n",
              "      <td>811.00000</td>\n",
              "    </tr>\n",
              "    <tr>\n",
              "      <th>...</th>\n",
              "      <td>...</td>\n",
              "    </tr>\n",
              "    <tr>\n",
              "      <th>2020-12-01</th>\n",
              "      <td>355.00000</td>\n",
              "    </tr>\n",
              "    <tr>\n",
              "      <th>2020-12-05</th>\n",
              "      <td>366.80724</td>\n",
              "    </tr>\n",
              "    <tr>\n",
              "      <th>2020-12-08</th>\n",
              "      <td>373.00000</td>\n",
              "    </tr>\n",
              "    <tr>\n",
              "      <th>2020-12-15</th>\n",
              "      <td>398.00000</td>\n",
              "    </tr>\n",
              "    <tr>\n",
              "      <th>2020-12-22</th>\n",
              "      <td>276.00000</td>\n",
              "    </tr>\n",
              "  </tbody>\n",
              "</table>\n",
              "<p>121 rows × 1 columns</p>\n",
              "</div>\n",
              "      <button class=\"colab-df-convert\" onclick=\"convertToInteractive('df-d7ee590c-8b97-4436-ad16-e3ff0416ca1d')\"\n",
              "              title=\"Convert this dataframe to an interactive table.\"\n",
              "              style=\"display:none;\">\n",
              "        \n",
              "  <svg xmlns=\"http://www.w3.org/2000/svg\" height=\"24px\"viewBox=\"0 0 24 24\"\n",
              "       width=\"24px\">\n",
              "    <path d=\"M0 0h24v24H0V0z\" fill=\"none\"/>\n",
              "    <path d=\"M18.56 5.44l.94 2.06.94-2.06 2.06-.94-2.06-.94-.94-2.06-.94 2.06-2.06.94zm-11 1L8.5 8.5l.94-2.06 2.06-.94-2.06-.94L8.5 2.5l-.94 2.06-2.06.94zm10 10l.94 2.06.94-2.06 2.06-.94-2.06-.94-.94-2.06-.94 2.06-2.06.94z\"/><path d=\"M17.41 7.96l-1.37-1.37c-.4-.4-.92-.59-1.43-.59-.52 0-1.04.2-1.43.59L10.3 9.45l-7.72 7.72c-.78.78-.78 2.05 0 2.83L4 21.41c.39.39.9.59 1.41.59.51 0 1.02-.2 1.41-.59l7.78-7.78 2.81-2.81c.8-.78.8-2.07 0-2.86zM5.41 20L4 18.59l7.72-7.72 1.47 1.35L5.41 20z\"/>\n",
              "  </svg>\n",
              "      </button>\n",
              "      \n",
              "  <style>\n",
              "    .colab-df-container {\n",
              "      display:flex;\n",
              "      flex-wrap:wrap;\n",
              "      gap: 12px;\n",
              "    }\n",
              "\n",
              "    .colab-df-convert {\n",
              "      background-color: #E8F0FE;\n",
              "      border: none;\n",
              "      border-radius: 50%;\n",
              "      cursor: pointer;\n",
              "      display: none;\n",
              "      fill: #1967D2;\n",
              "      height: 32px;\n",
              "      padding: 0 0 0 0;\n",
              "      width: 32px;\n",
              "    }\n",
              "\n",
              "    .colab-df-convert:hover {\n",
              "      background-color: #E2EBFA;\n",
              "      box-shadow: 0px 1px 2px rgba(60, 64, 67, 0.3), 0px 1px 3px 1px rgba(60, 64, 67, 0.15);\n",
              "      fill: #174EA6;\n",
              "    }\n",
              "\n",
              "    [theme=dark] .colab-df-convert {\n",
              "      background-color: #3B4455;\n",
              "      fill: #D2E3FC;\n",
              "    }\n",
              "\n",
              "    [theme=dark] .colab-df-convert:hover {\n",
              "      background-color: #434B5C;\n",
              "      box-shadow: 0px 1px 3px 1px rgba(0, 0, 0, 0.15);\n",
              "      filter: drop-shadow(0px 1px 2px rgba(0, 0, 0, 0.3));\n",
              "      fill: #FFFFFF;\n",
              "    }\n",
              "  </style>\n",
              "\n",
              "      <script>\n",
              "        const buttonEl =\n",
              "          document.querySelector('#df-d7ee590c-8b97-4436-ad16-e3ff0416ca1d button.colab-df-convert');\n",
              "        buttonEl.style.display =\n",
              "          google.colab.kernel.accessAllowed ? 'block' : 'none';\n",
              "\n",
              "        async function convertToInteractive(key) {\n",
              "          const element = document.querySelector('#df-d7ee590c-8b97-4436-ad16-e3ff0416ca1d');\n",
              "          const dataTable =\n",
              "            await google.colab.kernel.invokeFunction('convertToInteractive',\n",
              "                                                     [key], {});\n",
              "          if (!dataTable) return;\n",
              "\n",
              "          const docLinkHtml = 'Like what you see? Visit the ' +\n",
              "            '<a target=\"_blank\" href=https://colab.research.google.com/notebooks/data_table.ipynb>data table notebook</a>'\n",
              "            + ' to learn more about interactive tables.';\n",
              "          element.innerHTML = '';\n",
              "          dataTable['output_type'] = 'display_data';\n",
              "          await google.colab.output.renderOutput(dataTable, element);\n",
              "          const docLink = document.createElement('div');\n",
              "          docLink.innerHTML = docLinkHtml;\n",
              "          element.appendChild(docLink);\n",
              "        }\n",
              "      </script>\n",
              "    </div>\n",
              "  </div>\n",
              "  "
            ]
          },
          "metadata": {},
          "execution_count": 77
        }
      ],
      "source": [
        "snew = pd.read_csv('RetailDataUnited_Seasonal.csv')\n",
        "snew['Date'] = pd.to_datetime(snew['Date']) \n",
        "snew = snew.set_index('Date') \n",
        "snew"
      ]
    },
    {
      "cell_type": "code",
      "execution_count": 78,
      "id": "hW-3kR6XRqd8",
      "metadata": {
        "id": "hW-3kR6XRqd8"
      },
      "outputs": [],
      "source": [
        "## Seasnal Decomposition"
      ]
    },
    {
      "cell_type": "code",
      "execution_count": 79,
      "id": "oeQEFnddGfRn",
      "metadata": {
        "colab": {
          "base_uri": "https://localhost:8080/",
          "height": 484
        },
        "id": "oeQEFnddGfRn",
        "outputId": "c0a0e17f-0444-4f55-be75-36775fa8bd94"
      },
      "outputs": [
        {
          "output_type": "display_data",
          "data": {
            "text/plain": [
              "<Figure size 720x504 with 4 Axes>"
            ],
            "image/png": "[encoded data removed]"
          },
          "metadata": {
            "needs_background": "light"
          }
        }
      ],
      "source": [
        "decomposition = seasonal_decompose(snew, period=24) \n",
        "fig = decomposition.plot() \n",
        "fig.set_size_inches((10, 7)) \n",
        "plt.show() "
      ]
    },
    {
      "cell_type": "markdown",
      "id": "13cpgNwJywOf",
      "metadata": {
        "id": "13cpgNwJywOf"
      },
      "source": [
        "Based on the seasonal decomposition model, there is a positive trend in the dataset. There is seasonality in the data."
      ]
    },
    {
      "cell_type": "code",
      "execution_count": 80,
      "id": "UJT0PlmXE18k",
      "metadata": {
        "id": "UJT0PlmXE18k"
      },
      "outputs": [],
      "source": [
        "## Autocorrelation Plots"
      ]
    },
    {
      "cell_type": "code",
      "execution_count": 97,
      "id": "o0-qk1rDH3O4",
      "metadata": {
        "colab": {
          "base_uri": "https://localhost:8080/",
          "height": 281
        },
        "id": "o0-qk1rDH3O4",
        "outputId": "65da8a92-e0d0-4c24-dd64-89f84521ada9"
      },
      "outputs": [
        {
          "output_type": "display_data",
          "data": {
            "text/plain": [
              "<Figure size 432x288 with 1 Axes>"
            ],
            "image/png": "[encoded data removed]"
          },
          "metadata": {
            "needs_background": "light"
          }
        }
      ],
      "source": [
        "fig, ax = plt.subplots() \n",
        "plot_acf (data_retail['Revenue Q'],lags=21, zero=False, ax=ax)\n",
        "plt.show()"
      ]
    },
    {
      "cell_type": "markdown",
      "id": "UQtiuEjBX_Yf",
      "metadata": {
        "id": "UQtiuEjBX_Yf"
      },
      "source": [
        "Based on this model, the MA order is 1 given that the plot only shows 1 significant spike."
      ]
    },
    {
      "cell_type": "code",
      "execution_count": 82,
      "id": "6-fK9JdrRxuS",
      "metadata": {
        "id": "6-fK9JdrRxuS"
      },
      "outputs": [],
      "source": [
        "## Partial Autocorrelation Plots"
      ]
    },
    {
      "cell_type": "code",
      "execution_count": 96,
      "id": "Of1XasEeIYgw",
      "metadata": {
        "colab": {
          "base_uri": "https://localhost:8080/",
          "height": 336
        },
        "id": "Of1XasEeIYgw",
        "outputId": "c6ccb051-9372-4aeb-847d-ec92048c706a"
      },
      "outputs": [
        {
          "output_type": "stream",
          "name": "stderr",
          "text": [
            "/usr/local/lib/python3.7/dist-packages/statsmodels/graphics/tsaplots.py:353: FutureWarning: The default method 'yw' can produce PACF values outside of the [-1,1] interval. After 0.13, the default will change tounadjusted Yule-Walker ('ywm'). You can use this method now by setting method='ywm'.\n",
            "  FutureWarning,\n"
          ]
        },
        {
          "output_type": "display_data",
          "data": {
            "text/plain": [
              "<Figure size 432x288 with 1 Axes>"
            ],
            "image/png": "[encoded data removed]"
          },
          "metadata": {
            "needs_background": "light"
          }
        }
      ],
      "source": [
        "fig, ax = plt.subplots() \n",
        "plot_pacf (data_retail['Revenue Q'],lags=21, zero=False, ax=ax)\n",
        "plt.show()"
      ]
    },
    {
      "cell_type": "markdown",
      "id": "TC90IkeJcJaY",
      "metadata": {
        "id": "TC90IkeJcJaY"
      },
      "source": [
        "Based on this model, there needs to 21 lagged values. There was a spike at lag 21."
      ]
    },
    {
      "cell_type": "code",
      "execution_count": 84,
      "id": "8UvTyvbkR3nG",
      "metadata": {
        "id": "8UvTyvbkR3nG"
      },
      "outputs": [],
      "source": [
        "## Augmented Dickey Fuller Test"
      ]
    },
    {
      "cell_type": "code",
      "execution_count": 85,
      "id": "c8gZ06gBnoaM",
      "metadata": {
        "colab": {
          "base_uri": "https://localhost:8080/"
        },
        "id": "c8gZ06gBnoaM",
        "outputId": "3dcf0204-c5b5-472c-e9ff-b1fd706bfebb"
      },
      "outputs": [
        {
          "output_type": "stream",
          "name": "stdout",
          "text": [
            "ADF Statistic: -9.255521\n",
            "p-value: 0.000000\n",
            "Critical Values:\n",
            "\t1%: -3.486\n",
            "\t5%: -2.886\n",
            "\t10%: -2.580\n"
          ]
        }
      ],
      "source": [
        "from pandas import read_csv\n",
        "from statsmodels.tsa.stattools import adfuller\n",
        "series = read_csv('RetailDataUnited_Seasonal.csv', header=0, index_col=0, squeeze=True)\n",
        "X = series.values\n",
        "result = adfuller(X)\n",
        "print('ADF Statistic: %f' % result[0])\n",
        "print('p-value: %f' % result[1])\n",
        "print('Critical Values:')\n",
        "for key, value in result[4].items():\n",
        "\tprint('\\t%s: %.3f' % (key, value))"
      ]
    },
    {
      "cell_type": "markdown",
      "id": "TvG0mQmFSDc_",
      "metadata": {
        "id": "TvG0mQmFSDc_"
      },
      "source": [
        "To interpret the stationarity of the model, a null and alternate hypothesis will be formed. The null hypothesis $(H_0)$ is: Stationarity doesn't exist in the model. The alternate hypothesis $(H_A)$ is: Staionarity exists in the model. Based on the p-value of the ADF statistic, the null hypothesis can be rejected. Stationarity exists in the model."
      ]
    },
    {
      "cell_type": "code",
      "execution_count": 85,
      "id": "c5DoG0W0KYKL",
      "metadata": {
        "id": "c5DoG0W0KYKL"
      },
      "outputs": [],
      "source": [
        ""
      ]
    },
    {
      "cell_type": "markdown",
      "id": "tCe1TphTXgpV",
      "metadata": {
        "id": "tCe1TphTXgpV"
      },
      "source": [
        "Seasonal ARIMA = SARIMA\n",
        "$$ \\text{SARIMA}(p, d, q)(P, D, Q)_S $$\n",
        "   \n",
        "\n",
        "*   Non-seasonal orders\n",
        ">*   p: autoregressive order\n",
        ">*   d: differencing order\n",
        ">*   q: moving average order\n",
        " \n",
        "\n",
        "*  Seasonal orders\n",
        ">*  P: seasonal autoregressive order\n",
        ">*  D: seasonal differencing order\n",
        ">*  Q: seasonal moving average order\n",
        ">*   S: Number of time steps per cycle\n",
        "\n",
        "\n",
        "\n",
        "- The SARIMA model\n",
        "    - ARIMA(2, 0, 1) model:\n",
        "$$ y_t = a_1 y_{t-1} + a_2 y_{t-2} + m_1 \\epsilon_{t-1} + \\epsilon_t $$\n",
        "    - SARIMA $(0,0,0)(2, 0, 1)_{7}$ model:\n",
        "$$ y_t = a_7 y_{t-7} + a_{14} y_{t-14} + m_y \\epsilon_{t-7} + \\epsilon_t $$\n",
        "\n",
        "- Seasonal differencing\n",
        "    - Subtract the time series value of one season ago\n",
        "$$ \\Delta y_t = y_t - y_{t-S} $$"
      ]
    },
    {
      "cell_type": "code",
      "execution_count": 86,
      "id": "XTByirdv-IRr",
      "metadata": {
        "colab": {
          "base_uri": "https://localhost:8080/",
          "height": 455
        },
        "id": "XTByirdv-IRr",
        "outputId": "9681518a-0ac5-490a-bbc7-e3d494d42af4"
      },
      "outputs": [
        {
          "output_type": "execute_result",
          "data": {
            "text/plain": [
              "            Quantity Q\n",
              "Date                  \n",
              "2019-01-01   478.00000\n",
              "2019-01-08   452.00000\n",
              "2019-01-10   201.00000\n",
              "2019-01-15   246.00000\n",
              "2019-01-22   811.00000\n",
              "...                ...\n",
              "2020-12-01   355.00000\n",
              "2020-12-05   366.80724\n",
              "2020-12-08   373.00000\n",
              "2020-12-15   398.00000\n",
              "2020-12-22   276.00000\n",
              "\n",
              "[121 rows x 1 columns]"
            ],
            "text/html": [
              "\n",
              "  <div id=\"df-b33cff2e-ed21-48e0-803e-c7941e81a117\">\n",
              "    <div class=\"colab-df-container\">\n",
              "      <div>\n",
              "<style scoped>\n",
              "    .dataframe tbody tr th:only-of-type {\n",
              "        vertical-align: middle;\n",
              "    }\n",
              "\n",
              "    .dataframe tbody tr th {\n",
              "        vertical-align: top;\n",
              "    }\n",
              "\n",
              "    .dataframe thead th {\n",
              "        text-align: right;\n",
              "    }\n",
              "</style>\n",
              "<table border=\"1\" class=\"dataframe\">\n",
              "  <thead>\n",
              "    <tr style=\"text-align: right;\">\n",
              "      <th></th>\n",
              "      <th>Quantity Q</th>\n",
              "    </tr>\n",
              "    <tr>\n",
              "      <th>Date</th>\n",
              "      <th></th>\n",
              "    </tr>\n",
              "  </thead>\n",
              "  <tbody>\n",
              "    <tr>\n",
              "      <th>2019-01-01</th>\n",
              "      <td>478.00000</td>\n",
              "    </tr>\n",
              "    <tr>\n",
              "      <th>2019-01-08</th>\n",
              "      <td>452.00000</td>\n",
              "    </tr>\n",
              "    <tr>\n",
              "      <th>2019-01-10</th>\n",
              "      <td>201.00000</td>\n",
              "    </tr>\n",
              "    <tr>\n",
              "      <th>2019-01-15</th>\n",
              "      <td>246.00000</td>\n",
              "    </tr>\n",
              "    <tr>\n",
              "      <th>2019-01-22</th>\n",
              "      <td>811.00000</td>\n",
              "    </tr>\n",
              "    <tr>\n",
              "      <th>...</th>\n",
              "      <td>...</td>\n",
              "    </tr>\n",
              "    <tr>\n",
              "      <th>2020-12-01</th>\n",
              "      <td>355.00000</td>\n",
              "    </tr>\n",
              "    <tr>\n",
              "      <th>2020-12-05</th>\n",
              "      <td>366.80724</td>\n",
              "    </tr>\n",
              "    <tr>\n",
              "      <th>2020-12-08</th>\n",
              "      <td>373.00000</td>\n",
              "    </tr>\n",
              "    <tr>\n",
              "      <th>2020-12-15</th>\n",
              "      <td>398.00000</td>\n",
              "    </tr>\n",
              "    <tr>\n",
              "      <th>2020-12-22</th>\n",
              "      <td>276.00000</td>\n",
              "    </tr>\n",
              "  </tbody>\n",
              "</table>\n",
              "<p>121 rows × 1 columns</p>\n",
              "</div>\n",
              "      <button class=\"colab-df-convert\" onclick=\"convertToInteractive('df-b33cff2e-ed21-48e0-803e-c7941e81a117')\"\n",
              "              title=\"Convert this dataframe to an interactive table.\"\n",
              "              style=\"display:none;\">\n",
              "        \n",
              "  <svg xmlns=\"http://www.w3.org/2000/svg\" height=\"24px\"viewBox=\"0 0 24 24\"\n",
              "       width=\"24px\">\n",
              "    <path d=\"M0 0h24v24H0V0z\" fill=\"none\"/>\n",
              "    <path d=\"M18.56 5.44l.94 2.06.94-2.06 2.06-.94-2.06-.94-.94-2.06-.94 2.06-2.06.94zm-11 1L8.5 8.5l.94-2.06 2.06-.94-2.06-.94L8.5 2.5l-.94 2.06-2.06.94zm10 10l.94 2.06.94-2.06 2.06-.94-2.06-.94-.94-2.06-.94 2.06-2.06.94z\"/><path d=\"M17.41 7.96l-1.37-1.37c-.4-.4-.92-.59-1.43-.59-.52 0-1.04.2-1.43.59L10.3 9.45l-7.72 7.72c-.78.78-.78 2.05 0 2.83L4 21.41c.39.39.9.59 1.41.59.51 0 1.02-.2 1.41-.59l7.78-7.78 2.81-2.81c.8-.78.8-2.07 0-2.86zM5.41 20L4 18.59l7.72-7.72 1.47 1.35L5.41 20z\"/>\n",
              "  </svg>\n",
              "      </button>\n",
              "      \n",
              "  <style>\n",
              "    .colab-df-container {\n",
              "      display:flex;\n",
              "      flex-wrap:wrap;\n",
              "      gap: 12px;\n",
              "    }\n",
              "\n",
              "    .colab-df-convert {\n",
              "      background-color: #E8F0FE;\n",
              "      border: none;\n",
              "      border-radius: 50%;\n",
              "      cursor: pointer;\n",
              "      display: none;\n",
              "      fill: #1967D2;\n",
              "      height: 32px;\n",
              "      padding: 0 0 0 0;\n",
              "      width: 32px;\n",
              "    }\n",
              "\n",
              "    .colab-df-convert:hover {\n",
              "      background-color: #E2EBFA;\n",
              "      box-shadow: 0px 1px 2px rgba(60, 64, 67, 0.3), 0px 1px 3px 1px rgba(60, 64, 67, 0.15);\n",
              "      fill: #174EA6;\n",
              "    }\n",
              "\n",
              "    [theme=dark] .colab-df-convert {\n",
              "      background-color: #3B4455;\n",
              "      fill: #D2E3FC;\n",
              "    }\n",
              "\n",
              "    [theme=dark] .colab-df-convert:hover {\n",
              "      background-color: #434B5C;\n",
              "      box-shadow: 0px 1px 3px 1px rgba(0, 0, 0, 0.15);\n",
              "      filter: drop-shadow(0px 1px 2px rgba(0, 0, 0, 0.3));\n",
              "      fill: #FFFFFF;\n",
              "    }\n",
              "  </style>\n",
              "\n",
              "      <script>\n",
              "        const buttonEl =\n",
              "          document.querySelector('#df-b33cff2e-ed21-48e0-803e-c7941e81a117 button.colab-df-convert');\n",
              "        buttonEl.style.display =\n",
              "          google.colab.kernel.accessAllowed ? 'block' : 'none';\n",
              "\n",
              "        async function convertToInteractive(key) {\n",
              "          const element = document.querySelector('#df-b33cff2e-ed21-48e0-803e-c7941e81a117');\n",
              "          const dataTable =\n",
              "            await google.colab.kernel.invokeFunction('convertToInteractive',\n",
              "                                                     [key], {});\n",
              "          if (!dataTable) return;\n",
              "\n",
              "          const docLinkHtml = 'Like what you see? Visit the ' +\n",
              "            '<a target=\"_blank\" href=https://colab.research.google.com/notebooks/data_table.ipynb>data table notebook</a>'\n",
              "            + ' to learn more about interactive tables.';\n",
              "          element.innerHTML = '';\n",
              "          dataTable['output_type'] = 'display_data';\n",
              "          await google.colab.output.renderOutput(dataTable, element);\n",
              "          const docLink = document.createElement('div');\n",
              "          docLink.innerHTML = docLinkHtml;\n",
              "          element.appendChild(docLink);\n",
              "        }\n",
              "      </script>\n",
              "    </div>\n",
              "  </div>\n",
              "  "
            ]
          },
          "metadata": {},
          "execution_count": 86
        }
      ],
      "source": [
        "sdata = pd.read_csv('RetailDataUnited_Seasonal.csv', index_col=0)\n",
        "sdata"
      ]
    },
    {
      "cell_type": "code",
      "execution_count": 87,
      "id": "E26CHSd1JnIw",
      "metadata": {
        "colab": {
          "base_uri": "https://localhost:8080/"
        },
        "id": "E26CHSd1JnIw",
        "outputId": "48b73bbf-b609-449b-a1ec-ca7e86726ff1"
      },
      "outputs": [
        {
          "output_type": "stream",
          "name": "stdout",
          "text": [
            "                               SARIMAX Results                                \n",
            "==============================================================================\n",
            "Dep. Variable:             Quantity Q   No. Observations:                  121\n",
            "Model:               SARIMAX(0, 0, 1)   Log Likelihood                -873.490\n",
            "Date:                Fri, 17 Jun 2022   AIC                           1750.980\n",
            "Time:                        15:26:48   BIC                           1756.572\n",
            "Sample:                             0   HQIC                          1753.251\n",
            "                                - 121                                         \n",
            "Covariance Type:                  opg                                         \n",
            "==============================================================================\n",
            "                 coef    std err          z      P>|z|      [0.025      0.975]\n",
            "------------------------------------------------------------------------------\n",
            "ma.L1          0.6428      0.075      8.548      0.000       0.495       0.790\n",
            "sigma2      1.086e+05   1.25e+04      8.716      0.000    8.42e+04    1.33e+05\n",
            "===================================================================================\n",
            "Ljung-Box (L1) (Q):                  27.97   Jarque-Bera (JB):                72.26\n",
            "Prob(Q):                              0.00   Prob(JB):                         0.00\n",
            "Heteroskedasticity (H):               0.40   Skew:                             0.83\n",
            "Prob(H) (two-sided):                  0.00   Kurtosis:                         6.41\n",
            "===================================================================================\n",
            "\n",
            "Warnings:\n",
            "[1] Covariance matrix calculated using the outer product of gradients (complex-step).\n"
          ]
        },
        {
          "output_type": "stream",
          "name": "stderr",
          "text": [
            "/usr/local/lib/python3.7/dist-packages/statsmodels/tsa/base/tsa_model.py:471: ValueWarning: A date index has been provided, but it has no associated frequency information and so will be ignored when e.g. forecasting.\n",
            "  self._init_dates(dates, freq)\n",
            "/usr/local/lib/python3.7/dist-packages/statsmodels/tsa/base/tsa_model.py:471: ValueWarning: A date index has been provided, but it has no associated frequency information and so will be ignored when e.g. forecasting.\n",
            "  self._init_dates(dates, freq)\n"
          ]
        }
      ],
      "source": [
        "from statsmodels.tsa.statespace.sarimax import SARIMAX\n",
        "model = SARIMAX(sdata,order=(0, 0, 1), seasonal_order=(0,0,0,12)) \n",
        "res = model.fit(disp=False) \n",
        "print(res.summary()) "
      ]
    },
    {
      "cell_type": "markdown",
      "id": "0YYiGrYOWoN3",
      "metadata": {
        "id": "0YYiGrYOWoN3"
      },
      "source": [
        "Based on the results of this model, both coefficients are statistically significant. Looking into the Ljung-Box coefficient and p-value, the null hypothesis that the errors are white noise can be rejected. Another statistic analyze is the Jarque-Bera. Given that its p-value is 0, the null hypothesis can be rejected. The residuals are not normally distributed."
      ]
    },
    {
      "cell_type": "code",
      "execution_count": 88,
      "id": "UW0hJ2ePfsst",
      "metadata": {
        "colab": {
          "base_uri": "https://localhost:8080/",
          "height": 455
        },
        "id": "UW0hJ2ePfsst",
        "outputId": "3b1d2700-4269-42eb-caec-f3c48abb5a7e"
      },
      "outputs": [
        {
          "output_type": "execute_result",
          "data": {
            "text/plain": [
              "            Quantity Q\n",
              "Date                  \n",
              "2019-01-01   478.00000\n",
              "2019-01-08   452.00000\n",
              "2019-01-10   201.00000\n",
              "2019-01-15   246.00000\n",
              "2019-01-22   811.00000\n",
              "...                ...\n",
              "2020-12-01   355.00000\n",
              "2020-12-05   366.80724\n",
              "2020-12-08   373.00000\n",
              "2020-12-15   398.00000\n",
              "2020-12-22   276.00000\n",
              "\n",
              "[121 rows x 1 columns]"
            ],
            "text/html": [
              "\n",
              "  <div id=\"df-a57feafd-4060-49b9-ba23-832daf0fb906\">\n",
              "    <div class=\"colab-df-container\">\n",
              "      <div>\n",
              "<style scoped>\n",
              "    .dataframe tbody tr th:only-of-type {\n",
              "        vertical-align: middle;\n",
              "    }\n",
              "\n",
              "    .dataframe tbody tr th {\n",
              "        vertical-align: top;\n",
              "    }\n",
              "\n",
              "    .dataframe thead th {\n",
              "        text-align: right;\n",
              "    }\n",
              "</style>\n",
              "<table border=\"1\" class=\"dataframe\">\n",
              "  <thead>\n",
              "    <tr style=\"text-align: right;\">\n",
              "      <th></th>\n",
              "      <th>Quantity Q</th>\n",
              "    </tr>\n",
              "    <tr>\n",
              "      <th>Date</th>\n",
              "      <th></th>\n",
              "    </tr>\n",
              "  </thead>\n",
              "  <tbody>\n",
              "    <tr>\n",
              "      <th>2019-01-01</th>\n",
              "      <td>478.00000</td>\n",
              "    </tr>\n",
              "    <tr>\n",
              "      <th>2019-01-08</th>\n",
              "      <td>452.00000</td>\n",
              "    </tr>\n",
              "    <tr>\n",
              "      <th>2019-01-10</th>\n",
              "      <td>201.00000</td>\n",
              "    </tr>\n",
              "    <tr>\n",
              "      <th>2019-01-15</th>\n",
              "      <td>246.00000</td>\n",
              "    </tr>\n",
              "    <tr>\n",
              "      <th>2019-01-22</th>\n",
              "      <td>811.00000</td>\n",
              "    </tr>\n",
              "    <tr>\n",
              "      <th>...</th>\n",
              "      <td>...</td>\n",
              "    </tr>\n",
              "    <tr>\n",
              "      <th>2020-12-01</th>\n",
              "      <td>355.00000</td>\n",
              "    </tr>\n",
              "    <tr>\n",
              "      <th>2020-12-05</th>\n",
              "      <td>366.80724</td>\n",
              "    </tr>\n",
              "    <tr>\n",
              "      <th>2020-12-08</th>\n",
              "      <td>373.00000</td>\n",
              "    </tr>\n",
              "    <tr>\n",
              "      <th>2020-12-15</th>\n",
              "      <td>398.00000</td>\n",
              "    </tr>\n",
              "    <tr>\n",
              "      <th>2020-12-22</th>\n",
              "      <td>276.00000</td>\n",
              "    </tr>\n",
              "  </tbody>\n",
              "</table>\n",
              "<p>121 rows × 1 columns</p>\n",
              "</div>\n",
              "      <button class=\"colab-df-convert\" onclick=\"convertToInteractive('df-a57feafd-4060-49b9-ba23-832daf0fb906')\"\n",
              "              title=\"Convert this dataframe to an interactive table.\"\n",
              "              style=\"display:none;\">\n",
              "        \n",
              "  <svg xmlns=\"http://www.w3.org/2000/svg\" height=\"24px\"viewBox=\"0 0 24 24\"\n",
              "       width=\"24px\">\n",
              "    <path d=\"M0 0h24v24H0V0z\" fill=\"none\"/>\n",
              "    <path d=\"M18.56 5.44l.94 2.06.94-2.06 2.06-.94-2.06-.94-.94-2.06-.94 2.06-2.06.94zm-11 1L8.5 8.5l.94-2.06 2.06-.94-2.06-.94L8.5 2.5l-.94 2.06-2.06.94zm10 10l.94 2.06.94-2.06 2.06-.94-2.06-.94-.94-2.06-.94 2.06-2.06.94z\"/><path d=\"M17.41 7.96l-1.37-1.37c-.4-.4-.92-.59-1.43-.59-.52 0-1.04.2-1.43.59L10.3 9.45l-7.72 7.72c-.78.78-.78 2.05 0 2.83L4 21.41c.39.39.9.59 1.41.59.51 0 1.02-.2 1.41-.59l7.78-7.78 2.81-2.81c.8-.78.8-2.07 0-2.86zM5.41 20L4 18.59l7.72-7.72 1.47 1.35L5.41 20z\"/>\n",
              "  </svg>\n",
              "      </button>\n",
              "      \n",
              "  <style>\n",
              "    .colab-df-container {\n",
              "      display:flex;\n",
              "      flex-wrap:wrap;\n",
              "      gap: 12px;\n",
              "    }\n",
              "\n",
              "    .colab-df-convert {\n",
              "      background-color: #E8F0FE;\n",
              "      border: none;\n",
              "      border-radius: 50%;\n",
              "      cursor: pointer;\n",
              "      display: none;\n",
              "      fill: #1967D2;\n",
              "      height: 32px;\n",
              "      padding: 0 0 0 0;\n",
              "      width: 32px;\n",
              "    }\n",
              "\n",
              "    .colab-df-convert:hover {\n",
              "      background-color: #E2EBFA;\n",
              "      box-shadow: 0px 1px 2px rgba(60, 64, 67, 0.3), 0px 1px 3px 1px rgba(60, 64, 67, 0.15);\n",
              "      fill: #174EA6;\n",
              "    }\n",
              "\n",
              "    [theme=dark] .colab-df-convert {\n",
              "      background-color: #3B4455;\n",
              "      fill: #D2E3FC;\n",
              "    }\n",
              "\n",
              "    [theme=dark] .colab-df-convert:hover {\n",
              "      background-color: #434B5C;\n",
              "      box-shadow: 0px 1px 3px 1px rgba(0, 0, 0, 0.15);\n",
              "      filter: drop-shadow(0px 1px 2px rgba(0, 0, 0, 0.3));\n",
              "      fill: #FFFFFF;\n",
              "    }\n",
              "  </style>\n",
              "\n",
              "      <script>\n",
              "        const buttonEl =\n",
              "          document.querySelector('#df-a57feafd-4060-49b9-ba23-832daf0fb906 button.colab-df-convert');\n",
              "        buttonEl.style.display =\n",
              "          google.colab.kernel.accessAllowed ? 'block' : 'none';\n",
              "\n",
              "        async function convertToInteractive(key) {\n",
              "          const element = document.querySelector('#df-a57feafd-4060-49b9-ba23-832daf0fb906');\n",
              "          const dataTable =\n",
              "            await google.colab.kernel.invokeFunction('convertToInteractive',\n",
              "                                                     [key], {});\n",
              "          if (!dataTable) return;\n",
              "\n",
              "          const docLinkHtml = 'Like what you see? Visit the ' +\n",
              "            '<a target=\"_blank\" href=https://colab.research.google.com/notebooks/data_table.ipynb>data table notebook</a>'\n",
              "            + ' to learn more about interactive tables.';\n",
              "          element.innerHTML = '';\n",
              "          dataTable['output_type'] = 'display_data';\n",
              "          await google.colab.output.renderOutput(dataTable, element);\n",
              "          const docLink = document.createElement('div');\n",
              "          docLink.innerHTML = docLinkHtml;\n",
              "          element.appendChild(docLink);\n",
              "        }\n",
              "      </script>\n",
              "    </div>\n",
              "  </div>\n",
              "  "
            ]
          },
          "metadata": {},
          "execution_count": 88
        }
      ],
      "source": [
        "ssdata = pd.read_csv('RetailDataUnited_Seasonal.csv', index_col=0, parse_dates=True)\n",
        "ssdata"
      ]
    },
    {
      "cell_type": "code",
      "execution_count": 89,
      "id": "REqNudUSI_yo",
      "metadata": {
        "colab": {
          "base_uri": "https://localhost:8080/",
          "height": 430
        },
        "id": "REqNudUSI_yo",
        "outputId": "3167573f-6b23-42cf-8ad4-3d3c56c731f1"
      },
      "outputs": [
        {
          "output_type": "execute_result",
          "data": {
            "text/plain": [
              "<class 'statsmodels.iolib.summary.Summary'>\n",
              "\"\"\"\n",
              "                               SARIMAX Results                                \n",
              "==============================================================================\n",
              "Dep. Variable:                      y   No. Observations:                  121\n",
              "Model:               SARIMAX(0, 0, 1)   Log Likelihood                -806.575\n",
              "Date:                Fri, 17 Jun 2022   AIC                           1619.151\n",
              "Time:                        15:26:49   BIC                           1627.538\n",
              "Sample:                             0   HQIC                          1622.557\n",
              "                                - 121                                         \n",
              "Covariance Type:                  opg                                         \n",
              "==============================================================================\n",
              "                 coef    std err          z      P>|z|      [0.025      0.975]\n",
              "------------------------------------------------------------------------------\n",
              "intercept    408.4429     30.090     13.574      0.000     349.468     467.418\n",
              "ma.L1          0.1986      0.090      2.214      0.027       0.023       0.374\n",
              "sigma2      3.608e+04   2828.681     12.757      0.000    3.05e+04    4.16e+04\n",
              "===================================================================================\n",
              "Ljung-Box (L1) (Q):                   0.04   Jarque-Bera (JB):               464.94\n",
              "Prob(Q):                              0.85   Prob(JB):                         0.00\n",
              "Heteroskedasticity (H):               0.17   Skew:                             2.26\n",
              "Prob(H) (two-sided):                  0.00   Kurtosis:                        11.48\n",
              "===================================================================================\n",
              "\n",
              "Warnings:\n",
              "[1] Covariance matrix calculated using the outer product of gradients (complex-step).\n",
              "\"\"\""
            ],
            "text/html": [
              "<table class=\"simpletable\">\n",
              "<caption>SARIMAX Results</caption>\n",
              "<tr>\n",
              "  <th>Dep. Variable:</th>           <td>y</td>        <th>  No. Observations:  </th>    <td>121</td>  \n",
              "</tr>\n",
              "<tr>\n",
              "  <th>Model:</th>           <td>SARIMAX(0, 0, 1)</td> <th>  Log Likelihood     </th> <td>-806.575</td>\n",
              "</tr>\n",
              "<tr>\n",
              "  <th>Date:</th>            <td>Fri, 17 Jun 2022</td> <th>  AIC                </th> <td>1619.151</td>\n",
              "</tr>\n",
              "<tr>\n",
              "  <th>Time:</th>                <td>15:26:49</td>     <th>  BIC                </th> <td>1627.538</td>\n",
              "</tr>\n",
              "<tr>\n",
              "  <th>Sample:</th>                  <td>0</td>        <th>  HQIC               </th> <td>1622.557</td>\n",
              "</tr>\n",
              "<tr>\n",
              "  <th></th>                      <td> - 121</td>      <th>                     </th>     <td> </td>   \n",
              "</tr>\n",
              "<tr>\n",
              "  <th>Covariance Type:</th>        <td>opg</td>       <th>                     </th>     <td> </td>   \n",
              "</tr>\n",
              "</table>\n",
              "<table class=\"simpletable\">\n",
              "<tr>\n",
              "      <td></td>         <th>coef</th>     <th>std err</th>      <th>z</th>      <th>P>|z|</th>  <th>[0.025</th>    <th>0.975]</th>  \n",
              "</tr>\n",
              "<tr>\n",
              "  <th>intercept</th> <td>  408.4429</td> <td>   30.090</td> <td>   13.574</td> <td> 0.000</td> <td>  349.468</td> <td>  467.418</td>\n",
              "</tr>\n",
              "<tr>\n",
              "  <th>ma.L1</th>     <td>    0.1986</td> <td>    0.090</td> <td>    2.214</td> <td> 0.027</td> <td>    0.023</td> <td>    0.374</td>\n",
              "</tr>\n",
              "<tr>\n",
              "  <th>sigma2</th>    <td> 3.608e+04</td> <td> 2828.681</td> <td>   12.757</td> <td> 0.000</td> <td> 3.05e+04</td> <td> 4.16e+04</td>\n",
              "</tr>\n",
              "</table>\n",
              "<table class=\"simpletable\">\n",
              "<tr>\n",
              "  <th>Ljung-Box (L1) (Q):</th>     <td>0.04</td> <th>  Jarque-Bera (JB):  </th> <td>464.94</td>\n",
              "</tr>\n",
              "<tr>\n",
              "  <th>Prob(Q):</th>                <td>0.85</td> <th>  Prob(JB):          </th>  <td>0.00</td> \n",
              "</tr>\n",
              "<tr>\n",
              "  <th>Heteroskedasticity (H):</th> <td>0.17</td> <th>  Skew:              </th>  <td>2.26</td> \n",
              "</tr>\n",
              "<tr>\n",
              "  <th>Prob(H) (two-sided):</th>    <td>0.00</td> <th>  Kurtosis:          </th>  <td>11.48</td>\n",
              "</tr>\n",
              "</table><br/><br/>Warnings:<br/>[1] Covariance matrix calculated using the outer product of gradients (complex-step)."
            ]
          },
          "metadata": {},
          "execution_count": 89
        }
      ],
      "source": [
        "import pmdarima as pm\n",
        "autoarima = pm.auto_arima(ssdata) \n",
        "autoarima.summary() "
      ]
    },
    {
      "cell_type": "markdown",
      "id": "HOpo5uEzXv91",
      "metadata": {
        "id": "HOpo5uEzXv91"
      },
      "source": [
        "Based on the results of this model, both coefficients are statistically significant. Looking into the Ljung-Box coefficient and p-value, the null hypothesis that the errors are white noise can be rejected. Another statistic analyze is the Jarque-Bera. Given that its p-value is 0, the null hypothesis can be rejected. The residuals are not normally distributed."
      ]
    }
  ],
  "metadata": {
    "colab": {
      "collapsed_sections": [],
      "name": "Econometric Regression Diagnostics and Time Series Analysis with Python.ipynb",
      "provenance": []
    },
    "kernelspec": {
      "display_name": "Python 3 (ipykernel)",
      "language": "python",
      "name": "python3"
    },
    "language_info": {
      "codemirror_mode": {
        "name": "ipython",
        "version": 3
      },
      "file_extension": ".py",
      "mimetype": "text/x-python",
      "name": "python",
      "nbconvert_exporter": "python",
      "pygments_lexer": "ipython3",
      "version": "3.9.7"
    }
  },
  "nbformat": 4,
  "nbformat_minor": 5
}